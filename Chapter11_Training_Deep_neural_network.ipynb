{
  "nbformat": 4,
  "nbformat_minor": 0,
  "metadata": {
    "colab": {
      "name": "Chapter11_Training_Deep_neural_network.ipynb",
      "provenance": []
    },
    "kernelspec": {
      "name": "python3",
      "display_name": "Python 3"
    },
    "language_info": {
      "name": "python"
    },
    "accelerator": "GPU"
  },
  "cells": [
    {
      "cell_type": "code",
      "execution_count": 1,
      "metadata": {
        "id": "WsimFxxXucvf"
      },
      "outputs": [],
      "source": [
        "import sys\n",
        "assert sys.version_info >= (3, 5)\n",
        "\n",
        "# Scikit-Learn ≥0.20 is required\n",
        "import sklearn\n",
        "assert sklearn.__version__ >= \"0.20\"\n",
        "\n",
        "try:\n",
        "    # %tensorflow_version only exists in Colab.\n",
        "    %tensorflow_version 2.x\n",
        "except Exception:\n",
        "    pass\n",
        "\n",
        "# TensorFlow ≥2.0 is required\n",
        "import tensorflow as tf\n",
        "from tensorflow import keras\n",
        "assert tf.__version__ >= \"2.0\"\n",
        "\n",
        "%load_ext tensorboard\n",
        "\n",
        "# Common imports\n",
        "import numpy as np\n",
        "import os\n",
        "\n",
        "# to make this notebook's output stable across runs\n",
        "np.random.seed(42)\n",
        "\n",
        "# To plot pretty figures\n",
        "%matplotlib inline\n",
        "import matplotlib as mpl\n",
        "import matplotlib.pyplot as plt\n",
        "mpl.rc('axes', labelsize=14)\n",
        "mpl.rc('xtick', labelsize=12)\n",
        "mpl.rc('ytick', labelsize=12)\n",
        "\n",
        "# Where to save the figures\n",
        "PROJECT_ROOT_DIR = \".\"\n",
        "CHAPTER_ID = \"deep\"\n",
        "IMAGES_PATH = os.path.join(PROJECT_ROOT_DIR, \"images\", CHAPTER_ID)\n",
        "os.makedirs(IMAGES_PATH, exist_ok=True)\n",
        "\n",
        "def save_fig(fig_id, tight_layout=True, fig_extension=\"png\", resolution=300):\n",
        "    path = os.path.join(IMAGES_PATH, fig_id + \".\" + fig_extension)\n",
        "    print(\"Saving figure\", fig_id)\n",
        "    if tight_layout:\n",
        "        plt.tight_layout()\n",
        "    plt.savefig(path, format=fig_extension, dpi=resolution)"
      ]
    },
    {
      "cell_type": "code",
      "source": [
        "def logit(z):\n",
        "    return 1 / (1 + np.exp(-z))"
      ],
      "metadata": {
        "id": "JRCzAA05v203"
      },
      "execution_count": 2,
      "outputs": []
    },
    {
      "cell_type": "code",
      "source": [
        "z = np.linspace(-5, 5, 200)\n",
        "\n",
        "plt.plot([-5, 5], [0, 0], 'k-')\n",
        "plt.plot([-5, 5], [1, 1], 'k--')\n",
        "plt.plot([0, 0], [-0.2, 1.2], 'k-')\n",
        "plt.plot([-5, 5], [-3/4, 7/4], 'g--')\n",
        "plt.plot(z, logit(z), \"b-\", linewidth=2)\n",
        "props = dict(facecolor='black', shrink=0.1)\n",
        "plt.annotate('Saturating', xytext=(3.5, 0.7), xy=(5, 1), arrowprops=props, fontsize=14, ha=\"center\")\n",
        "plt.annotate('Saturating', xytext=(-3.5, 0.3), xy=(-5, 0), arrowprops=props, fontsize=14, ha=\"center\")\n",
        "plt.annotate('Linear', xytext=(2, 0.2), xy=(0, 0.5), arrowprops=props, fontsize=14, ha=\"center\")\n",
        "plt.grid(True)\n",
        "plt.title(\"Sigmoid activation function\", fontsize=14)\n",
        "plt.axis([-5, 5, -0.2, 1.2])\n",
        "\n",
        "save_fig(\"sigmoid_saturation_plot\")\n",
        "plt.show()"
      ],
      "metadata": {
        "colab": {
          "base_uri": "https://localhost:8080/",
          "height": 314
        },
        "id": "TUfLDo_Rv6eS",
        "outputId": "b89d1a9e-caa1-45fe-deac-fb94b82a90d2"
      },
      "execution_count": 3,
      "outputs": [
        {
          "output_type": "stream",
          "name": "stdout",
          "text": [
            "Saving figure sigmoid_saturation_plot\n"
          ]
        },
        {
          "output_type": "display_data",
          "data": {
            "image/png": "[encoded data removed]",
            "text/plain": [
              "<Figure size 432x288 with 1 Axes>"
            ]
          },
          "metadata": {
            "needs_background": "light"
          }
        }
      ]
    },
    {
      "cell_type": "code",
      "source": [
        "[name for name in dir(keras.initializers) if not name.startswith(\"_\")]\n"
      ],
      "metadata": {
        "colab": {
          "base_uri": "https://localhost:8080/"
        },
        "id": "ZTBJVVlAv73S",
        "outputId": "6aba82c7-c4b2-4e3a-b2cb-8a5d2dcf2030"
      },
      "execution_count": null,
      "outputs": [
        {
          "output_type": "execute_result",
          "data": {
            "text/plain": [
              "['Constant',\n",
              " 'GlorotNormal',\n",
              " 'GlorotUniform',\n",
              " 'HeNormal',\n",
              " 'HeUniform',\n",
              " 'Identity',\n",
              " 'Initializer',\n",
              " 'LecunNormal',\n",
              " 'LecunUniform',\n",
              " 'Ones',\n",
              " 'Orthogonal',\n",
              " 'RandomNormal',\n",
              " 'RandomUniform',\n",
              " 'TruncatedNormal',\n",
              " 'VarianceScaling',\n",
              " 'Zeros',\n",
              " 'constant',\n",
              " 'deserialize',\n",
              " 'get',\n",
              " 'glorot_normal',\n",
              " 'glorot_uniform',\n",
              " 'he_normal',\n",
              " 'he_uniform',\n",
              " 'identity',\n",
              " 'lecun_normal',\n",
              " 'lecun_uniform',\n",
              " 'ones',\n",
              " 'orthogonal',\n",
              " 'random_normal',\n",
              " 'random_uniform',\n",
              " 'serialize',\n",
              " 'truncated_normal',\n",
              " 'variance_scaling',\n",
              " 'zeros']"
            ]
          },
          "metadata": {},
          "execution_count": 4
        }
      ]
    },
    {
      "cell_type": "code",
      "source": [
        "keras.layers.Dense(10, activation=\"relu\", kernel_initializer=\"he_normal\")\n"
      ],
      "metadata": {
        "colab": {
          "base_uri": "https://localhost:8080/"
        },
        "id": "4YEVAiTKv9yr",
        "outputId": "b6044f14-c353-4bb4-8112-db1da9de3693"
      },
      "execution_count": null,
      "outputs": [
        {
          "output_type": "execute_result",
          "data": {
            "text/plain": [
              "<keras.layers.core.dense.Dense at 0x7f0e469557d0>"
            ]
          },
          "metadata": {},
          "execution_count": 5
        }
      ]
    },
    {
      "cell_type": "code",
      "source": [
        "init = keras.initializers.VarianceScaling(scale=2., mode='fan_avg',\n",
        "                                          distribution='uniform')\n",
        "keras.layers.Dense(10, activation=\"relu\", kernel_initializer=init)"
      ],
      "metadata": {
        "colab": {
          "base_uri": "https://localhost:8080/"
        },
        "id": "PeS_VaGCv_fq",
        "outputId": "c60a4952-f701-4c8f-9313-0e1b7491e027"
      },
      "execution_count": null,
      "outputs": [
        {
          "output_type": "execute_result",
          "data": {
            "text/plain": [
              "<keras.layers.core.dense.Dense at 0x7f0e469471d0>"
            ]
          },
          "metadata": {},
          "execution_count": 6
        }
      ]
    },
    {
      "cell_type": "markdown",
      "source": [
        "# Nonsaturating Activation Functions\n"
      ],
      "metadata": {
        "id": "QlrYPedHwCRr"
      }
    },
    {
      "cell_type": "markdown",
      "source": [
        "## *** Leaky ReLU\n",
        "Need to try but not all"
      ],
      "metadata": {
        "id": "ubhKyYCAwEQz"
      }
    },
    {
      "cell_type": "code",
      "source": [
        "def leaky_relu(z, alpha=0.01):\n",
        "    return np.maximum(alpha*z, z)"
      ],
      "metadata": {
        "id": "Im2k6eIUwAmz"
      },
      "execution_count": null,
      "outputs": []
    },
    {
      "cell_type": "code",
      "source": [
        "plt.plot(z, leaky_relu(z, 0.05), \"b-\", linewidth=2)\n",
        "plt.plot([-5, 5], [0, 0], 'k-')\n",
        "plt.plot([0, 0], [-0.5, 4.2], 'k-')\n",
        "plt.grid(True)\n",
        "props = dict(facecolor='black', shrink=0.1)\n",
        "plt.annotate('Leak', xytext=(-3.5, 0.5), xy=(-5, -0.2), arrowprops=props, fontsize=14, ha=\"center\")\n",
        "plt.title(\"Leaky ReLU activation function\", fontsize=14)\n",
        "plt.axis([-5, 5, -0.5, 4.2])\n",
        "\n",
        "save_fig(\"leaky_relu_plot\")\n",
        "plt.show()"
      ],
      "metadata": {
        "colab": {
          "base_uri": "https://localhost:8080/",
          "height": 314
        },
        "id": "Awbptjr2wHiU",
        "outputId": "9831724f-1ee0-427f-d18f-a179ce5eb882"
      },
      "execution_count": null,
      "outputs": [
        {
          "output_type": "stream",
          "name": "stdout",
          "text": [
            "Saving figure leaky_relu_plot\n"
          ]
        },
        {
          "output_type": "display_data",
          "data": {
            "image/png": "[encoded data removed]",
            "text/plain": [
              "<Figure size 432x288 with 1 Axes>"
            ]
          },
          "metadata": {
            "needs_background": "light"
          }
        }
      ]
    },
    {
      "cell_type": "code",
      "source": [
        "[m for m in dir(keras.activations) if not m.startswith(\"_\")]\n"
      ],
      "metadata": {
        "colab": {
          "base_uri": "https://localhost:8080/"
        },
        "id": "9jXxvNeEwIrW",
        "outputId": "cc7ed610-3e5a-4f9e-c776-f5ab3b00e65b"
      },
      "execution_count": null,
      "outputs": [
        {
          "output_type": "execute_result",
          "data": {
            "text/plain": [
              "['deserialize',\n",
              " 'elu',\n",
              " 'exponential',\n",
              " 'gelu',\n",
              " 'get',\n",
              " 'hard_sigmoid',\n",
              " 'linear',\n",
              " 'relu',\n",
              " 'selu',\n",
              " 'serialize',\n",
              " 'sigmoid',\n",
              " 'softmax',\n",
              " 'softplus',\n",
              " 'softsign',\n",
              " 'swish',\n",
              " 'tanh']"
            ]
          },
          "metadata": {},
          "execution_count": 9
        }
      ]
    },
    {
      "cell_type": "code",
      "source": [
        "[m for m in dir(keras.layers) if \"relu\" in m.lower()]\n"
      ],
      "metadata": {
        "colab": {
          "base_uri": "https://localhost:8080/"
        },
        "id": "7k0OBmzpwKT7",
        "outputId": "878f576e-d5c4-4278-eed9-6d9ec975be55"
      },
      "execution_count": null,
      "outputs": [
        {
          "output_type": "execute_result",
          "data": {
            "text/plain": [
              "['LeakyReLU', 'PReLU', 'ReLU', 'ThresholdedReLU']"
            ]
          },
          "metadata": {},
          "execution_count": 10
        }
      ]
    },
    {
      "cell_type": "code",
      "source": [
        "(X_train_full, y_train_full), (X_test, y_test) = keras.datasets.fashion_mnist.load_data()\n",
        "X_train_full = X_train_full / 255.0\n",
        "X_test = X_test / 255.0\n",
        "X_valid, X_train = X_train_full[:5000], X_train_full[5000:]\n",
        "y_valid, y_train = y_train_full[:5000], y_train_full[5000:]"
      ],
      "metadata": {
        "colab": {
          "base_uri": "https://localhost:8080/"
        },
        "id": "VLaXBVREwLk9",
        "outputId": "28f2930a-4305-4a43-ecde-22863fef89bb"
      },
      "execution_count": 8,
      "outputs": [
        {
          "output_type": "stream",
          "name": "stdout",
          "text": [
            "Downloading data from https://storage.googleapis.com/tensorflow/tf-keras-datasets/train-labels-idx1-ubyte.gz\n",
            "32768/29515 [=================================] - 0s 0us/step\n",
            "40960/29515 [=========================================] - 0s 0us/step\n",
            "Downloading data from https://storage.googleapis.com/tensorflow/tf-keras-datasets/train-images-idx3-ubyte.gz\n",
            "26427392/26421880 [==============================] - 0s 0us/step\n",
            "26435584/26421880 [==============================] - 0s 0us/step\n",
            "Downloading data from https://storage.googleapis.com/tensorflow/tf-keras-datasets/t10k-labels-idx1-ubyte.gz\n",
            "16384/5148 [===============================================================================================] - 0s 0us/step\n",
            "Downloading data from https://storage.googleapis.com/tensorflow/tf-keras-datasets/t10k-images-idx3-ubyte.gz\n",
            "4423680/4422102 [==============================] - 0s 0us/step\n",
            "4431872/4422102 [==============================] - 0s 0us/step\n"
          ]
        }
      ]
    },
    {
      "cell_type": "markdown",
      "source": [
        "## *** he_normal + Leaky Relu\n",
        "should try"
      ],
      "metadata": {
        "id": "QfWcuOhxwib4"
      }
    },
    {
      "cell_type": "code",
      "source": [
        "tf.random.set_seed(42)\n",
        "np.random.seed(42)\n",
        "\n",
        "model = keras.models.Sequential([\n",
        "    keras.layers.Flatten(input_shape=[28, 28]),\n",
        "    keras.layers.Dense(300, kernel_initializer=\"he_normal\"),\n",
        "    keras.layers.LeakyReLU(),\n",
        "    keras.layers.Dense(100, kernel_initializer=\"he_normal\"),\n",
        "    keras.layers.LeakyReLU(),\n",
        "    keras.layers.Dense(10, activation=\"softmax\")\n",
        "])"
      ],
      "metadata": {
        "id": "1BkHTerewNPM"
      },
      "execution_count": null,
      "outputs": []
    },
    {
      "cell_type": "code",
      "source": [
        "model.compile(loss=\"sparse_categorical_crossentropy\",\n",
        "              optimizer=keras.optimizers.SGD(learning_rate=1e-3),\n",
        "              metrics=[\"accuracy\"])"
      ],
      "metadata": {
        "id": "NjrsbCwFwP_h"
      },
      "execution_count": null,
      "outputs": []
    },
    {
      "cell_type": "code",
      "source": [
        "history = model.fit(X_train, y_train, epochs=10,\n",
        "                    validation_data=(X_valid, y_valid))"
      ],
      "metadata": {
        "colab": {
          "base_uri": "https://localhost:8080/"
        },
        "id": "qYw0LL4AwZnW",
        "outputId": "f9ba6b81-0432-4ab3-bac9-3b3fcf374a02"
      },
      "execution_count": null,
      "outputs": [
        {
          "output_type": "stream",
          "name": "stdout",
          "text": [
            "Epoch 1/10\n",
            "1719/1719 [==============================] - 8s 3ms/step - loss: 1.2819 - accuracy: 0.6229 - val_loss: 0.8886 - val_accuracy: 0.7160\n",
            "Epoch 2/10\n",
            "1719/1719 [==============================] - 6s 3ms/step - loss: 0.7955 - accuracy: 0.7362 - val_loss: 0.7130 - val_accuracy: 0.7656\n",
            "Epoch 3/10\n",
            "1719/1719 [==============================] - 6s 3ms/step - loss: 0.6816 - accuracy: 0.7721 - val_loss: 0.6427 - val_accuracy: 0.7898\n",
            "Epoch 4/10\n",
            "1719/1719 [==============================] - 6s 3ms/step - loss: 0.6217 - accuracy: 0.7944 - val_loss: 0.5900 - val_accuracy: 0.8066\n",
            "Epoch 5/10\n",
            "1719/1719 [==============================] - 7s 4ms/step - loss: 0.5832 - accuracy: 0.8075 - val_loss: 0.5582 - val_accuracy: 0.8198\n",
            "Epoch 6/10\n",
            "1719/1719 [==============================] - 5s 3ms/step - loss: 0.5553 - accuracy: 0.8156 - val_loss: 0.5350 - val_accuracy: 0.8238\n",
            "Epoch 7/10\n",
            "1719/1719 [==============================] - 6s 3ms/step - loss: 0.5338 - accuracy: 0.8224 - val_loss: 0.5156 - val_accuracy: 0.8304\n",
            "Epoch 8/10\n",
            "1719/1719 [==============================] - 8s 4ms/step - loss: 0.5173 - accuracy: 0.8272 - val_loss: 0.5079 - val_accuracy: 0.8286\n",
            "Epoch 9/10\n",
            "1719/1719 [==============================] - 6s 3ms/step - loss: 0.5040 - accuracy: 0.8290 - val_loss: 0.4895 - val_accuracy: 0.8386\n",
            "Epoch 10/10\n",
            "1719/1719 [==============================] - 6s 3ms/step - loss: 0.4924 - accuracy: 0.8320 - val_loss: 0.4817 - val_accuracy: 0.8396\n"
          ]
        }
      ]
    },
    {
      "cell_type": "markdown",
      "source": [
        "## *** he_normal + PRelu\n",
        "should try"
      ],
      "metadata": {
        "id": "9ctW-8nnwmiy"
      }
    },
    {
      "cell_type": "code",
      "source": [
        "tf.random.set_seed(42)\n",
        "np.random.seed(42)\n",
        "\n",
        "model = keras.models.Sequential([\n",
        "    keras.layers.Flatten(input_shape=[28, 28]),\n",
        "    keras.layers.Dense(300, kernel_initializer=\"he_normal\"),\n",
        "    keras.layers.PReLU(),\n",
        "    keras.layers.Dense(100, kernel_initializer=\"he_normal\"),\n",
        "    keras.layers.PReLU(),\n",
        "    keras.layers.Dense(10, activation=\"softmax\")\n",
        "])"
      ],
      "metadata": {
        "id": "kOh2jrP4wasl"
      },
      "execution_count": null,
      "outputs": []
    },
    {
      "cell_type": "code",
      "source": [
        "model.compile(loss=\"sparse_categorical_crossentropy\",\n",
        "              optimizer=keras.optimizers.SGD(learning_rate=1e-3),\n",
        "              metrics=[\"accuracy\"])\n",
        "history = model.fit(X_train, y_train, epochs=10,\n",
        "                    validation_data=(X_valid, y_valid))"
      ],
      "metadata": {
        "colab": {
          "base_uri": "https://localhost:8080/"
        },
        "id": "05D2xJv9we2N",
        "outputId": "6f18cbca-3532-45cf-8589-bf9c1d468bd7"
      },
      "execution_count": null,
      "outputs": [
        {
          "output_type": "stream",
          "name": "stdout",
          "text": [
            "Epoch 1/10\n",
            "1719/1719 [==============================] - 6s 4ms/step - loss: 1.3461 - accuracy: 0.6209 - val_loss: 0.9255 - val_accuracy: 0.7186\n",
            "Epoch 2/10\n",
            "1719/1719 [==============================] - 6s 4ms/step - loss: 0.8197 - accuracy: 0.7355 - val_loss: 0.7305 - val_accuracy: 0.7632\n",
            "Epoch 3/10\n",
            "1719/1719 [==============================] - 6s 4ms/step - loss: 0.6966 - accuracy: 0.7693 - val_loss: 0.6565 - val_accuracy: 0.7878\n",
            "Epoch 4/10\n",
            "1719/1719 [==============================] - 6s 3ms/step - loss: 0.6331 - accuracy: 0.7909 - val_loss: 0.6003 - val_accuracy: 0.8046\n",
            "Epoch 5/10\n",
            "1719/1719 [==============================] - 6s 3ms/step - loss: 0.5917 - accuracy: 0.8056 - val_loss: 0.5656 - val_accuracy: 0.8182\n",
            "Epoch 6/10\n",
            "1719/1719 [==============================] - 6s 3ms/step - loss: 0.5619 - accuracy: 0.8135 - val_loss: 0.5406 - val_accuracy: 0.8238\n",
            "Epoch 7/10\n",
            "1719/1719 [==============================] - 6s 3ms/step - loss: 0.5390 - accuracy: 0.8205 - val_loss: 0.5196 - val_accuracy: 0.8314\n",
            "Epoch 8/10\n",
            "1719/1719 [==============================] - 6s 3ms/step - loss: 0.5213 - accuracy: 0.8257 - val_loss: 0.5113 - val_accuracy: 0.8316\n",
            "Epoch 9/10\n",
            "1719/1719 [==============================] - 6s 4ms/step - loss: 0.5070 - accuracy: 0.8289 - val_loss: 0.4917 - val_accuracy: 0.8380\n",
            "Epoch 10/10\n",
            "1719/1719 [==============================] - 6s 3ms/step - loss: 0.4945 - accuracy: 0.8315 - val_loss: 0.4827 - val_accuracy: 0.8398\n"
          ]
        }
      ]
    },
    {
      "cell_type": "markdown",
      "source": [
        "## ELU\n"
      ],
      "metadata": {
        "id": "0TXDGLZJwrgB"
      }
    },
    {
      "cell_type": "code",
      "source": [
        "def elu(z, alpha=1):\n",
        "    return np.where(z < 0, alpha * (np.exp(z) - 1), z)"
      ],
      "metadata": {
        "id": "Rh5TEQyJwgTJ"
      },
      "execution_count": null,
      "outputs": []
    },
    {
      "cell_type": "code",
      "source": [
        "plt.plot(z, elu(z), \"b-\", linewidth=2)\n",
        "plt.plot([-5, 5], [0, 0], 'k-')\n",
        "plt.plot([-5, 5], [-1, -1], 'k--')\n",
        "plt.plot([0, 0], [-2.2, 3.2], 'k-')\n",
        "plt.grid(True)\n",
        "plt.title(r\"ELU activation function ($\\alpha=1$)\", fontsize=14)\n",
        "plt.axis([-5, 5, -2.2, 3.2])\n",
        "\n",
        "save_fig(\"elu_plot\")\n",
        "plt.show()"
      ],
      "metadata": {
        "colab": {
          "base_uri": "https://localhost:8080/",
          "height": 314
        },
        "id": "BcOj6YS_wt5p",
        "outputId": "68686919-fdb5-4cba-983d-a22a25db0e22"
      },
      "execution_count": null,
      "outputs": [
        {
          "output_type": "stream",
          "name": "stdout",
          "text": [
            "Saving figure elu_plot\n"
          ]
        },
        {
          "output_type": "display_data",
          "data": {
            "image/png": "[encoded data removed]",
            "text/plain": [
              "<Figure size 432x288 with 1 Axes>"
            ]
          },
          "metadata": {
            "needs_background": "light"
          }
        }
      ]
    },
    {
      "cell_type": "code",
      "source": [
        "keras.layers.Dense(10, activation=\"elu\")\n"
      ],
      "metadata": {
        "colab": {
          "base_uri": "https://localhost:8080/"
        },
        "id": "mUNxhqwYwu8v",
        "outputId": "01b8a196-f7b0-47a6-cc0a-21b103b666a2"
      },
      "execution_count": null,
      "outputs": [
        {
          "output_type": "execute_result",
          "data": {
            "text/plain": [
              "<keras.layers.core.dense.Dense at 0x7f0dc85d97d0>"
            ]
          },
          "metadata": {},
          "execution_count": 19
        }
      ]
    },
    {
      "cell_type": "code",
      "source": [
        "from scipy.special import erfc\n",
        "\n",
        "# alpha and scale to self normalize with mean 0 and standard deviation 1\n",
        "# (see equation 14 in the paper):\n",
        "alpha_0_1 = -np.sqrt(2 / np.pi) / (erfc(1/np.sqrt(2)) * np.exp(1/2) - 1)\n",
        "scale_0_1 = (1 - erfc(1 / np.sqrt(2)) * np.sqrt(np.e)) * np.sqrt(2 * np.pi) * (2 * erfc(np.sqrt(2))*np.e**2 + np.pi*erfc(1/np.sqrt(2))**2*np.e - 2*(2+np.pi)*erfc(1/np.sqrt(2))*np.sqrt(np.e)+np.pi+2)**(-1/2)"
      ],
      "metadata": {
        "id": "IohkD0epwx0L"
      },
      "execution_count": null,
      "outputs": []
    },
    {
      "cell_type": "code",
      "source": [
        "def selu(z, scale=scale_0_1, alpha=alpha_0_1):\n",
        "    return scale * elu(z, alpha)"
      ],
      "metadata": {
        "id": "aTVqZHldxEDU"
      },
      "execution_count": null,
      "outputs": []
    },
    {
      "cell_type": "code",
      "source": [
        "plt.plot(z, selu(z), \"b-\", linewidth=2)\n",
        "plt.plot([-5, 5], [0, 0], 'k-')\n",
        "plt.plot([-5, 5], [-1.758, -1.758], 'k--')\n",
        "plt.plot([0, 0], [-2.2, 3.2], 'k-')\n",
        "plt.grid(True)\n",
        "plt.title(\"SELU activation function\", fontsize=14)\n",
        "plt.axis([-5, 5, -2.2, 3.2])\n",
        "\n",
        "save_fig(\"selu_plot\")\n",
        "plt.show()"
      ],
      "metadata": {
        "colab": {
          "base_uri": "https://localhost:8080/",
          "height": 314
        },
        "id": "Q0Z7zkYHxaoH",
        "outputId": "0314de3d-74e0-46cd-83e3-645cf4fab53e"
      },
      "execution_count": null,
      "outputs": [
        {
          "output_type": "stream",
          "name": "stdout",
          "text": [
            "Saving figure selu_plot\n"
          ]
        },
        {
          "output_type": "display_data",
          "data": {
            "image/png": "[encoded data removed]",
            "text/plain": [
              "<Figure size 432x288 with 1 Axes>"
            ]
          },
          "metadata": {
            "needs_background": "light"
          }
        }
      ]
    },
    {
      "cell_type": "code",
      "source": [
        "np.random.seed(42)\n",
        "Z = np.random.normal(size=(500, 100)) # standardized inputs\n",
        "for layer in range(1000):\n",
        "    W = np.random.normal(size=(100, 100), scale=np.sqrt(1 / 100)) # LeCun initialization\n",
        "    Z = selu(np.dot(Z, W))\n",
        "    means = np.mean(Z, axis=0).mean()\n",
        "    stds = np.std(Z, axis=0).mean()\n",
        "    if layer % 100 == 0:\n",
        "        print(\"Layer {}: mean {:.2f}, std deviation {:.2f}\".format(layer, means, stds))"
      ],
      "metadata": {
        "colab": {
          "base_uri": "https://localhost:8080/"
        },
        "id": "R5G3QSvcxbnI",
        "outputId": "6ec57773-8569-4353-e170-864c4e0c514a"
      },
      "execution_count": null,
      "outputs": [
        {
          "output_type": "stream",
          "name": "stdout",
          "text": [
            "Layer 0: mean -0.00, std deviation 1.00\n",
            "Layer 100: mean 0.02, std deviation 0.96\n",
            "Layer 200: mean 0.01, std deviation 0.90\n",
            "Layer 300: mean -0.02, std deviation 0.92\n",
            "Layer 400: mean 0.05, std deviation 0.89\n",
            "Layer 500: mean 0.01, std deviation 0.93\n",
            "Layer 600: mean 0.02, std deviation 0.92\n",
            "Layer 700: mean -0.02, std deviation 0.90\n",
            "Layer 800: mean 0.05, std deviation 0.83\n",
            "Layer 900: mean 0.02, std deviation 1.00\n"
          ]
        }
      ]
    },
    {
      "cell_type": "code",
      "source": [
        "keras.layers.Dense(10, activation=\"selu\",\n",
        "                   kernel_initializer=\"lecun_normal\")"
      ],
      "metadata": {
        "colab": {
          "base_uri": "https://localhost:8080/"
        },
        "id": "Us1v2Q3mxklx",
        "outputId": "e35abc67-4db3-4adf-c729-c30d7ee016a8"
      },
      "execution_count": null,
      "outputs": [
        {
          "output_type": "execute_result",
          "data": {
            "text/plain": [
              "<keras.layers.core.dense.Dense at 0x7f0dc8598150>"
            ]
          },
          "metadata": {},
          "execution_count": 25
        }
      ]
    },
    {
      "cell_type": "code",
      "source": [
        "np.random.seed(42)\n",
        "tf.random.set_seed(42)"
      ],
      "metadata": {
        "id": "y_qQhoXrxrIp"
      },
      "execution_count": null,
      "outputs": []
    },
    {
      "cell_type": "code",
      "source": [
        "model = keras.models.Sequential()\n",
        "model.add(keras.layers.Flatten(input_shape=[28, 28]))\n",
        "model.add(keras.layers.Dense(300, activation=\"selu\",\n",
        "                             kernel_initializer=\"lecun_normal\"))\n",
        "for layer in range(99):\n",
        "    model.add(keras.layers.Dense(100, activation=\"selu\",\n",
        "                                 kernel_initializer=\"lecun_normal\"))\n",
        "model.add(keras.layers.Dense(10, activation=\"softmax\"))"
      ],
      "metadata": {
        "id": "PRAY6mU4xti6"
      },
      "execution_count": null,
      "outputs": []
    },
    {
      "cell_type": "code",
      "source": [
        "model.compile(loss=\"sparse_categorical_crossentropy\",\n",
        "              optimizer=keras.optimizers.SGD(learning_rate=1e-3),\n",
        "              metrics=[\"accuracy\"])"
      ],
      "metadata": {
        "id": "0AQ_68eMxvK1"
      },
      "execution_count": null,
      "outputs": []
    },
    {
      "cell_type": "code",
      "source": [
        "pixel_means = X_train.mean(axis=0, keepdims=True)\n",
        "pixel_stds = X_train.std(axis=0, keepdims=True)\n",
        "X_train_scaled = (X_train - pixel_means) / pixel_stds\n",
        "X_valid_scaled = (X_valid - pixel_means) / pixel_stds\n",
        "X_test_scaled = (X_test - pixel_means) / pixel_stds"
      ],
      "metadata": {
        "id": "W-CVPpxCxxcE"
      },
      "execution_count": 10,
      "outputs": []
    },
    {
      "cell_type": "code",
      "source": [
        "history = model.fit(X_train_scaled, y_train, epochs=5,\n",
        "                    validation_data=(X_valid_scaled, y_valid))"
      ],
      "metadata": {
        "colab": {
          "base_uri": "https://localhost:8080/"
        },
        "id": "_RdVngHnx0Bb",
        "outputId": "8091b6c9-6560-4046-cdf7-e49e628503a6"
      },
      "execution_count": null,
      "outputs": [
        {
          "output_type": "stream",
          "name": "stdout",
          "text": [
            "Epoch 1/5\n",
            "1719/1719 [==============================] - 29s 15ms/step - loss: 1.7111 - accuracy: 0.3173 - val_loss: 1.1563 - val_accuracy: 0.5248\n",
            "Epoch 2/5\n",
            "1719/1719 [==============================] - 22s 13ms/step - loss: 1.1332 - accuracy: 0.5451 - val_loss: 0.8781 - val_accuracy: 0.6434\n",
            "Epoch 3/5\n",
            "1719/1719 [==============================] - 24s 14ms/step - loss: 0.7941 - accuracy: 0.6988 - val_loss: 0.8461 - val_accuracy: 0.6766\n",
            "Epoch 4/5\n",
            "1719/1719 [==============================] - 23s 14ms/step - loss: 0.6963 - accuracy: 0.7410 - val_loss: 0.6248 - val_accuracy: 0.7734\n",
            "Epoch 5/5\n",
            "1719/1719 [==============================] - 22s 13ms/step - loss: 0.6773 - accuracy: 0.7522 - val_loss: 0.6649 - val_accuracy: 0.7620\n"
          ]
        }
      ]
    },
    {
      "cell_type": "code",
      "source": [
        "np.random.seed(42)\n",
        "tf.random.set_seed(42)"
      ],
      "metadata": {
        "id": "TkVVXnZWx3Vy"
      },
      "execution_count": null,
      "outputs": []
    },
    {
      "cell_type": "code",
      "source": [
        "model = keras.models.Sequential()\n",
        "model.add(keras.layers.Flatten(input_shape=[28, 28]))\n",
        "model.add(keras.layers.Dense(300, activation=\"relu\", kernel_initializer=\"he_normal\"))\n",
        "for layer in range(99):\n",
        "    model.add(keras.layers.Dense(100, activation=\"relu\", kernel_initializer=\"he_normal\"))\n",
        "model.add(keras.layers.Dense(10, activation=\"softmax\"))"
      ],
      "metadata": {
        "id": "bzYBhLQsx6D3"
      },
      "execution_count": null,
      "outputs": []
    },
    {
      "cell_type": "code",
      "source": [
        "model.compile(loss=\"sparse_categorical_crossentropy\",\n",
        "              optimizer=keras.optimizers.SGD(learning_rate=1e-3),\n",
        "              metrics=[\"accuracy\"])"
      ],
      "metadata": {
        "id": "sD4UVoNex7PD"
      },
      "execution_count": null,
      "outputs": []
    },
    {
      "cell_type": "code",
      "source": [
        "history = model.fit(X_train_scaled, y_train, epochs=5,\n",
        "                    validation_data=(X_valid_scaled, y_valid))"
      ],
      "metadata": {
        "colab": {
          "base_uri": "https://localhost:8080/"
        },
        "id": "GYhLHelux8nT",
        "outputId": "9ad7d35e-d869-43ce-e565-36bcc328ceeb"
      },
      "execution_count": null,
      "outputs": [
        {
          "output_type": "stream",
          "name": "stdout",
          "text": [
            "Epoch 1/5\n",
            "1719/1719 [==============================] - 29s 14ms/step - loss: 1.9634 - accuracy: 0.2306 - val_loss: 1.3820 - val_accuracy: 0.4010\n",
            "Epoch 2/5\n",
            "1719/1719 [==============================] - 23s 14ms/step - loss: 1.2428 - accuracy: 0.4734 - val_loss: 0.9038 - val_accuracy: 0.6460\n",
            "Epoch 3/5\n",
            "1719/1719 [==============================] - 24s 14ms/step - loss: 0.9938 - accuracy: 0.6040 - val_loss: 0.9906 - val_accuracy: 0.5726\n",
            "Epoch 4/5\n",
            "1719/1719 [==============================] - 22s 13ms/step - loss: 0.8935 - accuracy: 0.6409 - val_loss: 0.9988 - val_accuracy: 0.5520\n",
            "Epoch 5/5\n",
            "1719/1719 [==============================] - 22s 13ms/step - loss: 0.8251 - accuracy: 0.6640 - val_loss: 0.7534 - val_accuracy: 0.7048\n"
          ]
        }
      ]
    },
    {
      "cell_type": "markdown",
      "source": [
        "## *** Batch Normalization\n",
        "try to increase acc"
      ],
      "metadata": {
        "id": "wHJl_rP4yD2H"
      }
    },
    {
      "cell_type": "code",
      "source": [
        "model = keras.models.Sequential([\n",
        "    keras.layers.Flatten(input_shape=[28, 28]),\n",
        "    keras.layers.BatchNormalization(),\n",
        "    keras.layers.Dense(300, activation=\"relu\"),\n",
        "    keras.layers.BatchNormalization(),\n",
        "    keras.layers.Dense(100, activation=\"relu\"),\n",
        "    keras.layers.BatchNormalization(),\n",
        "    keras.layers.Dense(10, activation=\"softmax\")\n",
        "])"
      ],
      "metadata": {
        "id": "Us_M_e49x9uC"
      },
      "execution_count": null,
      "outputs": []
    },
    {
      "cell_type": "code",
      "source": [
        "model.summary()\n"
      ],
      "metadata": {
        "colab": {
          "base_uri": "https://localhost:8080/"
        },
        "id": "a1TVWGE-yGEt",
        "outputId": "f8232118-0904-4c82-8a48-54b73bc0b3f3"
      },
      "execution_count": null,
      "outputs": [
        {
          "output_type": "stream",
          "name": "stdout",
          "text": [
            "Model: \"sequential_4\"\n",
            "_________________________________________________________________\n",
            " Layer (type)                Output Shape              Param #   \n",
            "=================================================================\n",
            " flatten_4 (Flatten)         (None, 784)               0         \n",
            "                                                                 \n",
            " batch_normalization (BatchN  (None, 784)              3136      \n",
            " ormalization)                                                   \n",
            "                                                                 \n",
            " dense_212 (Dense)           (None, 300)               235500    \n",
            "                                                                 \n",
            " batch_normalization_1 (Batc  (None, 300)              1200      \n",
            " hNormalization)                                                 \n",
            "                                                                 \n",
            " dense_213 (Dense)           (None, 100)               30100     \n",
            "                                                                 \n",
            " batch_normalization_2 (Batc  (None, 100)              400       \n",
            " hNormalization)                                                 \n",
            "                                                                 \n",
            " dense_214 (Dense)           (None, 10)                1010      \n",
            "                                                                 \n",
            "=================================================================\n",
            "Total params: 271,346\n",
            "Trainable params: 268,978\n",
            "Non-trainable params: 2,368\n",
            "_________________________________________________________________\n"
          ]
        }
      ]
    },
    {
      "cell_type": "code",
      "source": [
        "bn1 = model.layers[1]\n",
        "[(var.name, var.trainable) for var in bn1.variables]"
      ],
      "metadata": {
        "colab": {
          "base_uri": "https://localhost:8080/"
        },
        "id": "t7nGwcsnyHwm",
        "outputId": "9e142d71-5931-4845-e608-b2e6bda7b55f"
      },
      "execution_count": null,
      "outputs": [
        {
          "output_type": "execute_result",
          "data": {
            "text/plain": [
              "[('batch_normalization/gamma:0', True),\n",
              " ('batch_normalization/beta:0', True),\n",
              " ('batch_normalization/moving_mean:0', False),\n",
              " ('batch_normalization/moving_variance:0', False)]"
            ]
          },
          "metadata": {},
          "execution_count": 37
        }
      ]
    },
    {
      "cell_type": "code",
      "source": [
        "model.compile(loss=\"sparse_categorical_crossentropy\",\n",
        "              optimizer=keras.optimizers.SGD(learning_rate=1e-3),\n",
        "              metrics=[\"accuracy\"])"
      ],
      "metadata": {
        "id": "PZPi1dJcyI81"
      },
      "execution_count": null,
      "outputs": []
    },
    {
      "cell_type": "code",
      "source": [
        "history = model.fit(X_train, y_train, epochs=10,\n",
        "                    validation_data=(X_valid, y_valid))"
      ],
      "metadata": {
        "colab": {
          "base_uri": "https://localhost:8080/"
        },
        "id": "0X_SSx2LyNgQ",
        "outputId": "17c9dbe3-f4f3-4803-a72b-4187b47cec1c"
      },
      "execution_count": null,
      "outputs": [
        {
          "output_type": "stream",
          "name": "stdout",
          "text": [
            "Epoch 1/10\n",
            "1719/1719 [==============================] - 10s 5ms/step - loss: 0.8750 - accuracy: 0.7123 - val_loss: 0.5525 - val_accuracy: 0.8232\n",
            "Epoch 2/10\n",
            "1719/1719 [==============================] - 9s 5ms/step - loss: 0.5753 - accuracy: 0.8030 - val_loss: 0.4725 - val_accuracy: 0.8470\n",
            "Epoch 3/10\n",
            "1719/1719 [==============================] - 8s 5ms/step - loss: 0.5189 - accuracy: 0.8205 - val_loss: 0.4376 - val_accuracy: 0.8550\n",
            "Epoch 4/10\n",
            "1719/1719 [==============================] - 9s 5ms/step - loss: 0.4827 - accuracy: 0.8324 - val_loss: 0.4153 - val_accuracy: 0.8598\n",
            "Epoch 5/10\n",
            "1719/1719 [==============================] - 9s 5ms/step - loss: 0.4565 - accuracy: 0.8407 - val_loss: 0.3997 - val_accuracy: 0.8632\n",
            "Epoch 6/10\n",
            "1719/1719 [==============================] - 8s 5ms/step - loss: 0.4398 - accuracy: 0.8474 - val_loss: 0.3867 - val_accuracy: 0.8696\n",
            "Epoch 7/10\n",
            "1719/1719 [==============================] - 8s 5ms/step - loss: 0.4242 - accuracy: 0.8513 - val_loss: 0.3762 - val_accuracy: 0.8708\n",
            "Epoch 8/10\n",
            "1719/1719 [==============================] - 8s 5ms/step - loss: 0.4143 - accuracy: 0.8541 - val_loss: 0.3712 - val_accuracy: 0.8740\n",
            "Epoch 9/10\n",
            "1719/1719 [==============================] - 9s 5ms/step - loss: 0.4023 - accuracy: 0.8581 - val_loss: 0.3631 - val_accuracy: 0.8752\n",
            "Epoch 10/10\n",
            "1719/1719 [==============================] - 8s 5ms/step - loss: 0.3914 - accuracy: 0.8624 - val_loss: 0.3573 - val_accuracy: 0.8756\n"
          ]
        }
      ]
    },
    {
      "cell_type": "code",
      "source": [
        "model = keras.models.Sequential([\n",
        "    keras.layers.Flatten(input_shape=[28, 28]),\n",
        "    keras.layers.BatchNormalization(),\n",
        "    keras.layers.Dense(300, use_bias=False),\n",
        "    keras.layers.BatchNormalization(),\n",
        "    keras.layers.Activation(\"relu\"),\n",
        "    keras.layers.Dense(100, use_bias=False),\n",
        "    keras.layers.BatchNormalization(),\n",
        "    keras.layers.Activation(\"relu\"),\n",
        "    keras.layers.Dense(10, activation=\"softmax\")\n",
        "])"
      ],
      "metadata": {
        "id": "Atl9uY2VyOr4"
      },
      "execution_count": null,
      "outputs": []
    },
    {
      "cell_type": "code",
      "source": [
        "model.compile(loss=\"sparse_categorical_crossentropy\",\n",
        "              optimizer=keras.optimizers.SGD(learning_rate=1e-3),\n",
        "              metrics=[\"accuracy\"])\n",
        "history = model.fit(X_train, y_train, epochs=10,\n",
        "                    validation_data=(X_valid, y_valid))\n"
      ],
      "metadata": {
        "colab": {
          "base_uri": "https://localhost:8080/"
        },
        "id": "M-sYi6q2yft6",
        "outputId": "8fa53fa1-fd91-47b7-ff7e-2a13eaba3f40"
      },
      "execution_count": null,
      "outputs": [
        {
          "output_type": "stream",
          "name": "stdout",
          "text": [
            "Epoch 1/10\n",
            "1719/1719 [==============================] - 9s 5ms/step - loss: 1.0347 - accuracy: 0.6824 - val_loss: 0.6709 - val_accuracy: 0.7908\n",
            "Epoch 2/10\n",
            "1719/1719 [==============================] - 8s 5ms/step - loss: 0.6714 - accuracy: 0.7843 - val_loss: 0.5484 - val_accuracy: 0.8188\n",
            "Epoch 3/10\n",
            "1719/1719 [==============================] - 8s 5ms/step - loss: 0.5900 - accuracy: 0.8048 - val_loss: 0.4937 - val_accuracy: 0.8328\n",
            "Epoch 4/10\n",
            "1719/1719 [==============================] - 8s 5ms/step - loss: 0.5395 - accuracy: 0.8185 - val_loss: 0.4611 - val_accuracy: 0.8440\n",
            "Epoch 5/10\n",
            "1719/1719 [==============================] - 8s 5ms/step - loss: 0.5065 - accuracy: 0.8274 - val_loss: 0.4381 - val_accuracy: 0.8498\n",
            "Epoch 6/10\n",
            "1719/1719 [==============================] - 8s 5ms/step - loss: 0.4853 - accuracy: 0.8333 - val_loss: 0.4212 - val_accuracy: 0.8558\n",
            "Epoch 7/10\n",
            "1719/1719 [==============================] - 8s 5ms/step - loss: 0.4696 - accuracy: 0.8387 - val_loss: 0.4085 - val_accuracy: 0.8584\n",
            "Epoch 8/10\n",
            "1719/1719 [==============================] - 8s 5ms/step - loss: 0.4550 - accuracy: 0.8420 - val_loss: 0.3981 - val_accuracy: 0.8636\n",
            "Epoch 9/10\n",
            "1719/1719 [==============================] - 8s 5ms/step - loss: 0.4413 - accuracy: 0.8479 - val_loss: 0.3893 - val_accuracy: 0.8644\n",
            "Epoch 10/10\n",
            "1719/1719 [==============================] - 8s 5ms/step - loss: 0.4309 - accuracy: 0.8514 - val_loss: 0.3807 - val_accuracy: 0.8660\n"
          ]
        }
      ]
    },
    {
      "cell_type": "markdown",
      "source": [
        "## *** Gradient Clipping\n",
        "back prop, should try to increase acc"
      ],
      "metadata": {
        "id": "VWCJSxJ_3q2J"
      }
    },
    {
      "cell_type": "code",
      "source": [
        "optimizer = keras.optimizers.SGD(clipvalue=1.0)\n",
        "model = keras.models.Sequential([\n",
        "    keras.layers.Flatten(input_shape=[28, 28]),\n",
        "    keras.layers.BatchNormalization(),\n",
        "    keras.layers.Dense(300, use_bias=False),\n",
        "    keras.layers.BatchNormalization(),\n",
        "    keras.layers.Activation(\"relu\"),\n",
        "    keras.layers.Dense(100, use_bias=False),\n",
        "    keras.layers.BatchNormalization(),\n",
        "    keras.layers.Activation(\"relu\"),\n",
        "    keras.layers.Dense(10, activation=\"softmax\")\n",
        "])\n",
        "model.compile(loss=\"sparse_categorical_crossentropy\",\n",
        "              optimizer=optimizer,\n",
        "              metrics=[\"accuracy\"])\n",
        "history = model.fit(X_train, y_train, epochs=10,\n",
        "                    validation_data=(X_valid, y_valid))"
      ],
      "metadata": {
        "colab": {
          "base_uri": "https://localhost:8080/"
        },
        "id": "I1Ddu1cuyo80",
        "outputId": "f921c67c-e1f8-4f49-8f35-cb50dfe0e1ec"
      },
      "execution_count": null,
      "outputs": [
        {
          "output_type": "stream",
          "name": "stdout",
          "text": [
            "Epoch 1/10\n",
            "1719/1719 [==============================] - 11s 6ms/step - loss: 0.5934 - accuracy: 0.8020 - val_loss: 0.3960 - val_accuracy: 0.8652\n",
            "Epoch 2/10\n",
            "1719/1719 [==============================] - 8s 5ms/step - loss: 0.4177 - accuracy: 0.8524 - val_loss: 0.3523 - val_accuracy: 0.8768\n",
            "Epoch 3/10\n",
            "1719/1719 [==============================] - 8s 5ms/step - loss: 0.3775 - accuracy: 0.8655 - val_loss: 0.3378 - val_accuracy: 0.8776\n",
            "Epoch 4/10\n",
            "1719/1719 [==============================] - 8s 5ms/step - loss: 0.3457 - accuracy: 0.8766 - val_loss: 0.3234 - val_accuracy: 0.8840\n",
            "Epoch 5/10\n",
            "1719/1719 [==============================] - 9s 5ms/step - loss: 0.3233 - accuracy: 0.8844 - val_loss: 0.3098 - val_accuracy: 0.8890\n",
            "Epoch 6/10\n",
            "1719/1719 [==============================] - 8s 5ms/step - loss: 0.3075 - accuracy: 0.8885 - val_loss: 0.3086 - val_accuracy: 0.8900\n",
            "Epoch 7/10\n",
            "1719/1719 [==============================] - 9s 5ms/step - loss: 0.2940 - accuracy: 0.8948 - val_loss: 0.3072 - val_accuracy: 0.8884\n",
            "Epoch 8/10\n",
            "1719/1719 [==============================] - 8s 5ms/step - loss: 0.2800 - accuracy: 0.8987 - val_loss: 0.3063 - val_accuracy: 0.8876\n",
            "Epoch 9/10\n",
            "1719/1719 [==============================] - 9s 5ms/step - loss: 0.2668 - accuracy: 0.9031 - val_loss: 0.3021 - val_accuracy: 0.8890\n",
            "Epoch 10/10\n",
            "1719/1719 [==============================] - 9s 5ms/step - loss: 0.2569 - accuracy: 0.9068 - val_loss: 0.2966 - val_accuracy: 0.8946\n"
          ]
        }
      ]
    },
    {
      "cell_type": "code",
      "source": [
        "optimizer = keras.optimizers.SGD(clipnorm=1.0)\n",
        "model = keras.models.Sequential([\n",
        "    keras.layers.Flatten(input_shape=[28, 28]),\n",
        "    keras.layers.BatchNormalization(),\n",
        "    keras.layers.Dense(300, use_bias=False),\n",
        "    keras.layers.BatchNormalization(),\n",
        "    keras.layers.Activation(\"relu\"),\n",
        "    keras.layers.Dense(100, use_bias=False),\n",
        "    keras.layers.BatchNormalization(),\n",
        "    keras.layers.Activation(\"relu\"),\n",
        "    keras.layers.Dense(10, activation=\"softmax\")\n",
        "])\n",
        "model.compile(loss=\"sparse_categorical_crossentropy\",\n",
        "              optimizer=optimizer,\n",
        "              metrics=[\"accuracy\"])\n",
        "history = model.fit(X_train, y_train, epochs=10,\n",
        "                    validation_data=(X_valid, y_valid))"
      ],
      "metadata": {
        "colab": {
          "base_uri": "https://localhost:8080/"
        },
        "id": "zf3IPe2H3sec",
        "outputId": "1b29495c-f982-405d-fff6-7aa67eb397f6"
      },
      "execution_count": null,
      "outputs": [
        {
          "output_type": "stream",
          "name": "stdout",
          "text": [
            "Epoch 1/10\n",
            "1719/1719 [==============================] - 11s 6ms/step - loss: 0.6892 - accuracy: 0.7681 - val_loss: 0.4458 - val_accuracy: 0.8456\n",
            "Epoch 2/10\n",
            "1719/1719 [==============================] - 10s 6ms/step - loss: 0.4579 - accuracy: 0.8382 - val_loss: 0.3923 - val_accuracy: 0.8624\n",
            "Epoch 3/10\n",
            "1719/1719 [==============================] - 10s 6ms/step - loss: 0.4139 - accuracy: 0.8514 - val_loss: 0.3756 - val_accuracy: 0.8638\n",
            "Epoch 4/10\n",
            "1719/1719 [==============================] - 10s 6ms/step - loss: 0.3813 - accuracy: 0.8638 - val_loss: 0.3535 - val_accuracy: 0.8720\n",
            "Epoch 5/10\n",
            "1719/1719 [==============================] - 10s 6ms/step - loss: 0.3606 - accuracy: 0.8711 - val_loss: 0.3430 - val_accuracy: 0.8734\n",
            "Epoch 6/10\n",
            "1719/1719 [==============================] - 10s 6ms/step - loss: 0.3449 - accuracy: 0.8768 - val_loss: 0.3375 - val_accuracy: 0.8788\n",
            "Epoch 7/10\n",
            "1719/1719 [==============================] - 10s 6ms/step - loss: 0.3329 - accuracy: 0.8819 - val_loss: 0.3304 - val_accuracy: 0.8808\n",
            "Epoch 8/10\n",
            "1719/1719 [==============================] - 10s 6ms/step - loss: 0.3214 - accuracy: 0.8849 - val_loss: 0.3248 - val_accuracy: 0.8810\n",
            "Epoch 9/10\n",
            "1719/1719 [==============================] - 10s 6ms/step - loss: 0.3085 - accuracy: 0.8892 - val_loss: 0.3237 - val_accuracy: 0.8820\n",
            "Epoch 10/10\n",
            "1719/1719 [==============================] - 9s 6ms/step - loss: 0.2990 - accuracy: 0.8931 - val_loss: 0.3206 - val_accuracy: 0.8822\n"
          ]
        }
      ]
    },
    {
      "cell_type": "markdown",
      "source": [
        "## Reusing Pretrained Layers\n",
        "try in transfer learning or fine tuning model"
      ],
      "metadata": {
        "id": "TdcCU9Ay4gVS"
      }
    },
    {
      "cell_type": "code",
      "source": [
        "def split_dataset(X, y):\n",
        "    y_5_or_6 = (y == 5) | (y == 6) # sandals or shirts\n",
        "    y_A = y[~y_5_or_6]\n",
        "    y_A[y_A > 6] -= 2 # class indices 7, 8, 9 should be moved to 5, 6, 7\n",
        "    y_B = (y[y_5_or_6] == 6).astype(np.float32) # binary classification task: is it a shirt (class 6)?\n",
        "    return ((X[~y_5_or_6], y_A),\n",
        "            (X[y_5_or_6], y_B))\n",
        "\n",
        "(X_train_A, y_train_A), (X_train_B, y_train_B) = split_dataset(X_train, y_train)\n",
        "(X_valid_A, y_valid_A), (X_valid_B, y_valid_B) = split_dataset(X_valid, y_valid)\n",
        "(X_test_A, y_test_A), (X_test_B, y_test_B) = split_dataset(X_test, y_test)\n",
        "X_train_B = X_train_B[:200]\n",
        "y_train_B = y_train_B[:200]"
      ],
      "metadata": {
        "id": "miqk5_QJ3tVZ"
      },
      "execution_count": null,
      "outputs": []
    },
    {
      "cell_type": "code",
      "source": [
        "X_train_A.shape\n"
      ],
      "metadata": {
        "colab": {
          "base_uri": "https://localhost:8080/"
        },
        "id": "G0FMnaoL9mCA",
        "outputId": "ad3fc83e-e622-4871-b6cc-0d6a65ef1117"
      },
      "execution_count": null,
      "outputs": [
        {
          "output_type": "execute_result",
          "data": {
            "text/plain": [
              "(43986, 28, 28)"
            ]
          },
          "metadata": {},
          "execution_count": 49
        }
      ]
    },
    {
      "cell_type": "code",
      "source": [
        "X_train_B.shape\n"
      ],
      "metadata": {
        "colab": {
          "base_uri": "https://localhost:8080/"
        },
        "id": "Reg-GoAB9n95",
        "outputId": "93439d2c-f2fd-4fce-aa69-fd326fa89490"
      },
      "execution_count": null,
      "outputs": [
        {
          "output_type": "execute_result",
          "data": {
            "text/plain": [
              "(200, 28, 28)"
            ]
          },
          "metadata": {},
          "execution_count": 50
        }
      ]
    },
    {
      "cell_type": "code",
      "source": [
        "y_train_A[:30]\n"
      ],
      "metadata": {
        "colab": {
          "base_uri": "https://localhost:8080/"
        },
        "id": "MDgYQJPW9oyv",
        "outputId": "831c4568-15f7-49c6-d587-43bb9f421151"
      },
      "execution_count": null,
      "outputs": [
        {
          "output_type": "execute_result",
          "data": {
            "text/plain": [
              "array([4, 0, 5, 7, 7, 7, 4, 4, 3, 4, 0, 1, 6, 3, 4, 3, 2, 6, 5, 3, 4, 5,\n",
              "       1, 3, 4, 2, 0, 6, 7, 1], dtype=uint8)"
            ]
          },
          "metadata": {},
          "execution_count": 51
        }
      ]
    },
    {
      "cell_type": "code",
      "source": [
        "y_train_B[:30]\n"
      ],
      "metadata": {
        "colab": {
          "base_uri": "https://localhost:8080/"
        },
        "id": "hITIvuUe9qCQ",
        "outputId": "30adec7b-8418-4e85-cbbd-b9dd4192e633"
      },
      "execution_count": null,
      "outputs": [
        {
          "output_type": "execute_result",
          "data": {
            "text/plain": [
              "array([1., 1., 0., 0., 0., 0., 1., 1., 1., 0., 0., 1., 1., 0., 0., 0., 0.,\n",
              "       0., 0., 1., 1., 0., 0., 1., 1., 0., 1., 1., 1., 1.], dtype=float32)"
            ]
          },
          "metadata": {},
          "execution_count": 52
        }
      ]
    },
    {
      "cell_type": "code",
      "source": [
        "tf.random.set_seed(42)\n",
        "np.random.seed(42)"
      ],
      "metadata": {
        "id": "BcOC0_209rWh"
      },
      "execution_count": null,
      "outputs": []
    },
    {
      "cell_type": "code",
      "source": [
        "model_A = keras.models.Sequential()\n",
        "model_A.add(keras.layers.Flatten(input_shape=[28, 28]))\n",
        "for n_hidden in (300, 100, 50, 50, 50):\n",
        "    model_A.add(keras.layers.Dense(n_hidden, activation=\"selu\"))\n",
        "model_A.add(keras.layers.Dense(8, activation=\"softmax\"))"
      ],
      "metadata": {
        "id": "5CA6vl7D9sip"
      },
      "execution_count": null,
      "outputs": []
    },
    {
      "cell_type": "code",
      "source": [
        "model_A.compile(loss=\"sparse_categorical_crossentropy\",\n",
        "                optimizer=keras.optimizers.SGD(learning_rate=1e-3),\n",
        "                metrics=[\"accuracy\"])"
      ],
      "metadata": {
        "id": "bZL346ee9tm5"
      },
      "execution_count": null,
      "outputs": []
    },
    {
      "cell_type": "code",
      "source": [
        "history = model_A.fit(X_train_A, y_train_A, epochs=20,\n",
        "                    validation_data=(X_valid_A, y_valid_A))"
      ],
      "metadata": {
        "colab": {
          "base_uri": "https://localhost:8080/"
        },
        "id": "mXCJgYzU939Z",
        "outputId": "a082458a-f7fc-4372-bd76-a082e797729a"
      },
      "execution_count": null,
      "outputs": [
        {
          "output_type": "stream",
          "name": "stdout",
          "text": [
            "Epoch 1/20\n",
            "1375/1375 [==============================] - 6s 4ms/step - loss: 0.5926 - accuracy: 0.8103 - val_loss: 0.3890 - val_accuracy: 0.8677\n",
            "Epoch 2/20\n",
            "1375/1375 [==============================] - 5s 3ms/step - loss: 0.3523 - accuracy: 0.8786 - val_loss: 0.3288 - val_accuracy: 0.8822\n",
            "Epoch 3/20\n",
            "1375/1375 [==============================] - 5s 4ms/step - loss: 0.3170 - accuracy: 0.8896 - val_loss: 0.3013 - val_accuracy: 0.8991\n",
            "Epoch 4/20\n",
            "1375/1375 [==============================] - 5s 4ms/step - loss: 0.2973 - accuracy: 0.8974 - val_loss: 0.2893 - val_accuracy: 0.9021\n",
            "Epoch 5/20\n",
            "1375/1375 [==============================] - 5s 4ms/step - loss: 0.2834 - accuracy: 0.9019 - val_loss: 0.2775 - val_accuracy: 0.9066\n",
            "Epoch 6/20\n",
            "1375/1375 [==============================] - 5s 4ms/step - loss: 0.2729 - accuracy: 0.9062 - val_loss: 0.2733 - val_accuracy: 0.9063\n",
            "Epoch 7/20\n",
            "1375/1375 [==============================] - 5s 4ms/step - loss: 0.2641 - accuracy: 0.9093 - val_loss: 0.2720 - val_accuracy: 0.9088\n",
            "Epoch 8/20\n",
            "1375/1375 [==============================] - 5s 3ms/step - loss: 0.2572 - accuracy: 0.9126 - val_loss: 0.2588 - val_accuracy: 0.9143\n",
            "Epoch 9/20\n",
            "1375/1375 [==============================] - 6s 4ms/step - loss: 0.2518 - accuracy: 0.9135 - val_loss: 0.2563 - val_accuracy: 0.9145\n",
            "Epoch 10/20\n",
            "1375/1375 [==============================] - 5s 3ms/step - loss: 0.2469 - accuracy: 0.9154 - val_loss: 0.2542 - val_accuracy: 0.9153\n",
            "Epoch 11/20\n",
            "1375/1375 [==============================] - 5s 3ms/step - loss: 0.2422 - accuracy: 0.9175 - val_loss: 0.2495 - val_accuracy: 0.9148\n",
            "Epoch 12/20\n",
            "1375/1375 [==============================] - 5s 3ms/step - loss: 0.2382 - accuracy: 0.9189 - val_loss: 0.2515 - val_accuracy: 0.9128\n",
            "Epoch 13/20\n",
            "1375/1375 [==============================] - 5s 3ms/step - loss: 0.2350 - accuracy: 0.9197 - val_loss: 0.2444 - val_accuracy: 0.9155\n",
            "Epoch 14/20\n",
            "1375/1375 [==============================] - 5s 3ms/step - loss: 0.2315 - accuracy: 0.9212 - val_loss: 0.2415 - val_accuracy: 0.9170\n",
            "Epoch 15/20\n",
            "1375/1375 [==============================] - 5s 4ms/step - loss: 0.2287 - accuracy: 0.9214 - val_loss: 0.2451 - val_accuracy: 0.9188\n",
            "Epoch 16/20\n",
            "1375/1375 [==============================] - 5s 4ms/step - loss: 0.2254 - accuracy: 0.9223 - val_loss: 0.2387 - val_accuracy: 0.9195\n",
            "Epoch 17/20\n",
            "1375/1375 [==============================] - 5s 3ms/step - loss: 0.2230 - accuracy: 0.9235 - val_loss: 0.2409 - val_accuracy: 0.9183\n",
            "Epoch 18/20\n",
            "1375/1375 [==============================] - 5s 3ms/step - loss: 0.2201 - accuracy: 0.9245 - val_loss: 0.2428 - val_accuracy: 0.9148\n",
            "Epoch 19/20\n",
            "1375/1375 [==============================] - 5s 3ms/step - loss: 0.2178 - accuracy: 0.9250 - val_loss: 0.2330 - val_accuracy: 0.9195\n",
            "Epoch 20/20\n",
            "1375/1375 [==============================] - 5s 4ms/step - loss: 0.2156 - accuracy: 0.9261 - val_loss: 0.2336 - val_accuracy: 0.9213\n"
          ]
        }
      ]
    },
    {
      "cell_type": "code",
      "source": [
        "model_A.save(\"my_model_A.h5\")\n"
      ],
      "metadata": {
        "id": "6L9C2R09947h"
      },
      "execution_count": null,
      "outputs": []
    },
    {
      "cell_type": "code",
      "source": [
        "model_B = keras.models.Sequential()\n",
        "model_B.add(keras.layers.Flatten(input_shape=[28, 28]))\n",
        "for n_hidden in (300, 100, 50, 50, 50):\n",
        "    model_B.add(keras.layers.Dense(n_hidden, activation=\"selu\"))\n",
        "model_B.add(keras.layers.Dense(1, activation=\"sigmoid\"))"
      ],
      "metadata": {
        "id": "9wsydqXd98Vh"
      },
      "execution_count": null,
      "outputs": []
    },
    {
      "cell_type": "code",
      "source": [
        "model_B.compile(loss=\"binary_crossentropy\",\n",
        "                optimizer=keras.optimizers.SGD(learning_rate=1e-3),\n",
        "                metrics=[\"accuracy\"])"
      ],
      "metadata": {
        "id": "SJQNOZAh9-I7"
      },
      "execution_count": null,
      "outputs": []
    },
    {
      "cell_type": "code",
      "source": [
        "history = model_B.fit(X_train_B, y_train_B, epochs=20,\n",
        "                      validation_data=(X_valid_B, y_valid_B))"
      ],
      "metadata": {
        "colab": {
          "base_uri": "https://localhost:8080/"
        },
        "id": "NZfjirsC9_8X",
        "outputId": "72aeaffd-8abd-417f-b0d1-764d7358b0d9"
      },
      "execution_count": null,
      "outputs": [
        {
          "output_type": "stream",
          "name": "stdout",
          "text": [
            "Epoch 1/20\n",
            "7/7 [==============================] - 1s 46ms/step - loss: 0.9573 - accuracy: 0.4650 - val_loss: 0.6314 - val_accuracy: 0.6004\n",
            "Epoch 2/20\n",
            "7/7 [==============================] - 0s 18ms/step - loss: 0.5692 - accuracy: 0.7450 - val_loss: 0.4784 - val_accuracy: 0.8529\n",
            "Epoch 3/20\n",
            "7/7 [==============================] - 0s 19ms/step - loss: 0.4503 - accuracy: 0.8650 - val_loss: 0.4102 - val_accuracy: 0.8945\n",
            "Epoch 4/20\n",
            "7/7 [==============================] - 0s 31ms/step - loss: 0.3879 - accuracy: 0.8950 - val_loss: 0.3647 - val_accuracy: 0.9178\n",
            "Epoch 5/20\n",
            "7/7 [==============================] - 0s 47ms/step - loss: 0.3435 - accuracy: 0.9250 - val_loss: 0.3300 - val_accuracy: 0.9320\n",
            "Epoch 6/20\n",
            "7/7 [==============================] - 0s 38ms/step - loss: 0.3081 - accuracy: 0.9300 - val_loss: 0.3019 - val_accuracy: 0.9402\n",
            "Epoch 7/20\n",
            "7/7 [==============================] - 0s 19ms/step - loss: 0.2800 - accuracy: 0.9350 - val_loss: 0.2804 - val_accuracy: 0.9422\n",
            "Epoch 8/20\n",
            "7/7 [==============================] - 0s 17ms/step - loss: 0.2564 - accuracy: 0.9450 - val_loss: 0.2606 - val_accuracy: 0.9473\n",
            "Epoch 9/20\n",
            "7/7 [==============================] - 0s 31ms/step - loss: 0.2362 - accuracy: 0.9550 - val_loss: 0.2428 - val_accuracy: 0.9523\n",
            "Epoch 10/20\n",
            "7/7 [==============================] - 0s 31ms/step - loss: 0.2188 - accuracy: 0.9600 - val_loss: 0.2281 - val_accuracy: 0.9544\n",
            "Epoch 11/20\n",
            "7/7 [==============================] - 0s 18ms/step - loss: 0.2036 - accuracy: 0.9700 - val_loss: 0.2150 - val_accuracy: 0.9584\n",
            "Epoch 12/20\n",
            "7/7 [==============================] - 0s 19ms/step - loss: 0.1898 - accuracy: 0.9700 - val_loss: 0.2036 - val_accuracy: 0.9584\n",
            "Epoch 13/20\n",
            "7/7 [==============================] - 0s 19ms/step - loss: 0.1773 - accuracy: 0.9750 - val_loss: 0.1931 - val_accuracy: 0.9615\n",
            "Epoch 14/20\n",
            "7/7 [==============================] - 0s 18ms/step - loss: 0.1668 - accuracy: 0.9800 - val_loss: 0.1838 - val_accuracy: 0.9635\n",
            "Epoch 15/20\n",
            "7/7 [==============================] - 0s 18ms/step - loss: 0.1570 - accuracy: 0.9900 - val_loss: 0.1746 - val_accuracy: 0.9686\n",
            "Epoch 16/20\n",
            "7/7 [==============================] - 0s 19ms/step - loss: 0.1481 - accuracy: 0.9900 - val_loss: 0.1674 - val_accuracy: 0.9686\n",
            "Epoch 17/20\n",
            "7/7 [==============================] - 0s 20ms/step - loss: 0.1406 - accuracy: 0.9900 - val_loss: 0.1604 - val_accuracy: 0.9706\n",
            "Epoch 18/20\n",
            "7/7 [==============================] - 0s 19ms/step - loss: 0.1334 - accuracy: 0.9900 - val_loss: 0.1539 - val_accuracy: 0.9706\n",
            "Epoch 19/20\n",
            "7/7 [==============================] - 0s 32ms/step - loss: 0.1268 - accuracy: 0.9900 - val_loss: 0.1482 - val_accuracy: 0.9716\n",
            "Epoch 20/20\n",
            "7/7 [==============================] - 0s 31ms/step - loss: 0.1208 - accuracy: 0.9900 - val_loss: 0.1431 - val_accuracy: 0.9716\n"
          ]
        }
      ]
    },
    {
      "cell_type": "code",
      "source": [
        "model_B.summary()\n"
      ],
      "metadata": {
        "colab": {
          "base_uri": "https://localhost:8080/"
        },
        "id": "BBRzh5UR-DpK",
        "outputId": "b2d773ad-ac19-4414-dd35-7881d6a3e81e"
      },
      "execution_count": null,
      "outputs": [
        {
          "output_type": "stream",
          "name": "stdout",
          "text": [
            "Model: \"sequential_10\"\n",
            "_________________________________________________________________\n",
            " Layer (type)                Output Shape              Param #   \n",
            "=================================================================\n",
            " flatten_10 (Flatten)        (None, 784)               0         \n",
            "                                                                 \n",
            " dense_233 (Dense)           (None, 300)               235500    \n",
            "                                                                 \n",
            " dense_234 (Dense)           (None, 100)               30100     \n",
            "                                                                 \n",
            " dense_235 (Dense)           (None, 50)                5050      \n",
            "                                                                 \n",
            " dense_236 (Dense)           (None, 50)                2550      \n",
            "                                                                 \n",
            " dense_237 (Dense)           (None, 50)                2550      \n",
            "                                                                 \n",
            " dense_238 (Dense)           (None, 1)                 51        \n",
            "                                                                 \n",
            "=================================================================\n",
            "Total params: 275,801\n",
            "Trainable params: 275,801\n",
            "Non-trainable params: 0\n",
            "_________________________________________________________________\n"
          ]
        }
      ]
    },
    {
      "cell_type": "code",
      "source": [
        "model_A = keras.models.load_model(\"my_model_A.h5\")\n",
        "model_B_on_A = keras.models.Sequential(model_A.layers[:-1])\n",
        "model_B_on_A.add(keras.layers.Dense(1, activation=\"sigmoid\"))"
      ],
      "metadata": {
        "id": "0E5Bw5MT-Emj"
      },
      "execution_count": null,
      "outputs": []
    },
    {
      "cell_type": "code",
      "source": [
        "model_A_clone = keras.models.clone_model(model_A)\n",
        "model_A_clone.set_weights(model_A.get_weights())\n",
        "model_B_on_A = keras.models.Sequential(model_A_clone.layers[:-1])\n",
        "model_B_on_A.add(keras.layers.Dense(1, activation=\"sigmoid\"))"
      ],
      "metadata": {
        "id": "URUkVFTS-RcD"
      },
      "execution_count": null,
      "outputs": []
    },
    {
      "cell_type": "code",
      "source": [
        "for layer in model_B_on_A.layers[:-1]:\n",
        "    layer.trainable = False\n",
        "\n",
        "model_B_on_A.compile(loss=\"binary_crossentropy\",\n",
        "                     optimizer=keras.optimizers.SGD(learning_rate=1e-3),\n",
        "                     metrics=[\"accuracy\"])"
      ],
      "metadata": {
        "id": "9A4Rc8Sf-Vdc"
      },
      "execution_count": null,
      "outputs": []
    },
    {
      "cell_type": "code",
      "source": [
        "history = model_B_on_A.fit(X_train_B, y_train_B, epochs=4,\n",
        "                           validation_data=(X_valid_B, y_valid_B))\n",
        "\n",
        "for layer in model_B_on_A.layers[:-1]:\n",
        "    layer.trainable = True\n",
        "\n",
        "model_B_on_A.compile(loss=\"binary_crossentropy\",\n",
        "                     optimizer=keras.optimizers.SGD(learning_rate=1e-3),\n",
        "                     metrics=[\"accuracy\"])\n",
        "history = model_B_on_A.fit(X_train_B, y_train_B, epochs=16,\n",
        "                           validation_data=(X_valid_B, y_valid_B))\n"
      ],
      "metadata": {
        "colab": {
          "base_uri": "https://localhost:8080/"
        },
        "id": "YvkMQR6b-Y89",
        "outputId": "874b6b9a-1fe4-49c9-92eb-1673c45c2a11"
      },
      "execution_count": null,
      "outputs": [
        {
          "output_type": "stream",
          "name": "stdout",
          "text": [
            "Epoch 1/4\n",
            "7/7 [==============================] - 1s 48ms/step - loss: 0.2652 - accuracy: 0.9400 - val_loss: 0.2794 - val_accuracy: 0.9280\n",
            "Epoch 2/4\n",
            "7/7 [==============================] - 0s 30ms/step - loss: 0.2555 - accuracy: 0.9400 - val_loss: 0.2698 - val_accuracy: 0.9310\n",
            "Epoch 3/4\n",
            "7/7 [==============================] - 0s 31ms/step - loss: 0.2462 - accuracy: 0.9400 - val_loss: 0.2611 - val_accuracy: 0.9341\n",
            "Epoch 4/4\n",
            "7/7 [==============================] - 0s 30ms/step - loss: 0.2376 - accuracy: 0.9400 - val_loss: 0.2529 - val_accuracy: 0.9371\n",
            "Epoch 1/16\n",
            "7/7 [==============================] - 1s 49ms/step - loss: 0.2126 - accuracy: 0.9450 - val_loss: 0.2047 - val_accuracy: 0.9635\n",
            "Epoch 2/16\n",
            "7/7 [==============================] - 0s 31ms/step - loss: 0.1701 - accuracy: 0.9550 - val_loss: 0.1723 - val_accuracy: 0.9716\n",
            "Epoch 3/16\n",
            "7/7 [==============================] - 0s 18ms/step - loss: 0.1411 - accuracy: 0.9650 - val_loss: 0.1495 - val_accuracy: 0.9807\n",
            "Epoch 4/16\n",
            "7/7 [==============================] - 0s 31ms/step - loss: 0.1200 - accuracy: 0.9800 - val_loss: 0.1328 - val_accuracy: 0.9828\n",
            "Epoch 5/16\n",
            "7/7 [==============================] - 0s 19ms/step - loss: 0.1048 - accuracy: 0.9900 - val_loss: 0.1203 - val_accuracy: 0.9848\n",
            "Epoch 6/16\n",
            "7/7 [==============================] - 0s 18ms/step - loss: 0.0931 - accuracy: 0.9950 - val_loss: 0.1104 - val_accuracy: 0.9858\n",
            "Epoch 7/16\n",
            "7/7 [==============================] - 0s 20ms/step - loss: 0.0839 - accuracy: 0.9950 - val_loss: 0.1022 - val_accuracy: 0.9858\n",
            "Epoch 8/16\n",
            "7/7 [==============================] - 0s 20ms/step - loss: 0.0764 - accuracy: 0.9950 - val_loss: 0.0955 - val_accuracy: 0.9868\n",
            "Epoch 9/16\n",
            "7/7 [==============================] - 0s 17ms/step - loss: 0.0700 - accuracy: 0.9950 - val_loss: 0.0893 - val_accuracy: 0.9868\n",
            "Epoch 10/16\n",
            "7/7 [==============================] - 0s 18ms/step - loss: 0.0643 - accuracy: 0.9950 - val_loss: 0.0845 - val_accuracy: 0.9888\n",
            "Epoch 11/16\n",
            "7/7 [==============================] - 0s 18ms/step - loss: 0.0598 - accuracy: 0.9950 - val_loss: 0.0801 - val_accuracy: 0.9888\n",
            "Epoch 12/16\n",
            "7/7 [==============================] - 0s 18ms/step - loss: 0.0556 - accuracy: 1.0000 - val_loss: 0.0763 - val_accuracy: 0.9888\n",
            "Epoch 13/16\n",
            "7/7 [==============================] - 0s 19ms/step - loss: 0.0519 - accuracy: 1.0000 - val_loss: 0.0729 - val_accuracy: 0.9888\n",
            "Epoch 14/16\n",
            "7/7 [==============================] - 0s 18ms/step - loss: 0.0487 - accuracy: 1.0000 - val_loss: 0.0701 - val_accuracy: 0.9878\n",
            "Epoch 15/16\n",
            "7/7 [==============================] - 0s 18ms/step - loss: 0.0460 - accuracy: 1.0000 - val_loss: 0.0676 - val_accuracy: 0.9878\n",
            "Epoch 16/16\n",
            "7/7 [==============================] - 0s 31ms/step - loss: 0.0437 - accuracy: 1.0000 - val_loss: 0.0653 - val_accuracy: 0.9878\n"
          ]
        }
      ]
    },
    {
      "cell_type": "code",
      "source": [
        "model_B.evaluate(X_test_B, y_test_B)\n"
      ],
      "metadata": {
        "colab": {
          "base_uri": "https://localhost:8080/"
        },
        "id": "PyoAtIwx-am8",
        "outputId": "cc311dae-cb08-4880-a385-34d5bc2b6e60"
      },
      "execution_count": null,
      "outputs": [
        {
          "output_type": "stream",
          "name": "stdout",
          "text": [
            "63/63 [==============================] - 0s 4ms/step - loss: 0.1408 - accuracy: 0.9705\n"
          ]
        },
        {
          "output_type": "execute_result",
          "data": {
            "text/plain": [
              "[0.1408407837152481, 0.9704999923706055]"
            ]
          },
          "metadata": {},
          "execution_count": 66
        }
      ]
    },
    {
      "cell_type": "code",
      "source": [
        "model_B_on_A.evaluate(X_test_B, y_test_B)\n"
      ],
      "metadata": {
        "colab": {
          "base_uri": "https://localhost:8080/"
        },
        "id": "zA35JFLV-ghj",
        "outputId": "fa3b0b68-b10e-4919-edc4-57553ddfc3d9"
      },
      "execution_count": null,
      "outputs": [
        {
          "output_type": "stream",
          "name": "stdout",
          "text": [
            "63/63 [==============================] - 0s 4ms/step - loss: 0.0563 - accuracy: 0.9940\n"
          ]
        },
        {
          "output_type": "execute_result",
          "data": {
            "text/plain": [
              "[0.05628730729222298, 0.9940000176429749]"
            ]
          },
          "metadata": {},
          "execution_count": 67
        }
      ]
    },
    {
      "cell_type": "code",
      "source": [
        "(100 - 97.05) / (100 - 99.40)\n"
      ],
      "metadata": {
        "colab": {
          "base_uri": "https://localhost:8080/"
        },
        "id": "UdgktQxw-ho1",
        "outputId": "4ff67127-9f8c-4191-f641-82422ae64b94"
      },
      "execution_count": null,
      "outputs": [
        {
          "output_type": "execute_result",
          "data": {
            "text/plain": [
              "4.916666666666718"
            ]
          },
          "metadata": {},
          "execution_count": 68
        }
      ]
    },
    {
      "cell_type": "markdown",
      "source": [
        "## Faster Optimizers\n"
      ],
      "metadata": {
        "id": "enWa8ZGX-myl"
      }
    },
    {
      "cell_type": "markdown",
      "source": [
        "### Momentum optimization\n"
      ],
      "metadata": {
        "id": "KlS5uupt-pvj"
      }
    },
    {
      "cell_type": "code",
      "source": [
        "optimizer = keras.optimizers.SGD(learning_rate=0.001, momentum=0.9)\n"
      ],
      "metadata": {
        "id": "Oiv8b1Q2-lb9"
      },
      "execution_count": null,
      "outputs": []
    },
    {
      "cell_type": "markdown",
      "source": [
        "### *** Nesterov Accelerated Gradient\n",
        "*** use momentum =0.9 , nesterov = True, as always"
      ],
      "metadata": {
        "id": "JjW1qqH5-u9U"
      }
    },
    {
      "cell_type": "code",
      "source": [
        "optimizer = keras.optimizers.SGD(learning_rate=0.001, momentum=0.9, nesterov=True)\n"
      ],
      "metadata": {
        "id": "w7JDZdZx-tKc"
      },
      "execution_count": null,
      "outputs": []
    },
    {
      "cell_type": "markdown",
      "source": [
        "### AdaGrad\n",
        "*** Not good train DNN"
      ],
      "metadata": {
        "id": "4B0vtyJ0-x1L"
      }
    },
    {
      "cell_type": "code",
      "source": [
        "optimizer = keras.optimizers.Adagrad(learning_rate=0.001)"
      ],
      "metadata": {
        "id": "tfVJxPJB-0Ve"
      },
      "execution_count": null,
      "outputs": []
    },
    {
      "cell_type": "markdown",
      "source": [
        "### RSMProp\n",
        "*** better set rho = 0.9 as normal"
      ],
      "metadata": {
        "id": "gEluZKuL-4Xh"
      }
    },
    {
      "cell_type": "code",
      "source": [
        "optimizer = keras.optimizers.RMSprop(learning_rate=0.001, rho=0.9)\n"
      ],
      "metadata": {
        "id": "2bibMDph-2AX"
      },
      "execution_count": null,
      "outputs": []
    },
    {
      "cell_type": "markdown",
      "source": [
        "### *** Adam Optimization\n",
        "beta_1=0.9 , beta_=0.999 as normal"
      ],
      "metadata": {
        "id": "tv2ArZj5-7yL"
      }
    },
    {
      "cell_type": "code",
      "source": [
        "optimizer = keras.optimizers.Adam(learning_rate=0.001, beta_1=0.9, beta_2=0.999)\n"
      ],
      "metadata": {
        "id": "dkcq9W4B-7Iv"
      },
      "execution_count": null,
      "outputs": []
    },
    {
      "cell_type": "markdown",
      "source": [
        "### Adamax Optimization\n"
      ],
      "metadata": {
        "id": "FZfeEqvz_C10"
      }
    },
    {
      "cell_type": "code",
      "source": [
        "optimizer = keras.optimizers.Adamax(learning_rate=0.001, beta_1=0.9, beta_2=0.999)\n"
      ],
      "metadata": {
        "id": "icVtwyLg_Bml"
      },
      "execution_count": null,
      "outputs": []
    },
    {
      "cell_type": "markdown",
      "source": [
        "### ***Nadam Optimization\n",
        "*** nesterov + adam"
      ],
      "metadata": {
        "id": "-1CEHQLi_Fjv"
      }
    },
    {
      "cell_type": "code",
      "source": [
        "optimizer = keras.optimizers.Nadam(learning_rate=0.001, beta_1=0.9, beta_2=0.999)\n"
      ],
      "metadata": {
        "id": "HYcFhudW_AmP"
      },
      "execution_count": null,
      "outputs": []
    },
    {
      "cell_type": "markdown",
      "source": [
        "## Learning Rate Scheduling\n"
      ],
      "metadata": {
        "id": "4he1lxQn_Id4"
      }
    },
    {
      "cell_type": "markdown",
      "source": [
        "### Power Scheduling\n",
        "lr = lr0 / (1 + steps / s)**c\n",
        "\n",
        "+ Keras uses c=1 and s = 1 / decay"
      ],
      "metadata": {
        "id": "MbiBm3NN_MDU"
      }
    },
    {
      "cell_type": "code",
      "source": [
        "optimizer = keras.optimizers.SGD(learning_rate=0.01, decay=1e-4)"
      ],
      "metadata": {
        "id": "aKYR9F0W_H9Q"
      },
      "execution_count": 4,
      "outputs": []
    },
    {
      "cell_type": "code",
      "source": [
        "model = keras.models.Sequential([\n",
        "    keras.layers.Flatten(input_shape=[28, 28]),\n",
        "    keras.layers.Dense(300, activation=\"selu\", kernel_initializer=\"lecun_normal\"),\n",
        "    keras.layers.Dense(100, activation=\"selu\", kernel_initializer=\"lecun_normal\"),\n",
        "    keras.layers.Dense(10, activation=\"softmax\")\n",
        "])\n",
        "model.compile(loss=\"sparse_categorical_crossentropy\", optimizer=optimizer, metrics=[\"accuracy\"])"
      ],
      "metadata": {
        "id": "TNKJnV-VnPE5"
      },
      "execution_count": 6,
      "outputs": []
    },
    {
      "cell_type": "code",
      "source": [
        "\n",
        "n_epochs = 25\n",
        "history = model.fit(X_train_scaled, y_train, epochs=n_epochs,\n",
        "                    validation_data=(X_valid_scaled, y_valid))\n"
      ],
      "metadata": {
        "colab": {
          "base_uri": "https://localhost:8080/"
        },
        "id": "Xb9wk051nPv1",
        "outputId": "f666b676-d28e-4d08-f084-0542573c798e"
      },
      "execution_count": 11,
      "outputs": [
        {
          "output_type": "stream",
          "name": "stdout",
          "text": [
            "Epoch 1/25\n",
            "1719/1719 [==============================] - 8s 4ms/step - loss: 0.4896 - accuracy: 0.8288 - val_loss: 0.4073 - val_accuracy: 0.8598\n",
            "Epoch 2/25\n",
            "1719/1719 [==============================] - 6s 3ms/step - loss: 0.3835 - accuracy: 0.8644 - val_loss: 0.3787 - val_accuracy: 0.8662\n",
            "Epoch 3/25\n",
            "1719/1719 [==============================] - 6s 3ms/step - loss: 0.3497 - accuracy: 0.8760 - val_loss: 0.3689 - val_accuracy: 0.8700\n",
            "Epoch 4/25\n",
            "1719/1719 [==============================] - 6s 4ms/step - loss: 0.3276 - accuracy: 0.8828 - val_loss: 0.3595 - val_accuracy: 0.8754\n",
            "Epoch 5/25\n",
            "1719/1719 [==============================] - 6s 3ms/step - loss: 0.3111 - accuracy: 0.8898 - val_loss: 0.3568 - val_accuracy: 0.8766\n",
            "Epoch 6/25\n",
            "1719/1719 [==============================] - 6s 4ms/step - loss: 0.2987 - accuracy: 0.8928 - val_loss: 0.3474 - val_accuracy: 0.8806\n",
            "Epoch 7/25\n",
            "1719/1719 [==============================] - 7s 4ms/step - loss: 0.2877 - accuracy: 0.8980 - val_loss: 0.3396 - val_accuracy: 0.8788\n",
            "Epoch 8/25\n",
            "1719/1719 [==============================] - 7s 4ms/step - loss: 0.2790 - accuracy: 0.9004 - val_loss: 0.3362 - val_accuracy: 0.8830\n",
            "Epoch 9/25\n",
            "1719/1719 [==============================] - 7s 4ms/step - loss: 0.2707 - accuracy: 0.9028 - val_loss: 0.3398 - val_accuracy: 0.8800\n",
            "Epoch 10/25\n",
            "1719/1719 [==============================] - 5s 3ms/step - loss: 0.2637 - accuracy: 0.9055 - val_loss: 0.3354 - val_accuracy: 0.8824\n",
            "Epoch 11/25\n",
            "1719/1719 [==============================] - 5s 3ms/step - loss: 0.2574 - accuracy: 0.9092 - val_loss: 0.3310 - val_accuracy: 0.8838\n",
            "Epoch 12/25\n",
            "1719/1719 [==============================] - 5s 3ms/step - loss: 0.2515 - accuracy: 0.9105 - val_loss: 0.3276 - val_accuracy: 0.8878\n",
            "Epoch 13/25\n",
            "1719/1719 [==============================] - 6s 4ms/step - loss: 0.2464 - accuracy: 0.9121 - val_loss: 0.3308 - val_accuracy: 0.8832\n",
            "Epoch 14/25\n",
            "1719/1719 [==============================] - 6s 3ms/step - loss: 0.2420 - accuracy: 0.9135 - val_loss: 0.3269 - val_accuracy: 0.8842\n",
            "Epoch 15/25\n",
            "1719/1719 [==============================] - 6s 3ms/step - loss: 0.2375 - accuracy: 0.9163 - val_loss: 0.3291 - val_accuracy: 0.8872\n",
            "Epoch 16/25\n",
            "1719/1719 [==============================] - 6s 3ms/step - loss: 0.2334 - accuracy: 0.9179 - val_loss: 0.3279 - val_accuracy: 0.8852\n",
            "Epoch 17/25\n",
            "1719/1719 [==============================] - 6s 4ms/step - loss: 0.2296 - accuracy: 0.9192 - val_loss: 0.3275 - val_accuracy: 0.8864\n",
            "Epoch 18/25\n",
            "1719/1719 [==============================] - 6s 4ms/step - loss: 0.2259 - accuracy: 0.9209 - val_loss: 0.3238 - val_accuracy: 0.8868\n",
            "Epoch 19/25\n",
            "1719/1719 [==============================] - 6s 3ms/step - loss: 0.2227 - accuracy: 0.9220 - val_loss: 0.3275 - val_accuracy: 0.8872\n",
            "Epoch 20/25\n",
            "1719/1719 [==============================] - 6s 3ms/step - loss: 0.2197 - accuracy: 0.9231 - val_loss: 0.3249 - val_accuracy: 0.8874\n",
            "Epoch 21/25\n",
            "1719/1719 [==============================] - 6s 3ms/step - loss: 0.2166 - accuracy: 0.9237 - val_loss: 0.3260 - val_accuracy: 0.8890\n",
            "Epoch 22/25\n",
            "1719/1719 [==============================] - 5s 3ms/step - loss: 0.2138 - accuracy: 0.9245 - val_loss: 0.3261 - val_accuracy: 0.8906\n",
            "Epoch 23/25\n",
            "1719/1719 [==============================] - 8s 5ms/step - loss: 0.2110 - accuracy: 0.9264 - val_loss: 0.3258 - val_accuracy: 0.8904\n",
            "Epoch 24/25\n",
            "1719/1719 [==============================] - 6s 3ms/step - loss: 0.2085 - accuracy: 0.9276 - val_loss: 0.3284 - val_accuracy: 0.8882\n",
            "Epoch 25/25\n",
            "1719/1719 [==============================] - 5s 3ms/step - loss: 0.2060 - accuracy: 0.9285 - val_loss: 0.3238 - val_accuracy: 0.8914\n"
          ]
        }
      ]
    },
    {
      "cell_type": "code",
      "source": [
        "import math\n",
        "\n",
        "learning_rate = 0.01\n",
        "decay = 1e-4\n",
        "batch_size = 32\n",
        "n_steps_per_epoch = math.ceil(len(X_train) / batch_size)\n",
        "epochs = np.arange(n_epochs)\n",
        "lrs = learning_rate / (1 + decay * epochs * n_steps_per_epoch)\n",
        "\n",
        "plt.plot(epochs, lrs,  \"o-\")\n",
        "plt.axis([0, n_epochs - 1, 0, 0.01])\n",
        "plt.xlabel(\"Epoch\")\n",
        "plt.ylabel(\"Learning Rate\")\n",
        "plt.title(\"Power Scheduling\", fontsize=14)\n",
        "plt.grid(True)\n",
        "plt.show()"
      ],
      "metadata": {
        "colab": {
          "base_uri": "https://localhost:8080/",
          "height": 303
        },
        "id": "pBcKaCKdnS10",
        "outputId": "7f8ceb70-bc04-4957-8441-872cd2ad507a"
      },
      "execution_count": 12,
      "outputs": [
        {
          "output_type": "display_data",
          "data": {
            "image/png": "[encoded data removed]",
            "text/plain": [
              "<Figure size 432x288 with 1 Axes>"
            ]
          },
          "metadata": {
            "needs_background": "light"
          }
        }
      ]
    },
    {
      "cell_type": "markdown",
      "source": [
        "## Exponential Scheduling\n",
        "lr = lr0 * 0.1**(epoch / s)\n",
        "\n"
      ],
      "metadata": {
        "id": "3ubKllL9n003"
      }
    },
    {
      "cell_type": "code",
      "source": [
        "def exponential_decay_fn(epoch):\n",
        "    return 0.01 * 0.1**(epoch / 20)"
      ],
      "metadata": {
        "id": "MA7LM1sqnvRY"
      },
      "execution_count": 13,
      "outputs": []
    },
    {
      "cell_type": "code",
      "source": [
        "def exponential_decay(lr0, s):\n",
        "    def exponential_decay_fn(epoch):\n",
        "        return lr0 * 0.1**(epoch / s)\n",
        "    return exponential_decay_fn\n",
        "\n",
        "exponential_decay_fn = exponential_decay(lr0=0.01, s=20)"
      ],
      "metadata": {
        "id": "r5K2jTcrn3cZ"
      },
      "execution_count": 14,
      "outputs": []
    },
    {
      "cell_type": "code",
      "source": [
        "model = keras.models.Sequential([\n",
        "    keras.layers.Flatten(input_shape=[28, 28]),\n",
        "    keras.layers.Dense(300, activation=\"selu\", kernel_initializer=\"lecun_normal\"),\n",
        "    keras.layers.Dense(100, activation=\"selu\", kernel_initializer=\"lecun_normal\"),\n",
        "    keras.layers.Dense(10, activation=\"softmax\")\n",
        "])\n",
        "model.compile(loss=\"sparse_categorical_crossentropy\", optimizer=\"nadam\", metrics=[\"accuracy\"])\n",
        "n_epochs = 25"
      ],
      "metadata": {
        "id": "KVOUsP04n4XK"
      },
      "execution_count": 15,
      "outputs": []
    },
    {
      "cell_type": "code",
      "source": [
        "lr_scheduler = keras.callbacks.LearningRateScheduler(exponential_decay_fn)\n",
        "history = model.fit(X_train_scaled, y_train, epochs=n_epochs,\n",
        "                    validation_data=(X_valid_scaled, y_valid),\n",
        "                    callbacks=[lr_scheduler])"
      ],
      "metadata": {
        "colab": {
          "base_uri": "https://localhost:8080/"
        },
        "id": "nZV27kj7n5SS",
        "outputId": "839c73ce-f6a9-415b-a3fa-9a9132ff2521"
      },
      "execution_count": 16,
      "outputs": [
        {
          "output_type": "stream",
          "name": "stdout",
          "text": [
            "Epoch 1/25\n",
            "1719/1719 [==============================] - 9s 5ms/step - loss: 0.8408 - accuracy: 0.7568 - val_loss: 0.7638 - val_accuracy: 0.7780 - lr: 0.0100\n",
            "Epoch 2/25\n",
            "1719/1719 [==============================] - 9s 5ms/step - loss: 0.7244 - accuracy: 0.7857 - val_loss: 0.6490 - val_accuracy: 0.8140 - lr: 0.0089\n",
            "Epoch 3/25\n",
            "1719/1719 [==============================] - 8s 4ms/step - loss: 0.5973 - accuracy: 0.8164 - val_loss: 0.5466 - val_accuracy: 0.8254 - lr: 0.0079\n",
            "Epoch 4/25\n",
            "1719/1719 [==============================] - 8s 4ms/step - loss: 0.5509 - accuracy: 0.8301 - val_loss: 0.6193 - val_accuracy: 0.7906 - lr: 0.0071\n",
            "Epoch 5/25\n",
            "1719/1719 [==============================] - 9s 5ms/step - loss: 0.5163 - accuracy: 0.8383 - val_loss: 0.5547 - val_accuracy: 0.8200 - lr: 0.0063\n",
            "Epoch 6/25\n",
            "1719/1719 [==============================] - 8s 5ms/step - loss: 0.4549 - accuracy: 0.8535 - val_loss: 0.4940 - val_accuracy: 0.8472 - lr: 0.0056\n",
            "Epoch 7/25\n",
            "1719/1719 [==============================] - 9s 5ms/step - loss: 0.4207 - accuracy: 0.8630 - val_loss: 0.5000 - val_accuracy: 0.8562 - lr: 0.0050\n",
            "Epoch 8/25\n",
            "1719/1719 [==============================] - 8s 5ms/step - loss: 0.3899 - accuracy: 0.8749 - val_loss: 0.5239 - val_accuracy: 0.8544 - lr: 0.0045\n",
            "Epoch 9/25\n",
            "1719/1719 [==============================] - 8s 4ms/step - loss: 0.3581 - accuracy: 0.8817 - val_loss: 0.5132 - val_accuracy: 0.8596 - lr: 0.0040\n",
            "Epoch 10/25\n",
            "1719/1719 [==============================] - 8s 5ms/step - loss: 0.3355 - accuracy: 0.8869 - val_loss: 0.4730 - val_accuracy: 0.8752 - lr: 0.0035\n",
            "Epoch 11/25\n",
            "1719/1719 [==============================] - 8s 5ms/step - loss: 0.3163 - accuracy: 0.8933 - val_loss: 0.4566 - val_accuracy: 0.8702 - lr: 0.0032\n",
            "Epoch 12/25\n",
            "1719/1719 [==============================] - 9s 5ms/step - loss: 0.2889 - accuracy: 0.9023 - val_loss: 0.4453 - val_accuracy: 0.8820 - lr: 0.0028\n",
            "Epoch 13/25\n",
            "1719/1719 [==============================] - 9s 5ms/step - loss: 0.2705 - accuracy: 0.9113 - val_loss: 0.4695 - val_accuracy: 0.8784 - lr: 0.0025\n",
            "Epoch 14/25\n",
            "1719/1719 [==============================] - 10s 6ms/step - loss: 0.2482 - accuracy: 0.9157 - val_loss: 0.4720 - val_accuracy: 0.8776 - lr: 0.0022\n",
            "Epoch 15/25\n",
            "1719/1719 [==============================] - 9s 5ms/step - loss: 0.2312 - accuracy: 0.9219 - val_loss: 0.4451 - val_accuracy: 0.8876 - lr: 0.0020\n",
            "Epoch 16/25\n",
            "1719/1719 [==============================] - 8s 5ms/step - loss: 0.2135 - accuracy: 0.9270 - val_loss: 0.4442 - val_accuracy: 0.8874 - lr: 0.0018\n",
            "Epoch 17/25\n",
            "1719/1719 [==============================] - 8s 5ms/step - loss: 0.2035 - accuracy: 0.9308 - val_loss: 0.4513 - val_accuracy: 0.8856 - lr: 0.0016\n",
            "Epoch 18/25\n",
            "1719/1719 [==============================] - 9s 5ms/step - loss: 0.1846 - accuracy: 0.9374 - val_loss: 0.4931 - val_accuracy: 0.8886 - lr: 0.0014\n",
            "Epoch 19/25\n",
            "1719/1719 [==============================] - 8s 5ms/step - loss: 0.1746 - accuracy: 0.9421 - val_loss: 0.5290 - val_accuracy: 0.8858 - lr: 0.0013\n",
            "Epoch 20/25\n",
            "1719/1719 [==============================] - 8s 5ms/step - loss: 0.1664 - accuracy: 0.9449 - val_loss: 0.4964 - val_accuracy: 0.8874 - lr: 0.0011\n",
            "Epoch 21/25\n",
            "1719/1719 [==============================] - 8s 5ms/step - loss: 0.1545 - accuracy: 0.9482 - val_loss: 0.5458 - val_accuracy: 0.8876 - lr: 0.0010\n",
            "Epoch 22/25\n",
            "1719/1719 [==============================] - 7s 4ms/step - loss: 0.1459 - accuracy: 0.9519 - val_loss: 0.5271 - val_accuracy: 0.8906 - lr: 8.9125e-04\n",
            "Epoch 23/25\n",
            "1719/1719 [==============================] - 8s 5ms/step - loss: 0.1367 - accuracy: 0.9553 - val_loss: 0.5393 - val_accuracy: 0.8910 - lr: 7.9433e-04\n",
            "Epoch 24/25\n",
            "1719/1719 [==============================] - 9s 5ms/step - loss: 0.1285 - accuracy: 0.9582 - val_loss: 0.5879 - val_accuracy: 0.8908 - lr: 7.0795e-04\n",
            "Epoch 25/25\n",
            "1719/1719 [==============================] - 8s 5ms/step - loss: 0.1242 - accuracy: 0.9602 - val_loss: 0.5755 - val_accuracy: 0.8914 - lr: 6.3096e-04\n"
          ]
        }
      ]
    },
    {
      "cell_type": "code",
      "source": [
        "plt.plot(history.epoch, history.history[\"lr\"], \"o-\")\n",
        "plt.axis([0, n_epochs - 1, 0, 0.011])\n",
        "plt.xlabel(\"Epoch\")\n",
        "plt.ylabel(\"Learning Rate\")\n",
        "plt.title(\"Exponential Scheduling\", fontsize=14)\n",
        "plt.grid(True)\n",
        "plt.show()"
      ],
      "metadata": {
        "colab": {
          "base_uri": "https://localhost:8080/",
          "height": 303
        },
        "id": "7irfxS1Gn6Pu",
        "outputId": "0d69a3a6-3cc1-4311-983e-f538c1ee6bd9"
      },
      "execution_count": 17,
      "outputs": [
        {
          "output_type": "display_data",
          "data": {
            "image/png": "[encoded data removed]",
            "text/plain": [
              "<Figure size 432x288 with 1 Axes>"
            ]
          },
          "metadata": {
            "needs_background": "light"
          }
        }
      ]
    },
    {
      "cell_type": "code",
      "source": [
        "def exponential_decay_fn(epoch, lr):\n",
        "    return lr * 0.1**(1 / 20)"
      ],
      "metadata": {
        "id": "8ynScJygn7ds"
      },
      "execution_count": 18,
      "outputs": []
    },
    {
      "cell_type": "code",
      "source": [
        "K = keras.backend\n",
        "\n",
        "class ExponentialDecay(keras.callbacks.Callback):\n",
        "    def __init__(self, s=40000):\n",
        "        super().__init__()\n",
        "        self.s = s\n",
        "\n",
        "    def on_batch_begin(self, batch, logs=None):\n",
        "        # Note: the `batch` argument is reset at each epoch\n",
        "        lr = K.get_value(self.model.optimizer.learning_rate)\n",
        "        K.set_value(self.model.optimizer.learning_rate, lr * 0.1**(1 / s))\n",
        "\n",
        "    def on_epoch_end(self, epoch, logs=None):\n",
        "        logs = logs or {}\n",
        "        logs['lr'] = K.get_value(self.model.optimizer.learning_rate)\n",
        "\n",
        "model = keras.models.Sequential([\n",
        "    keras.layers.Flatten(input_shape=[28, 28]),\n",
        "    keras.layers.Dense(300, activation=\"selu\", kernel_initializer=\"lecun_normal\"),\n",
        "    keras.layers.Dense(100, activation=\"selu\", kernel_initializer=\"lecun_normal\"),\n",
        "    keras.layers.Dense(10, activation=\"softmax\")\n",
        "])\n",
        "lr0 = 0.01\n",
        "optimizer = keras.optimizers.Nadam(learning_rate=lr0)\n",
        "model.compile(loss=\"sparse_categorical_crossentropy\", optimizer=optimizer, metrics=[\"accuracy\"])\n",
        "n_epochs = 25\n",
        "\n",
        "s = 20 * len(X_train) // 32 # number of steps in 20 epochs (batch size = 32)\n",
        "exp_decay = ExponentialDecay(s)\n",
        "history = model.fit(X_train_scaled, y_train, epochs=n_epochs,\n",
        "                    validation_data=(X_valid_scaled, y_valid),\n",
        "                    callbacks=[exp_decay])"
      ],
      "metadata": {
        "colab": {
          "base_uri": "https://localhost:8080/"
        },
        "id": "f0le9J0EoPkC",
        "outputId": "f3b21040-2683-44be-88bb-5690473b59bf"
      },
      "execution_count": 19,
      "outputs": [
        {
          "output_type": "stream",
          "name": "stdout",
          "text": [
            "Epoch 1/25\n",
            "1719/1719 [==============================] - 13s 7ms/step - loss: 0.7979 - accuracy: 0.7689 - val_loss: 0.9909 - val_accuracy: 0.7696 - lr: 0.0089\n",
            "Epoch 2/25\n",
            "1719/1719 [==============================] - 10s 6ms/step - loss: 0.6623 - accuracy: 0.7978 - val_loss: 0.6230 - val_accuracy: 0.8090 - lr: 0.0079\n",
            "Epoch 3/25\n",
            "1719/1719 [==============================] - 11s 6ms/step - loss: 0.6384 - accuracy: 0.8085 - val_loss: 0.7381 - val_accuracy: 0.7490 - lr: 0.0071\n",
            "Epoch 4/25\n",
            "1719/1719 [==============================] - 10s 6ms/step - loss: 0.5234 - accuracy: 0.8358 - val_loss: 0.5200 - val_accuracy: 0.8480 - lr: 0.0063\n",
            "Epoch 5/25\n",
            "1719/1719 [==============================] - 10s 6ms/step - loss: 0.4727 - accuracy: 0.8517 - val_loss: 0.5452 - val_accuracy: 0.8262 - lr: 0.0056\n",
            "Epoch 6/25\n",
            "1719/1719 [==============================] - 9s 5ms/step - loss: 0.4286 - accuracy: 0.8603 - val_loss: 0.4699 - val_accuracy: 0.8608 - lr: 0.0050\n",
            "Epoch 7/25\n",
            "1719/1719 [==============================] - 10s 6ms/step - loss: 0.4037 - accuracy: 0.8679 - val_loss: 0.4518 - val_accuracy: 0.8576 - lr: 0.0045\n",
            "Epoch 8/25\n",
            "1719/1719 [==============================] - 10s 6ms/step - loss: 0.3684 - accuracy: 0.8796 - val_loss: 0.4915 - val_accuracy: 0.8652 - lr: 0.0040\n",
            "Epoch 9/25\n",
            "1719/1719 [==============================] - 10s 6ms/step - loss: 0.3381 - accuracy: 0.8888 - val_loss: 0.4444 - val_accuracy: 0.8710 - lr: 0.0035\n",
            "Epoch 10/25\n",
            "1719/1719 [==============================] - 13s 7ms/step - loss: 0.3183 - accuracy: 0.8925 - val_loss: 0.4918 - val_accuracy: 0.8628 - lr: 0.0032\n",
            "Epoch 11/25\n",
            "1719/1719 [==============================] - 10s 6ms/step - loss: 0.2951 - accuracy: 0.9030 - val_loss: 0.4286 - val_accuracy: 0.8798 - lr: 0.0028\n",
            "Epoch 12/25\n",
            "1719/1719 [==============================] - 10s 6ms/step - loss: 0.2774 - accuracy: 0.9072 - val_loss: 0.4136 - val_accuracy: 0.8896 - lr: 0.0025\n",
            "Epoch 13/25\n",
            "1719/1719 [==============================] - 9s 5ms/step - loss: 0.2565 - accuracy: 0.9120 - val_loss: 0.4474 - val_accuracy: 0.8798 - lr: 0.0022\n",
            "Epoch 14/25\n",
            "1719/1719 [==============================] - 9s 5ms/step - loss: 0.2353 - accuracy: 0.9190 - val_loss: 0.4565 - val_accuracy: 0.8882 - lr: 0.0020\n",
            "Epoch 15/25\n",
            "1719/1719 [==============================] - 9s 5ms/step - loss: 0.2192 - accuracy: 0.9255 - val_loss: 0.4378 - val_accuracy: 0.8878 - lr: 0.0018\n",
            "Epoch 16/25\n",
            "1719/1719 [==============================] - 9s 5ms/step - loss: 0.2047 - accuracy: 0.9302 - val_loss: 0.4752 - val_accuracy: 0.8892 - lr: 0.0016\n",
            "Epoch 17/25\n",
            "1719/1719 [==============================] - 10s 6ms/step - loss: 0.1918 - accuracy: 0.9347 - val_loss: 0.4434 - val_accuracy: 0.8896 - lr: 0.0014\n",
            "Epoch 18/25\n",
            "1719/1719 [==============================] - 10s 6ms/step - loss: 0.1788 - accuracy: 0.9396 - val_loss: 0.4757 - val_accuracy: 0.8900 - lr: 0.0013\n",
            "Epoch 19/25\n",
            "1719/1719 [==============================] - 9s 5ms/step - loss: 0.1702 - accuracy: 0.9440 - val_loss: 0.4810 - val_accuracy: 0.8862 - lr: 0.0011\n",
            "Epoch 20/25\n",
            "1719/1719 [==============================] - 9s 5ms/step - loss: 0.1561 - accuracy: 0.9475 - val_loss: 0.5251 - val_accuracy: 0.8920 - lr: 9.9967e-04\n",
            "Epoch 21/25\n",
            "1719/1719 [==============================] - 10s 6ms/step - loss: 0.1464 - accuracy: 0.9509 - val_loss: 0.5065 - val_accuracy: 0.8926 - lr: 8.9094e-04\n",
            "Epoch 22/25\n",
            "1719/1719 [==============================] - 9s 5ms/step - loss: 0.1399 - accuracy: 0.9538 - val_loss: 0.5155 - val_accuracy: 0.8936 - lr: 7.9404e-04\n",
            "Epoch 23/25\n",
            "1719/1719 [==============================] - 10s 6ms/step - loss: 0.1294 - accuracy: 0.9577 - val_loss: 0.5704 - val_accuracy: 0.8876 - lr: 7.0767e-04\n",
            "Epoch 24/25\n",
            "1719/1719 [==============================] - 9s 5ms/step - loss: 0.1211 - accuracy: 0.9601 - val_loss: 0.5549 - val_accuracy: 0.8922 - lr: 6.3071e-04\n",
            "Epoch 25/25\n",
            "1719/1719 [==============================] - 9s 5ms/step - loss: 0.1148 - accuracy: 0.9633 - val_loss: 0.5415 - val_accuracy: 0.8884 - lr: 5.6211e-04\n"
          ]
        }
      ]
    },
    {
      "cell_type": "code",
      "source": [
        "n_steps = n_epochs * len(X_train) // 32\n",
        "steps = np.arange(n_steps)\n",
        "lrs = lr0 * 0.1**(steps / s)"
      ],
      "metadata": {
        "id": "odIy7YJPoP6z"
      },
      "execution_count": 20,
      "outputs": []
    },
    {
      "cell_type": "code",
      "source": [
        "plt.plot(steps, lrs, \"-\", linewidth=2)\n",
        "plt.axis([0, n_steps - 1, 0, lr0 * 1.1])\n",
        "plt.xlabel(\"Batch\")\n",
        "plt.ylabel(\"Learning Rate\")\n",
        "plt.title(\"Exponential Scheduling (per batch)\", fontsize=14)\n",
        "plt.grid(True)\n",
        "plt.show()"
      ],
      "metadata": {
        "colab": {
          "base_uri": "https://localhost:8080/",
          "height": 303
        },
        "id": "Z1K1gG8Toelo",
        "outputId": "af15880e-0a62-4c71-ebe4-8a503fa769a2"
      },
      "execution_count": 21,
      "outputs": [
        {
          "output_type": "display_data",
          "data": {
            "image/png": "[encoded data removed]",
            "text/plain": [
              "<Figure size 432x288 with 1 Axes>"
            ]
          },
          "metadata": {
            "needs_background": "light"
          }
        }
      ]
    },
    {
      "cell_type": "markdown",
      "source": [
        "### Piecewise Constant Scheduling\n"
      ],
      "metadata": {
        "id": "U6KZPERcogrg"
      }
    },
    {
      "cell_type": "code",
      "source": [
        "def piecewise_constant_fn(epoch):\n",
        "    if epoch < 5:\n",
        "        return 0.01\n",
        "    elif epoch < 15:\n",
        "        return 0.005\n",
        "    else:\n",
        "        return 0.001"
      ],
      "metadata": {
        "id": "CI-JcApVofew"
      },
      "execution_count": 22,
      "outputs": []
    },
    {
      "cell_type": "code",
      "source": [
        "def piecewise_constant(boundaries, values):\n",
        "    boundaries = np.array([0] + boundaries)\n",
        "    values = np.array(values)\n",
        "    def piecewise_constant_fn(epoch):\n",
        "        return values[np.argmax(boundaries > epoch) - 1]\n",
        "    return piecewise_constant_fn\n",
        "\n",
        "piecewise_constant_fn = piecewise_constant([5, 15], [0.01, 0.005, 0.001])"
      ],
      "metadata": {
        "id": "BfghogzoojDj"
      },
      "execution_count": 23,
      "outputs": []
    },
    {
      "cell_type": "code",
      "source": [
        "lr_scheduler = keras.callbacks.LearningRateScheduler(piecewise_constant_fn)\n",
        "\n",
        "model = keras.models.Sequential([\n",
        "    keras.layers.Flatten(input_shape=[28, 28]),\n",
        "    keras.layers.Dense(300, activation=\"selu\", kernel_initializer=\"lecun_normal\"),\n",
        "    keras.layers.Dense(100, activation=\"selu\", kernel_initializer=\"lecun_normal\"),\n",
        "    keras.layers.Dense(10, activation=\"softmax\")\n",
        "])\n",
        "model.compile(loss=\"sparse_categorical_crossentropy\", optimizer=\"nadam\", metrics=[\"accuracy\"])\n",
        "n_epochs = 25\n",
        "history = model.fit(X_train_scaled, y_train, epochs=n_epochs,\n",
        "                    validation_data=(X_valid_scaled, y_valid),\n",
        "                    callbacks=[lr_scheduler])"
      ],
      "metadata": {
        "colab": {
          "base_uri": "https://localhost:8080/"
        },
        "id": "klVX-C44okAt",
        "outputId": "83db6342-aafa-4a40-a607-2ffa1f96454f"
      },
      "execution_count": 24,
      "outputs": [
        {
          "output_type": "stream",
          "name": "stdout",
          "text": [
            "Epoch 1/25\n",
            "1719/1719 [==============================] - 9s 5ms/step - loss: 0.8872 - accuracy: 0.7459 - val_loss: 1.7315 - val_accuracy: 0.6638 - lr: 0.0100\n",
            "Epoch 2/25\n",
            "1719/1719 [==============================] - 8s 4ms/step - loss: 0.8360 - accuracy: 0.7457 - val_loss: 0.8056 - val_accuracy: 0.7408 - lr: 0.0100\n",
            "Epoch 3/25\n",
            "1719/1719 [==============================] - 7s 4ms/step - loss: 0.9464 - accuracy: 0.7244 - val_loss: 1.2252 - val_accuracy: 0.6666 - lr: 0.0100\n",
            "Epoch 4/25\n",
            "1719/1719 [==============================] - 8s 4ms/step - loss: 0.9363 - accuracy: 0.7143 - val_loss: 0.8770 - val_accuracy: 0.7326 - lr: 0.0100\n",
            "Epoch 5/25\n",
            "1719/1719 [==============================] - 7s 4ms/step - loss: 0.9521 - accuracy: 0.7047 - val_loss: 0.8902 - val_accuracy: 0.6590 - lr: 0.0100\n",
            "Epoch 6/25\n",
            "1719/1719 [==============================] - 7s 4ms/step - loss: 0.6488 - accuracy: 0.7733 - val_loss: 0.6390 - val_accuracy: 0.7332 - lr: 0.0050\n",
            "Epoch 7/25\n",
            "1719/1719 [==============================] - 8s 4ms/step - loss: 0.5525 - accuracy: 0.8264 - val_loss: 0.7923 - val_accuracy: 0.8172 - lr: 0.0050\n",
            "Epoch 8/25\n",
            "1719/1719 [==============================] - 7s 4ms/step - loss: 0.5704 - accuracy: 0.8263 - val_loss: 0.6103 - val_accuracy: 0.7842 - lr: 0.0050\n",
            "Epoch 9/25\n",
            "1719/1719 [==============================] - 7s 4ms/step - loss: 0.5228 - accuracy: 0.8370 - val_loss: 0.6674 - val_accuracy: 0.8338 - lr: 0.0050\n",
            "Epoch 10/25\n",
            "1719/1719 [==============================] - 7s 4ms/step - loss: 0.5194 - accuracy: 0.8423 - val_loss: 0.6667 - val_accuracy: 0.8432 - lr: 0.0050\n",
            "Epoch 11/25\n",
            "1719/1719 [==============================] - 8s 4ms/step - loss: 0.4953 - accuracy: 0.8504 - val_loss: 0.6896 - val_accuracy: 0.8424 - lr: 0.0050\n",
            "Epoch 12/25\n",
            "1719/1719 [==============================] - 7s 4ms/step - loss: 0.4773 - accuracy: 0.8533 - val_loss: 0.9086 - val_accuracy: 0.8502 - lr: 0.0050\n",
            "Epoch 13/25\n",
            "1719/1719 [==============================] - 8s 4ms/step - loss: 0.4865 - accuracy: 0.8540 - val_loss: 0.9046 - val_accuracy: 0.8534 - lr: 0.0050\n",
            "Epoch 14/25\n",
            "1719/1719 [==============================] - 8s 5ms/step - loss: 0.4699 - accuracy: 0.8572 - val_loss: 0.7711 - val_accuracy: 0.8374 - lr: 0.0050\n",
            "Epoch 15/25\n",
            "1719/1719 [==============================] - 7s 4ms/step - loss: 0.4805 - accuracy: 0.8581 - val_loss: 0.7685 - val_accuracy: 0.8396 - lr: 0.0050\n",
            "Epoch 16/25\n",
            "1719/1719 [==============================] - 7s 4ms/step - loss: 0.3572 - accuracy: 0.8885 - val_loss: 0.5516 - val_accuracy: 0.8598 - lr: 0.0010\n",
            "Epoch 17/25\n",
            "1719/1719 [==============================] - 7s 4ms/step - loss: 0.3115 - accuracy: 0.8978 - val_loss: 0.6015 - val_accuracy: 0.8692 - lr: 0.0010\n",
            "Epoch 18/25\n",
            "1719/1719 [==============================] - 7s 4ms/step - loss: 0.3036 - accuracy: 0.9007 - val_loss: 0.5243 - val_accuracy: 0.8658 - lr: 0.0010\n",
            "Epoch 19/25\n",
            "1719/1719 [==============================] - 7s 4ms/step - loss: 0.2905 - accuracy: 0.9055 - val_loss: 0.5562 - val_accuracy: 0.8700 - lr: 0.0010\n",
            "Epoch 20/25\n",
            "1719/1719 [==============================] - 7s 4ms/step - loss: 0.2837 - accuracy: 0.9071 - val_loss: 0.5855 - val_accuracy: 0.8694 - lr: 0.0010\n",
            "Epoch 21/25\n",
            "1719/1719 [==============================] - 7s 4ms/step - loss: 0.2751 - accuracy: 0.9104 - val_loss: 0.5733 - val_accuracy: 0.8710 - lr: 0.0010\n",
            "Epoch 22/25\n",
            "1719/1719 [==============================] - 8s 4ms/step - loss: 0.2667 - accuracy: 0.9139 - val_loss: 0.5975 - val_accuracy: 0.8728 - lr: 0.0010\n",
            "Epoch 23/25\n",
            "1719/1719 [==============================] - 7s 4ms/step - loss: 0.2568 - accuracy: 0.9168 - val_loss: 0.6033 - val_accuracy: 0.8714 - lr: 0.0010\n",
            "Epoch 24/25\n",
            "1719/1719 [==============================] - 7s 4ms/step - loss: 0.2475 - accuracy: 0.9190 - val_loss: 0.6113 - val_accuracy: 0.8724 - lr: 0.0010\n",
            "Epoch 25/25\n",
            "1719/1719 [==============================] - 7s 4ms/step - loss: 0.2483 - accuracy: 0.9199 - val_loss: 0.6075 - val_accuracy: 0.8752 - lr: 0.0010\n"
          ]
        }
      ]
    },
    {
      "cell_type": "code",
      "source": [
        "plt.plot(history.epoch, [piecewise_constant_fn(epoch) for epoch in history.epoch], \"o-\")\n",
        "plt.axis([0, n_epochs - 1, 0, 0.011])\n",
        "plt.xlabel(\"Epoch\")\n",
        "plt.ylabel(\"Learning Rate\")\n",
        "plt.title(\"Piecewise Constant Scheduling\", fontsize=14)\n",
        "plt.grid(True)\n",
        "plt.show()"
      ],
      "metadata": {
        "colab": {
          "base_uri": "https://localhost:8080/",
          "height": 303
        },
        "id": "vRxESvxCoooP",
        "outputId": "a7f0c10e-38d8-4835-ed28-757f7f520023"
      },
      "execution_count": 25,
      "outputs": [
        {
          "output_type": "display_data",
          "data": {
            "image/png": "[encoded data removed]",
            "text/plain": [
              "<Figure size 432x288 with 1 Axes>"
            ]
          },
          "metadata": {
            "needs_background": "light"
          }
        }
      ]
    },
    {
      "cell_type": "markdown",
      "source": [
        "### Performance Scheduling\n"
      ],
      "metadata": {
        "id": "TcA3SEXVorka"
      }
    },
    {
      "cell_type": "code",
      "source": [
        "tf.random.set_seed(42)\n",
        "np.random.seed(42)"
      ],
      "metadata": {
        "id": "cVrTlE6toqGE"
      },
      "execution_count": 26,
      "outputs": []
    },
    {
      "cell_type": "code",
      "source": [
        "lr_scheduler = keras.callbacks.ReduceLROnPlateau(factor=0.5, patience=5)\n",
        "\n",
        "model = keras.models.Sequential([\n",
        "    keras.layers.Flatten(input_shape=[28, 28]),\n",
        "    keras.layers.Dense(300, activation=\"selu\", kernel_initializer=\"lecun_normal\"),\n",
        "    keras.layers.Dense(100, activation=\"selu\", kernel_initializer=\"lecun_normal\"),\n",
        "    keras.layers.Dense(10, activation=\"softmax\")\n",
        "])\n",
        "optimizer = keras.optimizers.SGD(learning_rate=0.02, momentum=0.9)\n",
        "model.compile(loss=\"sparse_categorical_crossentropy\", optimizer=optimizer, metrics=[\"accuracy\"])\n",
        "n_epochs = 25\n",
        "history = model.fit(X_train_scaled, y_train, epochs=n_epochs,\n",
        "                    validation_data=(X_valid_scaled, y_valid),\n",
        "                    callbacks=[lr_scheduler])"
      ],
      "metadata": {
        "colab": {
          "base_uri": "https://localhost:8080/"
        },
        "id": "m166e-QlotLi",
        "outputId": "81b3466a-22a8-4d49-c876-0053062cc3c7"
      },
      "execution_count": 27,
      "outputs": [
        {
          "output_type": "stream",
          "name": "stdout",
          "text": [
            "Epoch 1/25\n",
            "1719/1719 [==============================] - 6s 3ms/step - loss: 0.5872 - accuracy: 0.8078 - val_loss: 0.4630 - val_accuracy: 0.8546 - lr: 0.0200\n",
            "Epoch 2/25\n",
            "1719/1719 [==============================] - 5s 3ms/step - loss: 0.4996 - accuracy: 0.8391 - val_loss: 0.6037 - val_accuracy: 0.8296 - lr: 0.0200\n",
            "Epoch 3/25\n",
            "1719/1719 [==============================] - 6s 3ms/step - loss: 0.5323 - accuracy: 0.8384 - val_loss: 0.5186 - val_accuracy: 0.8532 - lr: 0.0200\n",
            "Epoch 4/25\n",
            "1719/1719 [==============================] - 5s 3ms/step - loss: 0.5125 - accuracy: 0.8464 - val_loss: 0.5296 - val_accuracy: 0.8446 - lr: 0.0200\n",
            "Epoch 5/25\n",
            "1719/1719 [==============================] - 5s 3ms/step - loss: 0.5470 - accuracy: 0.8454 - val_loss: 0.4961 - val_accuracy: 0.8464 - lr: 0.0200\n",
            "Epoch 6/25\n",
            "1719/1719 [==============================] - 6s 3ms/step - loss: 0.5061 - accuracy: 0.8539 - val_loss: 0.5420 - val_accuracy: 0.8450 - lr: 0.0200\n",
            "Epoch 7/25\n",
            "1719/1719 [==============================] - 6s 3ms/step - loss: 0.3055 - accuracy: 0.8941 - val_loss: 0.4136 - val_accuracy: 0.8594 - lr: 0.0100\n",
            "Epoch 8/25\n",
            "1719/1719 [==============================] - 5s 3ms/step - loss: 0.2615 - accuracy: 0.9054 - val_loss: 0.3699 - val_accuracy: 0.8786 - lr: 0.0100\n",
            "Epoch 9/25\n",
            "1719/1719 [==============================] - 5s 3ms/step - loss: 0.2373 - accuracy: 0.9127 - val_loss: 0.3908 - val_accuracy: 0.8840 - lr: 0.0100\n",
            "Epoch 10/25\n",
            "1719/1719 [==============================] - 6s 3ms/step - loss: 0.2261 - accuracy: 0.9174 - val_loss: 0.3739 - val_accuracy: 0.8922 - lr: 0.0100\n",
            "Epoch 11/25\n",
            "1719/1719 [==============================] - 5s 3ms/step - loss: 0.2093 - accuracy: 0.9212 - val_loss: 0.3988 - val_accuracy: 0.8850 - lr: 0.0100\n",
            "Epoch 12/25\n",
            "1719/1719 [==============================] - 5s 3ms/step - loss: 0.2029 - accuracy: 0.9247 - val_loss: 0.4477 - val_accuracy: 0.8778 - lr: 0.0100\n",
            "Epoch 13/25\n",
            "1719/1719 [==============================] - 6s 3ms/step - loss: 0.1962 - accuracy: 0.9275 - val_loss: 0.4668 - val_accuracy: 0.8850 - lr: 0.0100\n",
            "Epoch 14/25\n",
            "1719/1719 [==============================] - 6s 3ms/step - loss: 0.1350 - accuracy: 0.9478 - val_loss: 0.4089 - val_accuracy: 0.8900 - lr: 0.0050\n",
            "Epoch 15/25\n",
            "1719/1719 [==============================] - 6s 3ms/step - loss: 0.1199 - accuracy: 0.9530 - val_loss: 0.4142 - val_accuracy: 0.8920 - lr: 0.0050\n",
            "Epoch 16/25\n",
            "1719/1719 [==============================] - 6s 3ms/step - loss: 0.1107 - accuracy: 0.9568 - val_loss: 0.4400 - val_accuracy: 0.8978 - lr: 0.0050\n",
            "Epoch 17/25\n",
            "1719/1719 [==============================] - 6s 3ms/step - loss: 0.1043 - accuracy: 0.9599 - val_loss: 0.4570 - val_accuracy: 0.8916 - lr: 0.0050\n",
            "Epoch 18/25\n",
            "1719/1719 [==============================] - 5s 3ms/step - loss: 0.0971 - accuracy: 0.9622 - val_loss: 0.4805 - val_accuracy: 0.8888 - lr: 0.0050\n",
            "Epoch 19/25\n",
            "1719/1719 [==============================] - 6s 3ms/step - loss: 0.0754 - accuracy: 0.9715 - val_loss: 0.4748 - val_accuracy: 0.8976 - lr: 0.0025\n",
            "Epoch 20/25\n",
            "1719/1719 [==============================] - 5s 3ms/step - loss: 0.0690 - accuracy: 0.9743 - val_loss: 0.4696 - val_accuracy: 0.8946 - lr: 0.0025\n",
            "Epoch 21/25\n",
            "1719/1719 [==============================] - 5s 3ms/step - loss: 0.0648 - accuracy: 0.9774 - val_loss: 0.4928 - val_accuracy: 0.8936 - lr: 0.0025\n",
            "Epoch 22/25\n",
            "1719/1719 [==============================] - 5s 3ms/step - loss: 0.0619 - accuracy: 0.9779 - val_loss: 0.5102 - val_accuracy: 0.8950 - lr: 0.0025\n",
            "Epoch 23/25\n",
            "1719/1719 [==============================] - 5s 3ms/step - loss: 0.0579 - accuracy: 0.9794 - val_loss: 0.5117 - val_accuracy: 0.8954 - lr: 0.0025\n",
            "Epoch 24/25\n",
            "1719/1719 [==============================] - 5s 3ms/step - loss: 0.0498 - accuracy: 0.9835 - val_loss: 0.5165 - val_accuracy: 0.8962 - lr: 0.0012\n",
            "Epoch 25/25\n",
            "1719/1719 [==============================] - 5s 3ms/step - loss: 0.0473 - accuracy: 0.9843 - val_loss: 0.5264 - val_accuracy: 0.8946 - lr: 0.0012\n"
          ]
        }
      ]
    },
    {
      "cell_type": "code",
      "source": [
        "plt.plot(history.epoch, history.history[\"lr\"], \"bo-\")\n",
        "plt.xlabel(\"Epoch\")\n",
        "plt.ylabel(\"Learning Rate\", color='b')\n",
        "plt.tick_params('y', colors='b')\n",
        "plt.gca().set_xlim(0, n_epochs - 1)\n",
        "plt.grid(True)\n",
        "\n",
        "ax2 = plt.gca().twinx()\n",
        "ax2.plot(history.epoch, history.history[\"val_loss\"], \"r^-\")\n",
        "ax2.set_ylabel('Validation Loss', color='r')\n",
        "ax2.tick_params('y', colors='r')\n",
        "\n",
        "plt.title(\"Reduce LR on Plateau\", fontsize=14)\n",
        "plt.show()"
      ],
      "metadata": {
        "colab": {
          "base_uri": "https://localhost:8080/",
          "height": 303
        },
        "id": "TivVEgLYouMR",
        "outputId": "ec17b2ff-f635-4333-9f94-97117cfddd1e"
      },
      "execution_count": 28,
      "outputs": [
        {
          "output_type": "display_data",
          "data": {
            "image/png": "[encoded data removed]",
            "text/plain": [
              "<Figure size 432x288 with 2 Axes>"
            ]
          },
          "metadata": {
            "needs_background": "light"
          }
        }
      ]
    },
    {
      "cell_type": "markdown",
      "source": [
        "### tf.keras schedulers\n"
      ],
      "metadata": {
        "id": "l0jJ7g4Jo0iv"
      }
    },
    {
      "cell_type": "code",
      "source": [
        "model = keras.models.Sequential([\n",
        "    keras.layers.Flatten(input_shape=[28, 28]),\n",
        "    keras.layers.Dense(300, activation=\"selu\", kernel_initializer=\"lecun_normal\"),\n",
        "    keras.layers.Dense(100, activation=\"selu\", kernel_initializer=\"lecun_normal\"),\n",
        "    keras.layers.Dense(10, activation=\"softmax\")\n",
        "])\n",
        "s = 20 * len(X_train) // 32 # number of steps in 20 epochs (batch size = 32)\n",
        "learning_rate = keras.optimizers.schedules.ExponentialDecay(0.01, s, 0.1)\n",
        "optimizer = keras.optimizers.SGD(learning_rate)\n",
        "model.compile(loss=\"sparse_categorical_crossentropy\", optimizer=optimizer, metrics=[\"accuracy\"])\n",
        "n_epochs = 25\n",
        "history = model.fit(X_train_scaled, y_train, epochs=n_epochs,\n",
        "                    validation_data=(X_valid_scaled, y_valid))"
      ],
      "metadata": {
        "colab": {
          "base_uri": "https://localhost:8080/"
        },
        "id": "RVhpAHTAowrx",
        "outputId": "ca7f7937-3fe0-4898-db99-5f7152c0dea8"
      },
      "execution_count": 29,
      "outputs": [
        {
          "output_type": "stream",
          "name": "stdout",
          "text": [
            "Epoch 1/25\n",
            "1719/1719 [==============================] - 6s 3ms/step - loss: 0.4894 - accuracy: 0.8274 - val_loss: 0.4092 - val_accuracy: 0.8604\n",
            "Epoch 2/25\n",
            "1719/1719 [==============================] - 6s 3ms/step - loss: 0.3820 - accuracy: 0.8651 - val_loss: 0.3739 - val_accuracy: 0.8694\n",
            "Epoch 3/25\n",
            "1719/1719 [==============================] - 5s 3ms/step - loss: 0.3487 - accuracy: 0.8766 - val_loss: 0.3731 - val_accuracy: 0.8684\n",
            "Epoch 4/25\n",
            "1719/1719 [==============================] - 5s 3ms/step - loss: 0.3264 - accuracy: 0.8836 - val_loss: 0.3492 - val_accuracy: 0.8802\n",
            "Epoch 5/25\n",
            "1719/1719 [==============================] - 5s 3ms/step - loss: 0.3104 - accuracy: 0.8897 - val_loss: 0.3432 - val_accuracy: 0.8794\n",
            "Epoch 6/25\n",
            "1719/1719 [==============================] - 5s 3ms/step - loss: 0.2958 - accuracy: 0.8953 - val_loss: 0.3416 - val_accuracy: 0.8812\n",
            "Epoch 7/25\n",
            "1719/1719 [==============================] - 6s 3ms/step - loss: 0.2854 - accuracy: 0.8987 - val_loss: 0.3356 - val_accuracy: 0.8810\n",
            "Epoch 8/25\n",
            "1719/1719 [==============================] - 6s 3ms/step - loss: 0.2761 - accuracy: 0.9018 - val_loss: 0.3366 - val_accuracy: 0.8812\n",
            "Epoch 9/25\n",
            "1719/1719 [==============================] - 6s 3ms/step - loss: 0.2677 - accuracy: 0.9053 - val_loss: 0.3265 - val_accuracy: 0.8852\n",
            "Epoch 10/25\n",
            "1719/1719 [==============================] - 5s 3ms/step - loss: 0.2608 - accuracy: 0.9068 - val_loss: 0.3241 - val_accuracy: 0.8854\n",
            "Epoch 11/25\n",
            "1719/1719 [==============================] - 6s 3ms/step - loss: 0.2551 - accuracy: 0.9088 - val_loss: 0.3251 - val_accuracy: 0.8856\n",
            "Epoch 12/25\n",
            "1719/1719 [==============================] - 5s 3ms/step - loss: 0.2497 - accuracy: 0.9127 - val_loss: 0.3301 - val_accuracy: 0.8812\n",
            "Epoch 13/25\n",
            "1719/1719 [==============================] - 6s 3ms/step - loss: 0.2449 - accuracy: 0.9136 - val_loss: 0.3219 - val_accuracy: 0.8860\n",
            "Epoch 14/25\n",
            "1719/1719 [==============================] - 5s 3ms/step - loss: 0.2415 - accuracy: 0.9147 - val_loss: 0.3223 - val_accuracy: 0.8868\n",
            "Epoch 15/25\n",
            "1719/1719 [==============================] - 5s 3ms/step - loss: 0.2375 - accuracy: 0.9168 - val_loss: 0.3210 - val_accuracy: 0.8872\n",
            "Epoch 16/25\n",
            "1719/1719 [==============================] - 5s 3ms/step - loss: 0.2343 - accuracy: 0.9179 - val_loss: 0.3185 - val_accuracy: 0.8886\n",
            "Epoch 17/25\n",
            "1719/1719 [==============================] - 5s 3ms/step - loss: 0.2317 - accuracy: 0.9187 - val_loss: 0.3197 - val_accuracy: 0.8900\n",
            "Epoch 18/25\n",
            "1719/1719 [==============================] - 5s 3ms/step - loss: 0.2291 - accuracy: 0.9194 - val_loss: 0.3169 - val_accuracy: 0.8898\n",
            "Epoch 19/25\n",
            "1719/1719 [==============================] - 6s 3ms/step - loss: 0.2269 - accuracy: 0.9207 - val_loss: 0.3197 - val_accuracy: 0.8892\n",
            "Epoch 20/25\n",
            "1719/1719 [==============================] - 5s 3ms/step - loss: 0.2250 - accuracy: 0.9219 - val_loss: 0.3169 - val_accuracy: 0.8892\n",
            "Epoch 21/25\n",
            "1719/1719 [==============================] - 5s 3ms/step - loss: 0.2229 - accuracy: 0.9224 - val_loss: 0.3180 - val_accuracy: 0.8904\n",
            "Epoch 22/25\n",
            "1719/1719 [==============================] - 6s 3ms/step - loss: 0.2216 - accuracy: 0.9223 - val_loss: 0.3163 - val_accuracy: 0.8908\n",
            "Epoch 23/25\n",
            "1719/1719 [==============================] - 5s 3ms/step - loss: 0.2201 - accuracy: 0.9234 - val_loss: 0.3171 - val_accuracy: 0.8904\n",
            "Epoch 24/25\n",
            "1719/1719 [==============================] - 6s 3ms/step - loss: 0.2188 - accuracy: 0.9240 - val_loss: 0.3166 - val_accuracy: 0.8906\n",
            "Epoch 25/25\n",
            "1719/1719 [==============================] - 6s 3ms/step - loss: 0.2179 - accuracy: 0.9243 - val_loss: 0.3165 - val_accuracy: 0.8904\n"
          ]
        }
      ]
    },
    {
      "cell_type": "code",
      "source": [
        "learning_rate = keras.optimizers.schedules.PiecewiseConstantDecay(\n",
        "    boundaries=[5. * n_steps_per_epoch, 15. * n_steps_per_epoch],\n",
        "    values=[0.01, 0.005, 0.001])\n"
      ],
      "metadata": {
        "id": "ctt6Phizo2UQ"
      },
      "execution_count": 30,
      "outputs": []
    },
    {
      "cell_type": "markdown",
      "source": [
        "### 1Cycle scheduling\n"
      ],
      "metadata": {
        "id": "V5u_FOA_o5Bn"
      }
    },
    {
      "cell_type": "code",
      "source": [
        "K = keras.backend\n",
        "\n",
        "class ExponentialLearningRate(keras.callbacks.Callback):\n",
        "    def __init__(self, factor):\n",
        "        self.factor = factor\n",
        "        self.rates = []\n",
        "        self.losses = []\n",
        "    def on_batch_end(self, batch, logs):\n",
        "        self.rates.append(K.get_value(self.model.optimizer.learning_rate))\n",
        "        self.losses.append(logs[\"loss\"])\n",
        "        K.set_value(self.model.optimizer.learning_rate, self.model.optimizer.learning_rate * self.factor)\n",
        "\n",
        "def find_learning_rate(model, X, y, epochs=1, batch_size=32, min_rate=10**-5, max_rate=10):\n",
        "    init_weights = model.get_weights()\n",
        "    iterations = math.ceil(len(X) / batch_size) * epochs\n",
        "    factor = np.exp(np.log(max_rate / min_rate) / iterations)\n",
        "    init_lr = K.get_value(model.optimizer.learning_rate)\n",
        "    K.set_value(model.optimizer.learning_rate, min_rate)\n",
        "    exp_lr = ExponentialLearningRate(factor)\n",
        "    history = model.fit(X, y, epochs=epochs, batch_size=batch_size,\n",
        "                        callbacks=[exp_lr])\n",
        "    K.set_value(model.optimizer.learning_rate, init_lr)\n",
        "    model.set_weights(init_weights)\n",
        "    return exp_lr.rates, exp_lr.losses\n",
        "\n",
        "def plot_lr_vs_loss(rates, losses):\n",
        "    plt.plot(rates, losses)\n",
        "    plt.gca().set_xscale('log')\n",
        "    plt.hlines(min(losses), min(rates), max(rates))\n",
        "    plt.axis([min(rates), max(rates), min(losses), (losses[0] + min(losses)) / 2])\n",
        "    plt.xlabel(\"Learning rate\")\n",
        "    plt.ylabel(\"Loss\")"
      ],
      "metadata": {
        "id": "1GBOdl27o3cQ"
      },
      "execution_count": 31,
      "outputs": []
    },
    {
      "cell_type": "code",
      "source": [
        "class ExponentialLearningRate(keras.callbacks.Callback):\n",
        "    def __init__(self, factor):\n",
        "        self.factor = factor\n",
        "        self.rates = []\n",
        "        self.losses = []\n",
        "    def on_epoch_begin(self, epoch, logs=None):\n",
        "        self.prev_loss = 0\n",
        "    def on_batch_end(self, batch, logs=None):\n",
        "        batch_loss = logs[\"loss\"] * (batch + 1) - self.prev_loss * batch\n",
        "        self.prev_loss = logs[\"loss\"]\n",
        "        self.rates.append(K.get_value(self.model.optimizer.learning_rate))\n",
        "        self.losses.append(batch_loss)\n",
        "        K.set_value(self.model.optimizer.learning_rate, self.model.optimizer.learning_rate * self.factor)"
      ],
      "metadata": {
        "id": "_7a3js-vo77H"
      },
      "execution_count": 32,
      "outputs": []
    },
    {
      "cell_type": "code",
      "source": [
        "tf.random.set_seed(42)\n",
        "np.random.seed(42)\n",
        "\n",
        "model = keras.models.Sequential([\n",
        "    keras.layers.Flatten(input_shape=[28, 28]),\n",
        "    keras.layers.Dense(300, activation=\"selu\", kernel_initializer=\"lecun_normal\"),\n",
        "    keras.layers.Dense(100, activation=\"selu\", kernel_initializer=\"lecun_normal\"),\n",
        "    keras.layers.Dense(10, activation=\"softmax\")\n",
        "])\n",
        "model.compile(loss=\"sparse_categorical_crossentropy\",\n",
        "              optimizer=keras.optimizers.SGD(learning_rate=1e-3),\n",
        "              metrics=[\"accuracy\"])"
      ],
      "metadata": {
        "id": "X4kdL-zBo9FK"
      },
      "execution_count": 33,
      "outputs": []
    },
    {
      "cell_type": "code",
      "source": [
        "batch_size = 128\n",
        "rates, losses = find_learning_rate(model, X_train_scaled, y_train, epochs=1, batch_size=batch_size)\n",
        "plot_lr_vs_loss(rates, losses)"
      ],
      "metadata": {
        "colab": {
          "base_uri": "https://localhost:8080/",
          "height": 307
        },
        "id": "aCKGJ4-yo-Wq",
        "outputId": "0e83c076-b91a-4882-ba93-3f223a0c1166"
      },
      "execution_count": 34,
      "outputs": [
        {
          "output_type": "stream",
          "name": "stdout",
          "text": [
            "430/430 [==============================] - 2s 4ms/step - loss: nan - accuracy: 0.3875\n"
          ]
        },
        {
          "output_type": "display_data",
          "data": {
            "image/png": "[encoded data removed]",
            "text/plain": [
              "<Figure size 432x288 with 1 Axes>"
            ]
          },
          "metadata": {
            "needs_background": "light"
          }
        }
      ]
    },
    {
      "cell_type": "code",
      "source": [
        "class OneCycleScheduler(keras.callbacks.Callback):\n",
        "    def __init__(self, iterations, max_rate, start_rate=None,\n",
        "                 last_iterations=None, last_rate=None):\n",
        "        self.iterations = iterations\n",
        "        self.max_rate = max_rate\n",
        "        self.start_rate = start_rate or max_rate / 10\n",
        "        self.last_iterations = last_iterations or iterations // 10 + 1\n",
        "        self.half_iteration = (iterations - self.last_iterations) // 2\n",
        "        self.last_rate = last_rate or self.start_rate / 1000\n",
        "        self.iteration = 0\n",
        "    def _interpolate(self, iter1, iter2, rate1, rate2):\n",
        "        return ((rate2 - rate1) * (self.iteration - iter1)\n",
        "                / (iter2 - iter1) + rate1)\n",
        "    def on_batch_begin(self, batch, logs):\n",
        "        if self.iteration < self.half_iteration:\n",
        "            rate = self._interpolate(0, self.half_iteration, self.start_rate, self.max_rate)\n",
        "        elif self.iteration < 2 * self.half_iteration:\n",
        "            rate = self._interpolate(self.half_iteration, 2 * self.half_iteration,\n",
        "                                     self.max_rate, self.start_rate)\n",
        "        else:\n",
        "            rate = self._interpolate(2 * self.half_iteration, self.iterations,\n",
        "                                     self.start_rate, self.last_rate)\n",
        "        self.iteration += 1\n",
        "        K.set_value(self.model.optimizer.learning_rate, rate)\n"
      ],
      "metadata": {
        "id": "BKXZgH5do_MT"
      },
      "execution_count": 35,
      "outputs": []
    },
    {
      "cell_type": "code",
      "source": [
        "n_epochs = 25\n",
        "onecycle = OneCycleScheduler(math.ceil(len(X_train) / batch_size) * n_epochs, max_rate=0.05)\n",
        "history = model.fit(X_train_scaled, y_train, epochs=n_epochs, batch_size=batch_size,\n",
        "                    validation_data=(X_valid_scaled, y_valid),\n",
        "                    callbacks=[onecycle])"
      ],
      "metadata": {
        "colab": {
          "base_uri": "https://localhost:8080/"
        },
        "id": "uhq2S0fTpArr",
        "outputId": "a9211dce-df85-453e-96e7-8fbd7445b8cf"
      },
      "execution_count": 36,
      "outputs": [
        {
          "output_type": "stream",
          "name": "stdout",
          "text": [
            "Epoch 1/25\n",
            "430/430 [==============================] - 2s 4ms/step - loss: 0.6572 - accuracy: 0.7740 - val_loss: 0.4872 - val_accuracy: 0.8336\n",
            "Epoch 2/25\n",
            "430/430 [==============================] - 2s 4ms/step - loss: 0.4581 - accuracy: 0.8397 - val_loss: 0.4274 - val_accuracy: 0.8524\n",
            "Epoch 3/25\n",
            "430/430 [==============================] - 2s 4ms/step - loss: 0.4122 - accuracy: 0.8549 - val_loss: 0.4114 - val_accuracy: 0.8586\n",
            "Epoch 4/25\n",
            "430/430 [==============================] - 2s 4ms/step - loss: 0.3837 - accuracy: 0.8641 - val_loss: 0.3870 - val_accuracy: 0.8690\n",
            "Epoch 5/25\n",
            "430/430 [==============================] - 2s 4ms/step - loss: 0.3640 - accuracy: 0.8716 - val_loss: 0.3767 - val_accuracy: 0.8678\n",
            "Epoch 6/25\n",
            "430/430 [==============================] - 2s 4ms/step - loss: 0.3457 - accuracy: 0.8773 - val_loss: 0.3743 - val_accuracy: 0.8706\n",
            "Epoch 7/25\n",
            "430/430 [==============================] - 2s 4ms/step - loss: 0.3330 - accuracy: 0.8810 - val_loss: 0.3630 - val_accuracy: 0.8712\n",
            "Epoch 8/25\n",
            "430/430 [==============================] - 2s 4ms/step - loss: 0.3184 - accuracy: 0.8860 - val_loss: 0.3959 - val_accuracy: 0.8608\n",
            "Epoch 9/25\n",
            "430/430 [==============================] - 2s 4ms/step - loss: 0.3066 - accuracy: 0.8892 - val_loss: 0.3492 - val_accuracy: 0.8758\n",
            "Epoch 10/25\n",
            "430/430 [==============================] - 2s 4ms/step - loss: 0.2944 - accuracy: 0.8924 - val_loss: 0.3398 - val_accuracy: 0.8796\n",
            "Epoch 11/25\n",
            "430/430 [==============================] - 2s 4ms/step - loss: 0.2840 - accuracy: 0.8959 - val_loss: 0.3456 - val_accuracy: 0.8814\n",
            "Epoch 12/25\n",
            "430/430 [==============================] - 2s 4ms/step - loss: 0.2710 - accuracy: 0.9025 - val_loss: 0.3642 - val_accuracy: 0.8696\n",
            "Epoch 13/25\n",
            "430/430 [==============================] - 2s 4ms/step - loss: 0.2538 - accuracy: 0.9083 - val_loss: 0.3346 - val_accuracy: 0.8836\n",
            "Epoch 14/25\n",
            "430/430 [==============================] - 2s 4ms/step - loss: 0.2406 - accuracy: 0.9132 - val_loss: 0.3470 - val_accuracy: 0.8806\n",
            "Epoch 15/25\n",
            "430/430 [==============================] - 2s 4ms/step - loss: 0.2281 - accuracy: 0.9183 - val_loss: 0.3259 - val_accuracy: 0.8842\n",
            "Epoch 16/25\n",
            "430/430 [==============================] - 2s 4ms/step - loss: 0.2161 - accuracy: 0.9233 - val_loss: 0.3293 - val_accuracy: 0.8840\n",
            "Epoch 17/25\n",
            "430/430 [==============================] - 2s 4ms/step - loss: 0.2063 - accuracy: 0.9263 - val_loss: 0.3348 - val_accuracy: 0.8868\n",
            "Epoch 18/25\n",
            "430/430 [==============================] - 2s 4ms/step - loss: 0.1979 - accuracy: 0.9301 - val_loss: 0.3241 - val_accuracy: 0.8904\n",
            "Epoch 19/25\n",
            "430/430 [==============================] - 2s 4ms/step - loss: 0.1893 - accuracy: 0.9339 - val_loss: 0.3226 - val_accuracy: 0.8908\n",
            "Epoch 20/25\n",
            "430/430 [==============================] - 2s 4ms/step - loss: 0.1822 - accuracy: 0.9367 - val_loss: 0.3223 - val_accuracy: 0.8928\n",
            "Epoch 21/25\n",
            "430/430 [==============================] - 2s 4ms/step - loss: 0.1753 - accuracy: 0.9399 - val_loss: 0.3216 - val_accuracy: 0.8914\n",
            "Epoch 22/25\n",
            "430/430 [==============================] - 2s 4ms/step - loss: 0.1701 - accuracy: 0.9419 - val_loss: 0.3179 - val_accuracy: 0.8942\n",
            "Epoch 23/25\n",
            "430/430 [==============================] - 2s 4ms/step - loss: 0.1654 - accuracy: 0.9438 - val_loss: 0.3184 - val_accuracy: 0.8948\n",
            "Epoch 24/25\n",
            "430/430 [==============================] - 2s 4ms/step - loss: 0.1626 - accuracy: 0.9453 - val_loss: 0.3174 - val_accuracy: 0.8930\n",
            "Epoch 25/25\n",
            "430/430 [==============================] - 2s 4ms/step - loss: 0.1609 - accuracy: 0.9464 - val_loss: 0.3167 - val_accuracy: 0.8938\n"
          ]
        }
      ]
    },
    {
      "cell_type": "markdown",
      "source": [
        "## ***Avoiding Overfitting Through Regularization\n",
        "use for overfitting"
      ],
      "metadata": {
        "id": "j63USTaTpDjP"
      }
    },
    {
      "cell_type": "markdown",
      "source": [
        "### l1 and l2 regularization"
      ],
      "metadata": {
        "id": "mxeeysT9pH7k"
      }
    },
    {
      "cell_type": "code",
      "source": [
        "layer = keras.layers.Dense(100, activation=\"elu\",\n",
        "                           kernel_initializer=\"he_normal\",\n",
        "                           kernel_regularizer=keras.regularizers.l2(0.01))"
      ],
      "metadata": {
        "id": "NTnXSFp8pBtL"
      },
      "execution_count": 37,
      "outputs": []
    },
    {
      "cell_type": "code",
      "source": [
        "model = keras.models.Sequential([\n",
        "    keras.layers.Flatten(input_shape=[28, 28]),\n",
        "    keras.layers.Dense(300, activation=\"elu\",\n",
        "                       kernel_initializer=\"he_normal\",\n",
        "                       kernel_regularizer=keras.regularizers.l2(0.01)),\n",
        "    keras.layers.Dense(100, activation=\"elu\",\n",
        "                       kernel_initializer=\"he_normal\",\n",
        "                       kernel_regularizer=keras.regularizers.l2(0.01)),\n",
        "    keras.layers.Dense(10, activation=\"softmax\",\n",
        "                       kernel_regularizer=keras.regularizers.l2(0.01))\n",
        "])\n",
        "model.compile(loss=\"sparse_categorical_crossentropy\", optimizer=\"nadam\", metrics=[\"accuracy\"])\n",
        "n_epochs = 2\n",
        "history = model.fit(X_train_scaled, y_train, epochs=n_epochs,\n",
        "                    validation_data=(X_valid_scaled, y_valid))"
      ],
      "metadata": {
        "colab": {
          "base_uri": "https://localhost:8080/"
        },
        "id": "EMVRiGJopOVd",
        "outputId": "3880b760-c7e1-4bfa-a50b-f2815633952c"
      },
      "execution_count": 38,
      "outputs": [
        {
          "output_type": "stream",
          "name": "stdout",
          "text": [
            "Epoch 1/2\n",
            "1719/1719 [==============================] - 9s 5ms/step - loss: 1.5956 - accuracy: 0.8124 - val_loss: 0.7169 - val_accuracy: 0.8340\n",
            "Epoch 2/2\n",
            "1719/1719 [==============================] - 8s 4ms/step - loss: 0.7197 - accuracy: 0.8274 - val_loss: 0.6850 - val_accuracy: 0.8376\n"
          ]
        }
      ]
    },
    {
      "cell_type": "code",
      "source": [
        "from functools import partial\n",
        "\n",
        "RegularizedDense = partial(keras.layers.Dense,\n",
        "                           activation=\"elu\",\n",
        "                           kernel_initializer=\"he_normal\",\n",
        "                           kernel_regularizer=keras.regularizers.l2(0.01))\n",
        "\n",
        "model = keras.models.Sequential([\n",
        "    keras.layers.Flatten(input_shape=[28, 28]),\n",
        "    RegularizedDense(300),\n",
        "    RegularizedDense(100),\n",
        "    RegularizedDense(10, activation=\"softmax\")\n",
        "])\n",
        "model.compile(loss=\"sparse_categorical_crossentropy\", optimizer=\"nadam\", metrics=[\"accuracy\"])\n",
        "n_epochs = 2\n",
        "history = model.fit(X_train_scaled, y_train, epochs=n_epochs,\n",
        "                    validation_data=(X_valid_scaled, y_valid))"
      ],
      "metadata": {
        "colab": {
          "base_uri": "https://localhost:8080/"
        },
        "id": "PZ3pst4gpPn2",
        "outputId": "cd5a1b53-8057-497d-fe98-9bedea095f14"
      },
      "execution_count": 39,
      "outputs": [
        {
          "output_type": "stream",
          "name": "stdout",
          "text": [
            "Epoch 1/2\n",
            "1719/1719 [==============================] - 9s 5ms/step - loss: 1.6313 - accuracy: 0.8113 - val_loss: 0.7218 - val_accuracy: 0.8310\n",
            "Epoch 2/2\n",
            "1719/1719 [==============================] - 8s 5ms/step - loss: 0.7187 - accuracy: 0.8273 - val_loss: 0.6826 - val_accuracy: 0.8382\n"
          ]
        }
      ]
    },
    {
      "cell_type": "code",
      "source": [
        "from functools import partial\n",
        "\n",
        "RegularizedDense = partial(keras.layers.Dense,\n",
        "                           activation=\"elu\",\n",
        "                           kernel_initializer=\"he_normal\",\n",
        "                           kernel_regularizer=keras.regularizers.l2(0.01))\n",
        "\n",
        "model = keras.models.Sequential([\n",
        "    keras.layers.Flatten(input_shape=[28, 28]),\n",
        "    RegularizedDense(300),\n",
        "    RegularizedDense(100),\n",
        "    RegularizedDense(10, activation=\"softmax\")\n",
        "])\n",
        "model.compile(loss=\"sparse_categorical_crossentropy\", optimizer=\"nadam\", metrics=[\"accuracy\"])\n",
        "n_epochs = 2\n",
        "history = model.fit(X_train_scaled, y_train, epochs=n_epochs,\n",
        "                    validation_data=(X_valid_scaled, y_valid))\n"
      ],
      "metadata": {
        "colab": {
          "base_uri": "https://localhost:8080/"
        },
        "id": "Yna4os48pRFm",
        "outputId": "49c75405-e38a-4cad-d65f-86153665cc78"
      },
      "execution_count": 40,
      "outputs": [
        {
          "output_type": "stream",
          "name": "stdout",
          "text": [
            "Epoch 1/2\n",
            "1719/1719 [==============================] - 9s 5ms/step - loss: 1.6630 - accuracy: 0.8122 - val_loss: 0.7201 - val_accuracy: 0.8308\n",
            "Epoch 2/2\n",
            "1719/1719 [==============================] - 8s 5ms/step - loss: 0.7188 - accuracy: 0.8266 - val_loss: 0.6806 - val_accuracy: 0.8402\n"
          ]
        }
      ]
    },
    {
      "cell_type": "markdown",
      "source": [
        "### Dropout\n"
      ],
      "metadata": {
        "id": "4Kccjmu4pY5e"
      }
    },
    {
      "cell_type": "code",
      "source": [
        "model = keras.models.Sequential([\n",
        "    keras.layers.Flatten(input_shape=[28, 28]),\n",
        "    keras.layers.Dropout(rate=0.2),\n",
        "    keras.layers.Dense(300, activation=\"elu\", kernel_initializer=\"he_normal\"),\n",
        "    keras.layers.Dropout(rate=0.2),\n",
        "    keras.layers.Dense(100, activation=\"elu\", kernel_initializer=\"he_normal\"),\n",
        "    keras.layers.Dropout(rate=0.2),\n",
        "    keras.layers.Dense(10, activation=\"softmax\")\n",
        "])\n",
        "model.compile(loss=\"sparse_categorical_crossentropy\", optimizer=\"nadam\", metrics=[\"accuracy\"])\n",
        "n_epochs = 2\n",
        "history = model.fit(X_train_scaled, y_train, epochs=n_epochs,\n",
        "                    validation_data=(X_valid_scaled, y_valid))\n"
      ],
      "metadata": {
        "colab": {
          "base_uri": "https://localhost:8080/"
        },
        "id": "tnKvS4LmpVq6",
        "outputId": "079f1794-b6c7-4c4a-90ee-b9ef1438dac4"
      },
      "execution_count": 41,
      "outputs": [
        {
          "output_type": "stream",
          "name": "stdout",
          "text": [
            "Epoch 1/2\n",
            "1719/1719 [==============================] - 9s 5ms/step - loss: 0.5708 - accuracy: 0.8029 - val_loss: 0.3612 - val_accuracy: 0.8726\n",
            "Epoch 2/2\n",
            "1719/1719 [==============================] - 8s 4ms/step - loss: 0.4179 - accuracy: 0.8464 - val_loss: 0.3500 - val_accuracy: 0.8708\n"
          ]
        }
      ]
    },
    {
      "cell_type": "markdown",
      "source": [
        "### Alpha Dropout\n",
        "for selu and self normalize network"
      ],
      "metadata": {
        "id": "XqQLSXS9plj4"
      }
    },
    {
      "cell_type": "code",
      "source": [
        "tf.random.set_seed(42)\n",
        "np.random.seed(42)"
      ],
      "metadata": {
        "id": "G4X4hikvpk41"
      },
      "execution_count": 42,
      "outputs": []
    },
    {
      "cell_type": "code",
      "source": [
        "model = keras.models.Sequential([\n",
        "    keras.layers.Flatten(input_shape=[28, 28]),\n",
        "    keras.layers.AlphaDropout(rate=0.2),\n",
        "    keras.layers.Dense(300, activation=\"selu\", kernel_initializer=\"lecun_normal\"),\n",
        "    keras.layers.AlphaDropout(rate=0.2),\n",
        "    keras.layers.Dense(100, activation=\"selu\", kernel_initializer=\"lecun_normal\"),\n",
        "    keras.layers.AlphaDropout(rate=0.2),\n",
        "    keras.layers.Dense(10, activation=\"softmax\")\n",
        "])\n",
        "optimizer = keras.optimizers.SGD(learning_rate=0.01, momentum=0.9, nesterov=True)\n",
        "model.compile(loss=\"sparse_categorical_crossentropy\", optimizer=optimizer, metrics=[\"accuracy\"])\n",
        "n_epochs = 20\n",
        "history = model.fit(X_train_scaled, y_train, epochs=n_epochs,\n",
        "                    validation_data=(X_valid_scaled, y_valid))"
      ],
      "metadata": {
        "colab": {
          "base_uri": "https://localhost:8080/"
        },
        "id": "u3YrYRKhpa9Q",
        "outputId": "7321a384-2bae-442b-b390-4876440d47a7"
      },
      "execution_count": 43,
      "outputs": [
        {
          "output_type": "stream",
          "name": "stdout",
          "text": [
            "Epoch 1/20\n",
            "1719/1719 [==============================] - 7s 4ms/step - loss: 0.6617 - accuracy: 0.7611 - val_loss: 0.5756 - val_accuracy: 0.8410\n",
            "Epoch 2/20\n",
            "1719/1719 [==============================] - 6s 4ms/step - loss: 0.5547 - accuracy: 0.7968 - val_loss: 0.5406 - val_accuracy: 0.8478\n",
            "Epoch 3/20\n",
            "1719/1719 [==============================] - 6s 4ms/step - loss: 0.5256 - accuracy: 0.8059 - val_loss: 0.5014 - val_accuracy: 0.8560\n",
            "Epoch 4/20\n",
            "1719/1719 [==============================] - 6s 4ms/step - loss: 0.5050 - accuracy: 0.8123 - val_loss: 0.4736 - val_accuracy: 0.8616\n",
            "Epoch 5/20\n",
            "1719/1719 [==============================] - 6s 4ms/step - loss: 0.4923 - accuracy: 0.8170 - val_loss: 0.4648 - val_accuracy: 0.8598\n",
            "Epoch 6/20\n",
            "1719/1719 [==============================] - 6s 4ms/step - loss: 0.4836 - accuracy: 0.8203 - val_loss: 0.4806 - val_accuracy: 0.8578\n",
            "Epoch 7/20\n",
            "1719/1719 [==============================] - 6s 4ms/step - loss: 0.4718 - accuracy: 0.8248 - val_loss: 0.5089 - val_accuracy: 0.8478\n",
            "Epoch 8/20\n",
            "1719/1719 [==============================] - 6s 4ms/step - loss: 0.4641 - accuracy: 0.8287 - val_loss: 0.4610 - val_accuracy: 0.8630\n",
            "Epoch 9/20\n",
            "1719/1719 [==============================] - 6s 4ms/step - loss: 0.4609 - accuracy: 0.8301 - val_loss: 0.4275 - val_accuracy: 0.8750\n",
            "Epoch 10/20\n",
            "1719/1719 [==============================] - 6s 4ms/step - loss: 0.4526 - accuracy: 0.8311 - val_loss: 0.4408 - val_accuracy: 0.8624\n",
            "Epoch 11/20\n",
            "1719/1719 [==============================] - 6s 4ms/step - loss: 0.4472 - accuracy: 0.8347 - val_loss: 0.4054 - val_accuracy: 0.8770\n",
            "Epoch 12/20\n",
            "1719/1719 [==============================] - 6s 4ms/step - loss: 0.4437 - accuracy: 0.8345 - val_loss: 0.5426 - val_accuracy: 0.8546\n",
            "Epoch 13/20\n",
            "1719/1719 [==============================] - 6s 4ms/step - loss: 0.4429 - accuracy: 0.8360 - val_loss: 0.4193 - val_accuracy: 0.8750\n",
            "Epoch 14/20\n",
            "1719/1719 [==============================] - 6s 4ms/step - loss: 0.4369 - accuracy: 0.8396 - val_loss: 0.4581 - val_accuracy: 0.8634\n",
            "Epoch 15/20\n",
            "1719/1719 [==============================] - 6s 4ms/step - loss: 0.4317 - accuracy: 0.8383 - val_loss: 0.4532 - val_accuracy: 0.8674\n",
            "Epoch 16/20\n",
            "1719/1719 [==============================] - 6s 4ms/step - loss: 0.4287 - accuracy: 0.8404 - val_loss: 0.4369 - val_accuracy: 0.8736\n",
            "Epoch 17/20\n",
            "1719/1719 [==============================] - 6s 4ms/step - loss: 0.4310 - accuracy: 0.8403 - val_loss: 0.4969 - val_accuracy: 0.8656\n",
            "Epoch 18/20\n",
            "1719/1719 [==============================] - 6s 4ms/step - loss: 0.4275 - accuracy: 0.8391 - val_loss: 0.4569 - val_accuracy: 0.8782\n",
            "Epoch 19/20\n",
            "1719/1719 [==============================] - 6s 4ms/step - loss: 0.4243 - accuracy: 0.8428 - val_loss: 0.4769 - val_accuracy: 0.8702\n",
            "Epoch 20/20\n",
            "1719/1719 [==============================] - 6s 4ms/step - loss: 0.4177 - accuracy: 0.8430 - val_loss: 0.4084 - val_accuracy: 0.8806\n"
          ]
        }
      ]
    },
    {
      "cell_type": "code",
      "source": [
        "model.evaluate(X_test_scaled, y_test)\n"
      ],
      "metadata": {
        "colab": {
          "base_uri": "https://localhost:8080/"
        },
        "id": "4HqX5i8rpqzT",
        "outputId": "9f0ccdca-fb88-4b7d-94f4-8fd0d1b563da"
      },
      "execution_count": 44,
      "outputs": [
        {
          "output_type": "stream",
          "name": "stdout",
          "text": [
            "313/313 [==============================] - 1s 3ms/step - loss: 0.4557 - accuracy: 0.8630\n"
          ]
        },
        {
          "output_type": "execute_result",
          "data": {
            "text/plain": [
              "[0.4556819200515747, 0.8629999756813049]"
            ]
          },
          "metadata": {},
          "execution_count": 44
        }
      ]
    },
    {
      "cell_type": "code",
      "source": [
        "model.evaluate(X_train_scaled, y_train)\n"
      ],
      "metadata": {
        "colab": {
          "base_uri": "https://localhost:8080/"
        },
        "id": "D_A2k7IEpr65",
        "outputId": "7c87a20b-47d0-412f-aac6-8a5dc0555951"
      },
      "execution_count": 45,
      "outputs": [
        {
          "output_type": "stream",
          "name": "stdout",
          "text": [
            "1719/1719 [==============================] - 5s 3ms/step - loss: 0.3305 - accuracy: 0.8855\n"
          ]
        },
        {
          "output_type": "execute_result",
          "data": {
            "text/plain": [
              "[0.3304947316646576, 0.8855454325675964]"
            ]
          },
          "metadata": {},
          "execution_count": 45
        }
      ]
    },
    {
      "cell_type": "code",
      "source": [
        "history = model.fit(X_train_scaled, y_train)\n"
      ],
      "metadata": {
        "colab": {
          "base_uri": "https://localhost:8080/"
        },
        "id": "z2KZhSxrpswG",
        "outputId": "aabae074-56a6-4122-dec7-debeafd30b46"
      },
      "execution_count": 46,
      "outputs": [
        {
          "output_type": "stream",
          "name": "stdout",
          "text": [
            "1719/1719 [==============================] - 6s 3ms/step - loss: 0.4187 - accuracy: 0.8444\n"
          ]
        }
      ]
    },
    {
      "cell_type": "markdown",
      "source": [
        "## MC Dropout\n",
        "use case: su dung khi can xac dinh do chac chan khi model dung dropout"
      ],
      "metadata": {
        "id": "yCbtxBbuylsq"
      }
    },
    {
      "cell_type": "code",
      "source": [
        "tf.random.set_seed(42)\n",
        "np.random.seed(42)"
      ],
      "metadata": {
        "id": "QITcNpG-ptgP"
      },
      "execution_count": 47,
      "outputs": []
    },
    {
      "cell_type": "code",
      "source": [
        "y_probas = np.stack([model(X_test_scaled, training=True)\n",
        "                     for sample in range(100)])\n",
        "y_proba = y_probas.mean(axis=0)\n",
        "y_std = y_probas.std(axis=0)"
      ],
      "metadata": {
        "id": "TyZ9tdTNyvwc"
      },
      "execution_count": 48,
      "outputs": []
    },
    {
      "cell_type": "code",
      "source": [
        "y_probas = np.stack([model(X_test_scaled, training=True)\n",
        "                     for sample in range(100)])\n",
        "y_proba = y_probas.mean(axis=0)\n",
        "y_std = y_probas.std(axis=0)"
      ],
      "metadata": {
        "id": "OWKsp4j-ywzV"
      },
      "execution_count": 49,
      "outputs": []
    },
    {
      "cell_type": "code",
      "source": [
        "np.round(model.predict(X_test_scaled[:1]), 2)\n"
      ],
      "metadata": {
        "colab": {
          "base_uri": "https://localhost:8080/"
        },
        "id": "2iP0Sl7Hyxn6",
        "outputId": "48280a31-80d6-478c-e4c7-87be8d79e717"
      },
      "execution_count": 50,
      "outputs": [
        {
          "output_type": "execute_result",
          "data": {
            "text/plain": [
              "array([[0.  , 0.  , 0.  , 0.  , 0.  , 0.  , 0.  , 0.01, 0.  , 0.99]],\n",
              "      dtype=float32)"
            ]
          },
          "metadata": {},
          "execution_count": 50
        }
      ]
    },
    {
      "cell_type": "code",
      "source": [
        "np.round(y_probas[:, :1], 2)\n"
      ],
      "metadata": {
        "colab": {
          "base_uri": "https://localhost:8080/"
        },
        "id": "7-lBCxXJyygc",
        "outputId": "67965e1c-5d17-4554-f2de-7a63d071d689"
      },
      "execution_count": 51,
      "outputs": [
        {
          "output_type": "execute_result",
          "data": {
            "text/plain": [
              "array([[[0.  , 0.  , 0.  , 0.  , 0.  , 0.18, 0.  , 0.43, 0.  , 0.39]],\n",
              "\n",
              "       [[0.  , 0.  , 0.  , 0.  , 0.  , 0.09, 0.  , 0.74, 0.  , 0.17]],\n",
              "\n",
              "       [[0.  , 0.  , 0.  , 0.  , 0.  , 0.  , 0.  , 0.27, 0.  , 0.72]],\n",
              "\n",
              "       [[0.  , 0.  , 0.  , 0.  , 0.  , 0.02, 0.  , 0.14, 0.  , 0.84]],\n",
              "\n",
              "       [[0.  , 0.  , 0.  , 0.  , 0.  , 0.05, 0.  , 0.31, 0.  , 0.63]],\n",
              "\n",
              "       [[0.  , 0.  , 0.  , 0.  , 0.  , 0.83, 0.  , 0.04, 0.  , 0.13]],\n",
              "\n",
              "       [[0.  , 0.  , 0.  , 0.  , 0.  , 0.15, 0.  , 0.64, 0.  , 0.21]],\n",
              "\n",
              "       [[0.  , 0.  , 0.  , 0.  , 0.  , 0.02, 0.  , 0.9 , 0.  , 0.08]],\n",
              "\n",
              "       [[0.  , 0.  , 0.  , 0.  , 0.  , 0.06, 0.  , 0.64, 0.  , 0.3 ]],\n",
              "\n",
              "       [[0.  , 0.  , 0.  , 0.  , 0.  , 0.12, 0.  , 0.23, 0.  , 0.65]],\n",
              "\n",
              "       [[0.  , 0.  , 0.  , 0.  , 0.  , 0.06, 0.  , 0.08, 0.  , 0.85]],\n",
              "\n",
              "       [[0.  , 0.  , 0.  , 0.  , 0.  , 0.04, 0.  , 0.09, 0.  , 0.87]],\n",
              "\n",
              "       [[0.  , 0.  , 0.  , 0.  , 0.  , 0.59, 0.  , 0.25, 0.  , 0.16]],\n",
              "\n",
              "       [[0.  , 0.  , 0.  , 0.  , 0.  , 0.01, 0.  , 0.31, 0.  , 0.68]],\n",
              "\n",
              "       [[0.  , 0.  , 0.  , 0.  , 0.  , 0.46, 0.  , 0.15, 0.  , 0.4 ]],\n",
              "\n",
              "       [[0.  , 0.  , 0.  , 0.  , 0.  , 0.02, 0.  , 0.14, 0.  , 0.85]],\n",
              "\n",
              "       [[0.  , 0.  , 0.  , 0.  , 0.  , 0.  , 0.  , 0.09, 0.  , 0.91]],\n",
              "\n",
              "       [[0.  , 0.  , 0.  , 0.  , 0.  , 0.01, 0.  , 0.24, 0.  , 0.76]],\n",
              "\n",
              "       [[0.  , 0.  , 0.  , 0.  , 0.  , 0.  , 0.  , 0.02, 0.  , 0.98]],\n",
              "\n",
              "       [[0.  , 0.  , 0.  , 0.  , 0.  , 0.1 , 0.  , 0.  , 0.  , 0.9 ]],\n",
              "\n",
              "       [[0.  , 0.  , 0.  , 0.  , 0.  , 0.06, 0.  , 0.38, 0.  , 0.56]],\n",
              "\n",
              "       [[0.  , 0.  , 0.  , 0.  , 0.  , 0.6 , 0.  , 0.03, 0.  , 0.36]],\n",
              "\n",
              "       [[0.  , 0.  , 0.  , 0.  , 0.  , 0.7 , 0.  , 0.09, 0.  , 0.21]],\n",
              "\n",
              "       [[0.  , 0.  , 0.  , 0.  , 0.  , 0.07, 0.  , 0.25, 0.  , 0.68]],\n",
              "\n",
              "       [[0.  , 0.  , 0.  , 0.  , 0.  , 0.27, 0.  , 0.54, 0.  , 0.19]],\n",
              "\n",
              "       [[0.  , 0.  , 0.  , 0.  , 0.  , 0.09, 0.  , 0.13, 0.  , 0.78]],\n",
              "\n",
              "       [[0.  , 0.  , 0.  , 0.  , 0.  , 0.1 , 0.  , 0.  , 0.  , 0.9 ]],\n",
              "\n",
              "       [[0.  , 0.  , 0.  , 0.  , 0.  , 0.  , 0.  , 0.03, 0.  , 0.97]],\n",
              "\n",
              "       [[0.  , 0.  , 0.  , 0.  , 0.  , 0.  , 0.  , 0.08, 0.  , 0.92]],\n",
              "\n",
              "       [[0.  , 0.  , 0.  , 0.  , 0.  , 0.7 , 0.  , 0.25, 0.  , 0.05]],\n",
              "\n",
              "       [[0.  , 0.  , 0.  , 0.  , 0.  , 0.04, 0.  , 0.21, 0.  , 0.75]],\n",
              "\n",
              "       [[0.  , 0.  , 0.  , 0.  , 0.  , 0.2 , 0.  , 0.17, 0.  , 0.64]],\n",
              "\n",
              "       [[0.  , 0.  , 0.  , 0.  , 0.  , 0.02, 0.  , 0.06, 0.  , 0.91]],\n",
              "\n",
              "       [[0.  , 0.  , 0.  , 0.  , 0.  , 0.03, 0.  , 0.05, 0.  , 0.92]],\n",
              "\n",
              "       [[0.  , 0.  , 0.  , 0.  , 0.  , 0.03, 0.  , 0.22, 0.  , 0.76]],\n",
              "\n",
              "       [[0.  , 0.  , 0.  , 0.  , 0.  , 0.15, 0.  , 0.09, 0.  , 0.76]],\n",
              "\n",
              "       [[0.  , 0.  , 0.  , 0.  , 0.  , 0.01, 0.  , 0.63, 0.  , 0.37]],\n",
              "\n",
              "       [[0.  , 0.  , 0.  , 0.  , 0.  , 0.01, 0.  , 0.29, 0.  , 0.7 ]],\n",
              "\n",
              "       [[0.  , 0.  , 0.  , 0.  , 0.  , 0.13, 0.  , 0.  , 0.  , 0.87]],\n",
              "\n",
              "       [[0.  , 0.  , 0.  , 0.  , 0.  , 0.01, 0.  , 0.33, 0.  , 0.66]],\n",
              "\n",
              "       [[0.  , 0.  , 0.  , 0.  , 0.  , 0.  , 0.  , 0.03, 0.  , 0.97]],\n",
              "\n",
              "       [[0.  , 0.  , 0.  , 0.  , 0.  , 0.1 , 0.  , 0.51, 0.  , 0.38]],\n",
              "\n",
              "       [[0.  , 0.  , 0.  , 0.  , 0.  , 0.12, 0.  , 0.06, 0.  , 0.83]],\n",
              "\n",
              "       [[0.  , 0.  , 0.  , 0.  , 0.  , 0.13, 0.  , 0.12, 0.  , 0.75]],\n",
              "\n",
              "       [[0.  , 0.  , 0.  , 0.  , 0.  , 0.  , 0.  , 0.39, 0.  , 0.61]],\n",
              "\n",
              "       [[0.  , 0.  , 0.  , 0.  , 0.  , 0.12, 0.  , 0.72, 0.  , 0.16]],\n",
              "\n",
              "       [[0.  , 0.  , 0.  , 0.  , 0.  , 0.01, 0.  , 0.41, 0.  , 0.57]],\n",
              "\n",
              "       [[0.  , 0.  , 0.  , 0.  , 0.  , 0.  , 0.  , 0.3 , 0.  , 0.7 ]],\n",
              "\n",
              "       [[0.  , 0.  , 0.  , 0.  , 0.  , 0.02, 0.  , 0.01, 0.  , 0.98]],\n",
              "\n",
              "       [[0.  , 0.  , 0.  , 0.  , 0.  , 0.02, 0.  , 0.21, 0.  , 0.77]],\n",
              "\n",
              "       [[0.  , 0.  , 0.  , 0.  , 0.  , 0.02, 0.  , 0.16, 0.  , 0.82]],\n",
              "\n",
              "       [[0.  , 0.  , 0.  , 0.  , 0.  , 0.  , 0.  , 0.68, 0.  , 0.32]],\n",
              "\n",
              "       [[0.  , 0.  , 0.  , 0.  , 0.  , 0.25, 0.  , 0.13, 0.  , 0.62]],\n",
              "\n",
              "       [[0.  , 0.  , 0.  , 0.  , 0.  , 0.09, 0.  , 0.07, 0.  , 0.84]],\n",
              "\n",
              "       [[0.  , 0.  , 0.  , 0.  , 0.  , 0.  , 0.  , 0.29, 0.  , 0.71]],\n",
              "\n",
              "       [[0.  , 0.  , 0.  , 0.  , 0.  , 0.01, 0.  , 0.04, 0.  , 0.96]],\n",
              "\n",
              "       [[0.  , 0.  , 0.  , 0.  , 0.  , 0.64, 0.  , 0.08, 0.  , 0.28]],\n",
              "\n",
              "       [[0.  , 0.  , 0.  , 0.  , 0.  , 0.04, 0.  , 0.37, 0.  , 0.59]],\n",
              "\n",
              "       [[0.  , 0.  , 0.  , 0.  , 0.  , 0.01, 0.  , 0.24, 0.  , 0.75]],\n",
              "\n",
              "       [[0.  , 0.  , 0.  , 0.  , 0.  , 0.33, 0.  , 0.29, 0.  , 0.38]],\n",
              "\n",
              "       [[0.  , 0.  , 0.  , 0.  , 0.  , 0.02, 0.  , 0.56, 0.  , 0.42]],\n",
              "\n",
              "       [[0.  , 0.  , 0.  , 0.  , 0.  , 0.  , 0.  , 0.08, 0.  , 0.91]],\n",
              "\n",
              "       [[0.  , 0.  , 0.  , 0.  , 0.  , 0.11, 0.  , 0.04, 0.  , 0.85]],\n",
              "\n",
              "       [[0.  , 0.  , 0.  , 0.  , 0.  , 0.08, 0.  , 0.16, 0.  , 0.75]],\n",
              "\n",
              "       [[0.  , 0.  , 0.  , 0.  , 0.  , 0.64, 0.  , 0.27, 0.  , 0.09]],\n",
              "\n",
              "       [[0.  , 0.  , 0.  , 0.  , 0.  , 0.19, 0.  , 0.6 , 0.  , 0.2 ]],\n",
              "\n",
              "       [[0.  , 0.  , 0.  , 0.  , 0.  , 0.  , 0.  , 0.41, 0.  , 0.59]],\n",
              "\n",
              "       [[0.  , 0.  , 0.  , 0.  , 0.  , 0.04, 0.  , 0.31, 0.  , 0.65]],\n",
              "\n",
              "       [[0.  , 0.  , 0.  , 0.  , 0.  , 0.01, 0.  , 0.09, 0.  , 0.89]],\n",
              "\n",
              "       [[0.  , 0.  , 0.  , 0.  , 0.  , 0.1 , 0.  , 0.42, 0.  , 0.49]],\n",
              "\n",
              "       [[0.  , 0.  , 0.  , 0.  , 0.  , 0.02, 0.  , 0.09, 0.  , 0.9 ]],\n",
              "\n",
              "       [[0.  , 0.  , 0.  , 0.  , 0.  , 0.08, 0.  , 0.07, 0.  , 0.85]],\n",
              "\n",
              "       [[0.  , 0.  , 0.  , 0.  , 0.  , 0.87, 0.  , 0.06, 0.  , 0.08]],\n",
              "\n",
              "       [[0.  , 0.  , 0.  , 0.  , 0.  , 0.14, 0.  , 0.76, 0.  , 0.1 ]],\n",
              "\n",
              "       [[0.  , 0.  , 0.  , 0.  , 0.  , 0.06, 0.  , 0.36, 0.  , 0.59]],\n",
              "\n",
              "       [[0.  , 0.  , 0.  , 0.  , 0.  , 0.  , 0.  , 0.28, 0.  , 0.71]],\n",
              "\n",
              "       [[0.  , 0.  , 0.  , 0.  , 0.  , 0.13, 0.  , 0.23, 0.  , 0.64]],\n",
              "\n",
              "       [[0.  , 0.  , 0.  , 0.  , 0.  , 0.02, 0.  , 0.35, 0.  , 0.64]],\n",
              "\n",
              "       [[0.  , 0.  , 0.  , 0.  , 0.  , 0.14, 0.  , 0.02, 0.  , 0.83]],\n",
              "\n",
              "       [[0.  , 0.  , 0.  , 0.  , 0.  , 0.01, 0.  , 0.44, 0.  , 0.55]],\n",
              "\n",
              "       [[0.  , 0.  , 0.  , 0.  , 0.  , 0.  , 0.  , 0.2 , 0.  , 0.8 ]],\n",
              "\n",
              "       [[0.  , 0.  , 0.  , 0.  , 0.  , 0.24, 0.  , 0.48, 0.  , 0.29]],\n",
              "\n",
              "       [[0.  , 0.  , 0.  , 0.  , 0.  , 0.05, 0.  , 0.08, 0.  , 0.87]],\n",
              "\n",
              "       [[0.  , 0.  , 0.  , 0.  , 0.  , 0.  , 0.  , 0.06, 0.  , 0.94]],\n",
              "\n",
              "       [[0.  , 0.  , 0.  , 0.  , 0.  , 0.  , 0.  , 0.  , 0.  , 1.  ]],\n",
              "\n",
              "       [[0.  , 0.  , 0.  , 0.  , 0.  , 0.33, 0.  , 0.15, 0.  , 0.52]],\n",
              "\n",
              "       [[0.  , 0.  , 0.  , 0.  , 0.  , 0.03, 0.  , 0.17, 0.  , 0.8 ]],\n",
              "\n",
              "       [[0.  , 0.  , 0.  , 0.  , 0.  , 0.09, 0.  , 0.04, 0.  , 0.87]],\n",
              "\n",
              "       [[0.  , 0.  , 0.  , 0.  , 0.  , 0.01, 0.  , 0.05, 0.  , 0.94]],\n",
              "\n",
              "       [[0.  , 0.  , 0.  , 0.  , 0.  , 0.04, 0.  , 0.02, 0.  , 0.94]],\n",
              "\n",
              "       [[0.  , 0.  , 0.  , 0.  , 0.  , 0.01, 0.  , 0.06, 0.  , 0.93]],\n",
              "\n",
              "       [[0.  , 0.  , 0.  , 0.  , 0.  , 0.  , 0.  , 0.06, 0.  , 0.94]],\n",
              "\n",
              "       [[0.  , 0.  , 0.  , 0.  , 0.  , 0.36, 0.  , 0.06, 0.  , 0.58]],\n",
              "\n",
              "       [[0.  , 0.  , 0.  , 0.  , 0.  , 0.03, 0.  , 0.73, 0.  , 0.25]],\n",
              "\n",
              "       [[0.  , 0.  , 0.  , 0.  , 0.  , 0.27, 0.  , 0.15, 0.  , 0.58]],\n",
              "\n",
              "       [[0.  , 0.  , 0.  , 0.  , 0.  , 0.45, 0.  , 0.36, 0.  , 0.19]],\n",
              "\n",
              "       [[0.  , 0.  , 0.  , 0.  , 0.  , 0.16, 0.  , 0.46, 0.  , 0.38]],\n",
              "\n",
              "       [[0.  , 0.  , 0.  , 0.  , 0.  , 0.01, 0.  , 0.33, 0.  , 0.66]],\n",
              "\n",
              "       [[0.  , 0.  , 0.  , 0.  , 0.  , 0.03, 0.  , 0.56, 0.  , 0.41]],\n",
              "\n",
              "       [[0.  , 0.  , 0.  , 0.  , 0.  , 0.01, 0.  , 0.05, 0.01, 0.93]]],\n",
              "      dtype=float32)"
            ]
          },
          "metadata": {},
          "execution_count": 51
        }
      ]
    },
    {
      "cell_type": "code",
      "source": [
        "np.round(y_proba[:1], 2)\n"
      ],
      "metadata": {
        "colab": {
          "base_uri": "https://localhost:8080/"
        },
        "id": "PCT6-2Pqy0B2",
        "outputId": "cf325381-9ed6-497b-dcb9-a67a3b74e404"
      },
      "execution_count": 52,
      "outputs": [
        {
          "output_type": "execute_result",
          "data": {
            "text/plain": [
              "array([[0.  , 0.  , 0.  , 0.  , 0.  , 0.13, 0.  , 0.24, 0.  , 0.63]],\n",
              "      dtype=float32)"
            ]
          },
          "metadata": {},
          "execution_count": 52
        }
      ]
    },
    {
      "cell_type": "code",
      "source": [
        "y_std = y_probas.std(axis=0)\n",
        "np.round(y_std[:1], 2)\n"
      ],
      "metadata": {
        "colab": {
          "base_uri": "https://localhost:8080/"
        },
        "id": "vxVs23azy1-3",
        "outputId": "a464ab8b-0da1-4c56-d578-c4876e09b5b8"
      },
      "execution_count": 53,
      "outputs": [
        {
          "output_type": "execute_result",
          "data": {
            "text/plain": [
              "array([[0.  , 0.  , 0.  , 0.  , 0.  , 0.2 , 0.  , 0.21, 0.  , 0.27]],\n",
              "      dtype=float32)"
            ]
          },
          "metadata": {},
          "execution_count": 53
        }
      ]
    },
    {
      "cell_type": "code",
      "source": [
        "y_pred = np.argmax(y_proba, axis=1)\n"
      ],
      "metadata": {
        "id": "6jLkReA3y27m"
      },
      "execution_count": 54,
      "outputs": []
    },
    {
      "cell_type": "code",
      "source": [
        "accuracy = np.sum(y_pred == y_test) / len(y_test)\n",
        "accuracy"
      ],
      "metadata": {
        "colab": {
          "base_uri": "https://localhost:8080/"
        },
        "id": "beYanZ-hy3sN",
        "outputId": "6d845572-1532-44fc-826b-37402bbc09d2"
      },
      "execution_count": 55,
      "outputs": [
        {
          "output_type": "execute_result",
          "data": {
            "text/plain": [
              "0.8714"
            ]
          },
          "metadata": {},
          "execution_count": 55
        }
      ]
    },
    {
      "cell_type": "code",
      "source": [
        "class MCDropout(keras.layers.Dropout):\n",
        "    def call(self, inputs):\n",
        "        return super().call(inputs, training=True)\n",
        "\n",
        "class MCAlphaDropout(keras.layers.AlphaDropout):\n",
        "    def call(self, inputs):\n",
        "        return super().call(inputs, training=True)"
      ],
      "metadata": {
        "id": "TVJBeLGay4fm"
      },
      "execution_count": 56,
      "outputs": []
    },
    {
      "cell_type": "code",
      "source": [
        "tf.random.set_seed(42)\n",
        "np.random.seed(42)"
      ],
      "metadata": {
        "id": "Lgj_bDFAy5kU"
      },
      "execution_count": 57,
      "outputs": []
    },
    {
      "cell_type": "code",
      "source": [
        "mc_model = keras.models.Sequential([\n",
        "    MCAlphaDropout(layer.rate) if isinstance(layer, keras.layers.AlphaDropout) else layer\n",
        "    for layer in model.layers\n",
        "])"
      ],
      "metadata": {
        "id": "yiSrU5VIy69g"
      },
      "execution_count": 58,
      "outputs": []
    },
    {
      "cell_type": "code",
      "source": [
        "mc_model.summary()\n"
      ],
      "metadata": {
        "colab": {
          "base_uri": "https://localhost:8080/"
        },
        "id": "kf8VUGQry8Bv",
        "outputId": "071a58d1-0e18-4f82-c59a-59082649c65e"
      },
      "execution_count": 59,
      "outputs": [
        {
          "output_type": "stream",
          "name": "stdout",
          "text": [
            "Model: \"sequential_12\"\n",
            "_________________________________________________________________\n",
            " Layer (type)                Output Shape              Param #   \n",
            "=================================================================\n",
            " flatten_11 (Flatten)        (None, 784)               0         \n",
            "                                                                 \n",
            " mc_alpha_dropout (MCAlphaDr  (None, 784)              0         \n",
            " opout)                                                          \n",
            "                                                                 \n",
            " dense_34 (Dense)            (None, 300)               235500    \n",
            "                                                                 \n",
            " mc_alpha_dropout_1 (MCAlpha  (None, 300)              0         \n",
            " Dropout)                                                        \n",
            "                                                                 \n",
            " dense_35 (Dense)            (None, 100)               30100     \n",
            "                                                                 \n",
            " mc_alpha_dropout_2 (MCAlpha  (None, 100)              0         \n",
            " Dropout)                                                        \n",
            "                                                                 \n",
            " dense_36 (Dense)            (None, 10)                1010      \n",
            "                                                                 \n",
            "=================================================================\n",
            "Total params: 266,610\n",
            "Trainable params: 266,610\n",
            "Non-trainable params: 0\n",
            "_________________________________________________________________\n"
          ]
        }
      ]
    },
    {
      "cell_type": "code",
      "source": [
        "optimizer = keras.optimizers.SGD(learning_rate=0.01, momentum=0.9, nesterov=True)\n",
        "mc_model.compile(loss=\"sparse_categorical_crossentropy\", optimizer=optimizer, metrics=[\"accuracy\"])"
      ],
      "metadata": {
        "id": "BCZPO48ty9C2"
      },
      "execution_count": 60,
      "outputs": []
    },
    {
      "cell_type": "code",
      "source": [
        "mc_model.set_weights(model.get_weights())\n"
      ],
      "metadata": {
        "id": "lL79CcsQzC6x"
      },
      "execution_count": 61,
      "outputs": []
    },
    {
      "cell_type": "code",
      "source": [
        "np.round(np.mean([mc_model.predict(X_test_scaled[:1]) for sample in range(100)], axis=0), 2)\n"
      ],
      "metadata": {
        "colab": {
          "base_uri": "https://localhost:8080/"
        },
        "id": "DesflcO0zDzJ",
        "outputId": "3790e013-f623-4a19-9488-8bb2bcf49d8a"
      },
      "execution_count": 62,
      "outputs": [
        {
          "output_type": "execute_result",
          "data": {
            "text/plain": [
              "array([[0.  , 0.  , 0.  , 0.  , 0.  , 0.11, 0.  , 0.27, 0.  , 0.61]],\n",
              "      dtype=float32)"
            ]
          },
          "metadata": {},
          "execution_count": 62
        }
      ]
    },
    {
      "cell_type": "markdown",
      "source": [
        "## Max norm\n",
        "try for overfitting"
      ],
      "metadata": {
        "id": "6RFCZBZ2zHQY"
      }
    },
    {
      "cell_type": "code",
      "source": [
        "layer = keras.layers.Dense(100, activation=\"selu\", kernel_initializer=\"lecun_normal\",\n",
        "                           kernel_constraint=keras.constraints.max_norm(1.))"
      ],
      "metadata": {
        "id": "YBRV1muMzEso"
      },
      "execution_count": 63,
      "outputs": []
    },
    {
      "cell_type": "code",
      "source": [
        "MaxNormDense = partial(keras.layers.Dense,\n",
        "                       activation=\"selu\", kernel_initializer=\"lecun_normal\",\n",
        "                       kernel_constraint=keras.constraints.max_norm(1.))\n",
        "\n",
        "model = keras.models.Sequential([\n",
        "    keras.layers.Flatten(input_shape=[28, 28]),\n",
        "    MaxNormDense(300),\n",
        "    MaxNormDense(100),\n",
        "    keras.layers.Dense(10, activation=\"softmax\")\n",
        "])\n",
        "model.compile(loss=\"sparse_categorical_crossentropy\", optimizer=\"nadam\", metrics=[\"accuracy\"])\n",
        "n_epochs = 2\n",
        "history = model.fit(X_train_scaled, y_train, epochs=n_epochs,\n",
        "                    validation_data=(X_valid_scaled, y_valid))"
      ],
      "metadata": {
        "colab": {
          "base_uri": "https://localhost:8080/"
        },
        "id": "NykWMSxezLfp",
        "outputId": "fa9fc64d-e4c6-499d-90d8-93b42ed37108"
      },
      "execution_count": 64,
      "outputs": [
        {
          "output_type": "stream",
          "name": "stdout",
          "text": [
            "Epoch 1/2\n",
            "1719/1719 [==============================] - 9s 5ms/step - loss: 0.4745 - accuracy: 0.8329 - val_loss: 0.3754 - val_accuracy: 0.8606\n",
            "Epoch 2/2\n",
            "1719/1719 [==============================] - 8s 5ms/step - loss: 0.3555 - accuracy: 0.8707 - val_loss: 0.3776 - val_accuracy: 0.8650\n"
          ]
        }
      ]
    },
    {
      "cell_type": "markdown",
      "source": [
        "## Exercises"
      ],
      "metadata": {
        "id": "nY_YL9L-1bKy"
      }
    },
    {
      "cell_type": "markdown",
      "source": [
        "### Q8: Deep Learning on CIFAR10"
      ],
      "metadata": {
        "id": "8ClipOXr1dqC"
      }
    },
    {
      "cell_type": "markdown",
      "source": [
        "Exercise: Build a DNN with 20 hidden layers of 100 neurons each (that's too many, but it's the point of this exercise). Use He initialization and the ELU activation function.\n",
        "\n"
      ],
      "metadata": {
        "id": "YM2onAUO1zEZ"
      }
    },
    {
      "cell_type": "code",
      "source": [
        "keras.backend.clear_session()\n",
        "tf.random.set_seed(42)\n",
        "np.random.seed(42)\n",
        "\n",
        "model = keras.models.Sequential()\n",
        "model.add(keras.layers.Flatten(input_shape=[32, 32, 3]))\n",
        "for _ in range(20):\n",
        "    model.add(keras.layers.Dense(100,\n",
        "                                 activation=\"elu\",\n",
        "                                 kernel_initializer=\"he_normal\"))"
      ],
      "metadata": {
        "id": "G0SPvzNHzN-B"
      },
      "execution_count": 65,
      "outputs": []
    },
    {
      "cell_type": "markdown",
      "source": [
        "b.\n",
        "Exercise: Using Nadam optimization and early stopping, train the network on the CIFAR10 dataset. You can load it with keras.datasets.cifar10.load_data(). The dataset is composed of 60,000 32 × 32–pixel color images (50,000 for training, 10,000 for testing) with 10 classes, so you'll need a softmax output layer with 10 neurons. Remember to search for the right learning rate each time you change the model's architecture or hyperparameters.\n",
        "\n",
        "Let's add the output layer to the model:"
      ],
      "metadata": {
        "id": "mTUpDP3f13AD"
      }
    },
    {
      "cell_type": "code",
      "source": [
        "model.add(keras.layers.Dense(10, activation=\"softmax\"))\n"
      ],
      "metadata": {
        "id": "gULaHKgK1YWb"
      },
      "execution_count": 66,
      "outputs": []
    },
    {
      "cell_type": "code",
      "source": [
        "optimizer = keras.optimizers.Nadam(learning_rate=5e-5)\n",
        "model.compile(loss=\"sparse_categorical_crossentropy\",\n",
        "              optimizer=optimizer,\n",
        "              metrics=[\"accuracy\"])"
      ],
      "metadata": {
        "id": "xh-M9E3n15DY"
      },
      "execution_count": 67,
      "outputs": []
    },
    {
      "cell_type": "code",
      "source": [
        "(X_train_full, y_train_full), (X_test, y_test) = keras.datasets.cifar10.load_data()\n",
        "\n",
        "X_train = X_train_full[5000:]\n",
        "y_train = y_train_full[5000:]\n",
        "X_valid = X_train_full[:5000]\n",
        "y_valid = y_train_full[:5000]"
      ],
      "metadata": {
        "colab": {
          "base_uri": "https://localhost:8080/"
        },
        "id": "YcA5q-xA16AA",
        "outputId": "f4a8d375-95c9-4a57-fef4-ffa3e635e60a"
      },
      "execution_count": 68,
      "outputs": [
        {
          "output_type": "stream",
          "name": "stdout",
          "text": [
            "Downloading data from https://www.cs.toronto.edu/~kriz/cifar-10-python.tar.gz\n",
            "170500096/170498071 [==============================] - 6s 0us/step\n",
            "170508288/170498071 [==============================] - 6s 0us/step\n"
          ]
        }
      ]
    },
    {
      "cell_type": "code",
      "source": [
        "early_stopping_cb = keras.callbacks.EarlyStopping(patience=20)\n",
        "model_checkpoint_cb = keras.callbacks.ModelCheckpoint(\"my_cifar10_model.h5\", save_best_only=True)\n",
        "run_index = 1 # increment every time you train the model\n",
        "run_logdir = os.path.join(os.curdir, \"my_cifar10_logs\", \"run_{:03d}\".format(run_index))\n",
        "tensorboard_cb = keras.callbacks.TensorBoard(run_logdir)\n",
        "callbacks = [early_stopping_cb, model_checkpoint_cb, tensorboard_cb]"
      ],
      "metadata": {
        "id": "UmtWgZJk18tx"
      },
      "execution_count": 69,
      "outputs": []
    },
    {
      "cell_type": "code",
      "source": [
        "model.fit(X_train, y_train, epochs=100,\n",
        "          validation_data=(X_valid, y_valid),\n",
        "          callbacks=callbacks)"
      ],
      "metadata": {
        "colab": {
          "base_uri": "https://localhost:8080/"
        },
        "id": "m-eHIa5_2DSG",
        "outputId": "47738016-39c2-430d-f233-4fcd623f6a0f"
      },
      "execution_count": 70,
      "outputs": [
        {
          "output_type": "stream",
          "name": "stdout",
          "text": [
            "Epoch 1/100\n",
            "1407/1407 [==============================] - 23s 13ms/step - loss: 4.1806 - accuracy: 0.1608 - val_loss: 2.1614 - val_accuracy: 0.2166\n",
            "Epoch 2/100\n",
            "1407/1407 [==============================] - 19s 14ms/step - loss: 2.0833 - accuracy: 0.2409 - val_loss: 2.1316 - val_accuracy: 0.2294\n",
            "Epoch 3/100\n",
            "1407/1407 [==============================] - 18s 13ms/step - loss: 1.9446 - accuracy: 0.2858 - val_loss: 2.1239 - val_accuracy: 0.2426\n",
            "Epoch 4/100\n",
            "1407/1407 [==============================] - 17s 12ms/step - loss: 1.8559 - accuracy: 0.3212 - val_loss: 1.8858 - val_accuracy: 0.3144\n",
            "Epoch 5/100\n",
            "1407/1407 [==============================] - 17s 12ms/step - loss: 1.7949 - accuracy: 0.3470 - val_loss: 1.8064 - val_accuracy: 0.3338\n",
            "Epoch 6/100\n",
            "1407/1407 [==============================] - 17s 12ms/step - loss: 1.7423 - accuracy: 0.3694 - val_loss: 1.7483 - val_accuracy: 0.3618\n",
            "Epoch 7/100\n",
            "1407/1407 [==============================] - 18s 13ms/step - loss: 1.7002 - accuracy: 0.3859 - val_loss: 1.7306 - val_accuracy: 0.3706\n",
            "Epoch 8/100\n",
            "1407/1407 [==============================] - 18s 13ms/step - loss: 1.6636 - accuracy: 0.4014 - val_loss: 1.6824 - val_accuracy: 0.3908\n",
            "Epoch 9/100\n",
            "1407/1407 [==============================] - 17s 12ms/step - loss: 1.6365 - accuracy: 0.4124 - val_loss: 1.6895 - val_accuracy: 0.3872\n",
            "Epoch 10/100\n",
            "1407/1407 [==============================] - 18s 13ms/step - loss: 1.6109 - accuracy: 0.4207 - val_loss: 1.6900 - val_accuracy: 0.3812\n",
            "Epoch 11/100\n",
            "1407/1407 [==============================] - 18s 13ms/step - loss: 1.5901 - accuracy: 0.4277 - val_loss: 1.6776 - val_accuracy: 0.3946\n",
            "Epoch 12/100\n",
            "1407/1407 [==============================] - 20s 14ms/step - loss: 1.5735 - accuracy: 0.4339 - val_loss: 1.6215 - val_accuracy: 0.4146\n",
            "Epoch 13/100\n",
            "1407/1407 [==============================] - 22s 16ms/step - loss: 1.5523 - accuracy: 0.4420 - val_loss: 1.6005 - val_accuracy: 0.4234\n",
            "Epoch 14/100\n",
            "1407/1407 [==============================] - 19s 14ms/step - loss: 1.5384 - accuracy: 0.4486 - val_loss: 1.6140 - val_accuracy: 0.4206\n",
            "Epoch 15/100\n",
            "1407/1407 [==============================] - 18s 13ms/step - loss: 1.5226 - accuracy: 0.4536 - val_loss: 1.5821 - val_accuracy: 0.4296\n",
            "Epoch 16/100\n",
            "1407/1407 [==============================] - 24s 17ms/step - loss: 1.5032 - accuracy: 0.4608 - val_loss: 1.5600 - val_accuracy: 0.4412\n",
            "Epoch 17/100\n",
            "1407/1407 [==============================] - 20s 14ms/step - loss: 1.4911 - accuracy: 0.4648 - val_loss: 1.5724 - val_accuracy: 0.4330\n",
            "Epoch 18/100\n",
            "1407/1407 [==============================] - 18s 13ms/step - loss: 1.4762 - accuracy: 0.4688 - val_loss: 1.5599 - val_accuracy: 0.4404\n",
            "Epoch 19/100\n",
            "1407/1407 [==============================] - 17s 12ms/step - loss: 1.4643 - accuracy: 0.4745 - val_loss: 1.5990 - val_accuracy: 0.4200\n",
            "Epoch 20/100\n",
            "1407/1407 [==============================] - 23s 16ms/step - loss: 1.4548 - accuracy: 0.4774 - val_loss: 1.5795 - val_accuracy: 0.4222\n",
            "Epoch 21/100\n",
            "1407/1407 [==============================] - 20s 14ms/step - loss: 1.4428 - accuracy: 0.4821 - val_loss: 1.5547 - val_accuracy: 0.4462\n",
            "Epoch 22/100\n",
            "1407/1407 [==============================] - 20s 14ms/step - loss: 1.4294 - accuracy: 0.4868 - val_loss: 1.5277 - val_accuracy: 0.4490\n",
            "Epoch 23/100\n",
            "1407/1407 [==============================] - 18s 13ms/step - loss: 1.4155 - accuracy: 0.4907 - val_loss: 1.5469 - val_accuracy: 0.4434\n",
            "Epoch 24/100\n",
            "1407/1407 [==============================] - 18s 13ms/step - loss: 1.4072 - accuracy: 0.4948 - val_loss: 1.5437 - val_accuracy: 0.4496\n",
            "Epoch 25/100\n",
            "1407/1407 [==============================] - 17s 12ms/step - loss: 1.3963 - accuracy: 0.4995 - val_loss: 1.5443 - val_accuracy: 0.4540\n",
            "Epoch 26/100\n",
            "1407/1407 [==============================] - 17s 12ms/step - loss: 1.3880 - accuracy: 0.5000 - val_loss: 1.5645 - val_accuracy: 0.4408\n",
            "Epoch 27/100\n",
            "1407/1407 [==============================] - 17s 12ms/step - loss: 1.3766 - accuracy: 0.5067 - val_loss: 1.5389 - val_accuracy: 0.4488\n",
            "Epoch 28/100\n",
            "1407/1407 [==============================] - 17s 12ms/step - loss: 1.3689 - accuracy: 0.5082 - val_loss: 1.5670 - val_accuracy: 0.4418\n",
            "Epoch 29/100\n",
            "1407/1407 [==============================] - 17s 12ms/step - loss: 1.3603 - accuracy: 0.5122 - val_loss: 1.5189 - val_accuracy: 0.4574\n",
            "Epoch 30/100\n",
            "1407/1407 [==============================] - 17s 12ms/step - loss: 1.3500 - accuracy: 0.5150 - val_loss: 1.5532 - val_accuracy: 0.4508\n",
            "Epoch 31/100\n",
            "1407/1407 [==============================] - 17s 12ms/step - loss: 1.3417 - accuracy: 0.5175 - val_loss: 1.5542 - val_accuracy: 0.4516\n",
            "Epoch 32/100\n",
            "1407/1407 [==============================] - 17s 12ms/step - loss: 1.3339 - accuracy: 0.5204 - val_loss: 1.5234 - val_accuracy: 0.4598\n",
            "Epoch 33/100\n",
            "1407/1407 [==============================] - 18s 12ms/step - loss: 1.3257 - accuracy: 0.5246 - val_loss: 1.5566 - val_accuracy: 0.4516\n",
            "Epoch 34/100\n",
            "1407/1407 [==============================] - 17s 12ms/step - loss: 1.3195 - accuracy: 0.5255 - val_loss: 1.5428 - val_accuracy: 0.4612\n",
            "Epoch 35/100\n",
            "1407/1407 [==============================] - 17s 12ms/step - loss: 1.3086 - accuracy: 0.5291 - val_loss: 1.5346 - val_accuracy: 0.4602\n",
            "Epoch 36/100\n",
            "1407/1407 [==============================] - 17s 12ms/step - loss: 1.3037 - accuracy: 0.5318 - val_loss: 1.5332 - val_accuracy: 0.4646\n",
            "Epoch 37/100\n",
            "1407/1407 [==============================] - 18s 13ms/step - loss: 1.2920 - accuracy: 0.5365 - val_loss: 1.5425 - val_accuracy: 0.4670\n",
            "Epoch 38/100\n",
            "1407/1407 [==============================] - 18s 13ms/step - loss: 1.2877 - accuracy: 0.5401 - val_loss: 1.5261 - val_accuracy: 0.4590\n",
            "Epoch 39/100\n",
            "1407/1407 [==============================] - 17s 12ms/step - loss: 1.2797 - accuracy: 0.5414 - val_loss: 1.5599 - val_accuracy: 0.4472\n",
            "Epoch 40/100\n",
            "1407/1407 [==============================] - 17s 12ms/step - loss: 1.2695 - accuracy: 0.5461 - val_loss: 1.5559 - val_accuracy: 0.4578\n",
            "Epoch 41/100\n",
            "1407/1407 [==============================] - 17s 12ms/step - loss: 1.2624 - accuracy: 0.5469 - val_loss: 1.5314 - val_accuracy: 0.4628\n",
            "Epoch 42/100\n",
            "1407/1407 [==============================] - 17s 12ms/step - loss: 1.2581 - accuracy: 0.5498 - val_loss: 1.5502 - val_accuracy: 0.4612\n",
            "Epoch 43/100\n",
            "1407/1407 [==============================] - 17s 12ms/step - loss: 1.2499 - accuracy: 0.5510 - val_loss: 1.5593 - val_accuracy: 0.4552\n",
            "Epoch 44/100\n",
            "1407/1407 [==============================] - 17s 12ms/step - loss: 1.2410 - accuracy: 0.5562 - val_loss: 1.5823 - val_accuracy: 0.4564\n",
            "Epoch 45/100\n",
            "1407/1407 [==============================] - 18s 13ms/step - loss: 1.2352 - accuracy: 0.5563 - val_loss: 1.5465 - val_accuracy: 0.4646\n",
            "Epoch 46/100\n",
            "1407/1407 [==============================] - 17s 12ms/step - loss: 1.2286 - accuracy: 0.5596 - val_loss: 1.5469 - val_accuracy: 0.4590\n",
            "Epoch 47/100\n",
            "1407/1407 [==============================] - 18s 12ms/step - loss: 1.2206 - accuracy: 0.5633 - val_loss: 1.5559 - val_accuracy: 0.4620\n",
            "Epoch 48/100\n",
            "1407/1407 [==============================] - 18s 12ms/step - loss: 1.2134 - accuracy: 0.5643 - val_loss: 1.5510 - val_accuracy: 0.4602\n",
            "Epoch 49/100\n",
            "1407/1407 [==============================] - 18s 13ms/step - loss: 1.2070 - accuracy: 0.5666 - val_loss: 1.5592 - val_accuracy: 0.4670\n"
          ]
        },
        {
          "output_type": "execute_result",
          "data": {
            "text/plain": [
              "<keras.callbacks.History at 0x7f204f6e1050>"
            ]
          },
          "metadata": {},
          "execution_count": 70
        }
      ]
    },
    {
      "cell_type": "code",
      "source": [
        "\n",
        "model = keras.models.load_model(\"my_cifar10_model.h5\")\n",
        "model.evaluate(X_valid, y_valid)"
      ],
      "metadata": {
        "colab": {
          "base_uri": "https://localhost:8080/"
        },
        "id": "f7wEzJex2F-8",
        "outputId": "d4624ac9-38e2-4025-bd94-af1b9a54765d"
      },
      "execution_count": 71,
      "outputs": [
        {
          "output_type": "stream",
          "name": "stdout",
          "text": [
            "157/157 [==============================] - 1s 4ms/step - loss: 1.5189 - accuracy: 0.4574\n"
          ]
        },
        {
          "output_type": "execute_result",
          "data": {
            "text/plain": [
              "[1.5188556909561157, 0.45739999413490295]"
            ]
          },
          "metadata": {},
          "execution_count": 71
        }
      ]
    },
    {
      "cell_type": "markdown",
      "source": [
        "Exercise: Now try adding Batch Normalization and compare the learning curves: Is it converging faster than before? Does it produce a better model? How does it affect training speed?\n",
        "\n",
        "The code below is very similar to the code above, with a few changes:\n",
        "\n",
        "I added a BN layer after every Dense layer (before the activation function), except for the output layer. I also added a BN layer before the first hidden layer.\n",
        "I changed the learning rate to 5e-4. I experimented with 1e-5, 3e-5, 5e-5, 1e-4, 3e-4, 5e-4, 1e-3 and 3e-3, and I chose the one with the best validation performance after 20 epochs.\n",
        "I renamed the run directories to runbn* and the model file name to my_cifar10_bn_model.h5."
      ],
      "metadata": {
        "id": "Ej8gsTD-2L7T"
      }
    },
    {
      "cell_type": "code",
      "source": [
        "keras.backend.clear_session()\n",
        "tf.random.set_seed(42)\n",
        "np.random.seed(42)\n",
        "\n",
        "model = keras.models.Sequential()\n",
        "model.add(keras.layers.Flatten(input_shape=[32, 32, 3]))\n",
        "model.add(keras.layers.BatchNormalization())\n",
        "for _ in range(20):\n",
        "    model.add(keras.layers.Dense(100, kernel_initializer=\"he_normal\"))\n",
        "    model.add(keras.layers.BatchNormalization())\n",
        "    model.add(keras.layers.Activation(\"elu\"))\n",
        "model.add(keras.layers.Dense(10, activation=\"softmax\"))\n",
        "\n",
        "optimizer = keras.optimizers.Nadam(learning_rate=5e-4)\n",
        "model.compile(loss=\"sparse_categorical_crossentropy\",\n",
        "              optimizer=optimizer,\n",
        "              metrics=[\"accuracy\"])\n",
        "\n",
        "early_stopping_cb = keras.callbacks.EarlyStopping(patience=20)\n",
        "model_checkpoint_cb = keras.callbacks.ModelCheckpoint(\"my_cifar10_bn_model.h5\", save_best_only=True)\n",
        "run_index = 1 # increment every time you train the model\n",
        "run_logdir = os.path.join(os.curdir, \"my_cifar10_logs\", \"run_bn_{:03d}\".format(run_index))\n",
        "tensorboard_cb = keras.callbacks.TensorBoard(run_logdir)\n",
        "callbacks = [early_stopping_cb, model_checkpoint_cb, tensorboard_cb]\n",
        "\n",
        "model.fit(X_train, y_train, epochs=100,\n",
        "          validation_data=(X_valid, y_valid),\n",
        "          callbacks=callbacks)\n",
        "\n",
        "model = keras.models.load_model(\"my_cifar10_bn_model.h5\")\n",
        "model.evaluate(X_valid, y_valid)"
      ],
      "metadata": {
        "colab": {
          "base_uri": "https://localhost:8080/"
        },
        "id": "utOxQY_c2HoA",
        "outputId": "5b07f4f3-2ae5-4d86-a7f0-b2fc2b8f5c6d"
      },
      "execution_count": 72,
      "outputs": [
        {
          "output_type": "stream",
          "name": "stdout",
          "text": [
            "Epoch 1/100\n",
            "1407/1407 [==============================] - 61s 36ms/step - loss: 1.8425 - accuracy: 0.3395 - val_loss: 1.6721 - val_accuracy: 0.4078\n",
            "Epoch 2/100\n",
            "1407/1407 [==============================] - 50s 36ms/step - loss: 1.6712 - accuracy: 0.4025 - val_loss: 1.5720 - val_accuracy: 0.4352\n",
            "Epoch 3/100\n",
            "1407/1407 [==============================] - 48s 34ms/step - loss: 1.5979 - accuracy: 0.4318 - val_loss: 1.5345 - val_accuracy: 0.4482\n",
            "Epoch 4/100\n",
            "1407/1407 [==============================] - 49s 35ms/step - loss: 1.5467 - accuracy: 0.4484 - val_loss: 1.4814 - val_accuracy: 0.4720\n",
            "Epoch 5/100\n",
            "1407/1407 [==============================] - 49s 35ms/step - loss: 1.5025 - accuracy: 0.4669 - val_loss: 1.4358 - val_accuracy: 0.4880\n",
            "Epoch 6/100\n",
            "1407/1407 [==============================] - 48s 34ms/step - loss: 1.4639 - accuracy: 0.4790 - val_loss: 1.4410 - val_accuracy: 0.4816\n",
            "Epoch 7/100\n",
            "1407/1407 [==============================] - 49s 35ms/step - loss: 1.4328 - accuracy: 0.4916 - val_loss: 1.3999 - val_accuracy: 0.4982\n",
            "Epoch 8/100\n",
            "1407/1407 [==============================] - 49s 35ms/step - loss: 1.4019 - accuracy: 0.5026 - val_loss: 1.3954 - val_accuracy: 0.5084\n",
            "Epoch 9/100\n",
            "1407/1407 [==============================] - 49s 35ms/step - loss: 1.3767 - accuracy: 0.5118 - val_loss: 1.3897 - val_accuracy: 0.5078\n",
            "Epoch 10/100\n",
            "1407/1407 [==============================] - 49s 35ms/step - loss: 1.3553 - accuracy: 0.5197 - val_loss: 1.3544 - val_accuracy: 0.5226\n",
            "Epoch 11/100\n",
            "1407/1407 [==============================] - 47s 34ms/step - loss: 1.3393 - accuracy: 0.5240 - val_loss: 1.3558 - val_accuracy: 0.5172\n",
            "Epoch 12/100\n",
            "1407/1407 [==============================] - 50s 35ms/step - loss: 1.3172 - accuracy: 0.5360 - val_loss: 1.3851 - val_accuracy: 0.5166\n",
            "Epoch 13/100\n",
            "1407/1407 [==============================] - 50s 35ms/step - loss: 1.2963 - accuracy: 0.5404 - val_loss: 1.3599 - val_accuracy: 0.5144\n",
            "Epoch 14/100\n",
            "1407/1407 [==============================] - 49s 35ms/step - loss: 1.2790 - accuracy: 0.5462 - val_loss: 1.3497 - val_accuracy: 0.5326\n",
            "Epoch 15/100\n",
            "1407/1407 [==============================] - 48s 34ms/step - loss: 1.2603 - accuracy: 0.5553 - val_loss: 1.3673 - val_accuracy: 0.5268\n",
            "Epoch 16/100\n",
            "1407/1407 [==============================] - 48s 34ms/step - loss: 1.2509 - accuracy: 0.5558 - val_loss: 1.3685 - val_accuracy: 0.5218\n",
            "Epoch 17/100\n",
            "1407/1407 [==============================] - 49s 35ms/step - loss: 1.2295 - accuracy: 0.5638 - val_loss: 1.3270 - val_accuracy: 0.5318\n",
            "Epoch 18/100\n",
            "1407/1407 [==============================] - 49s 35ms/step - loss: 1.2160 - accuracy: 0.5710 - val_loss: 1.3646 - val_accuracy: 0.5276\n",
            "Epoch 19/100\n",
            "1407/1407 [==============================] - 48s 34ms/step - loss: 1.1995 - accuracy: 0.5773 - val_loss: 1.3466 - val_accuracy: 0.5278\n",
            "Epoch 20/100\n",
            "1407/1407 [==============================] - 47s 33ms/step - loss: 1.1931 - accuracy: 0.5789 - val_loss: 1.3766 - val_accuracy: 0.5200\n",
            "Epoch 21/100\n",
            "1407/1407 [==============================] - 48s 34ms/step - loss: 1.1768 - accuracy: 0.5832 - val_loss: 1.3807 - val_accuracy: 0.5220\n",
            "Epoch 22/100\n",
            "1407/1407 [==============================] - 48s 34ms/step - loss: 1.1591 - accuracy: 0.5898 - val_loss: 1.3296 - val_accuracy: 0.5272\n",
            "Epoch 23/100\n",
            "1407/1407 [==============================] - 49s 35ms/step - loss: 1.1527 - accuracy: 0.5944 - val_loss: 1.3253 - val_accuracy: 0.5428\n",
            "Epoch 24/100\n",
            "1407/1407 [==============================] - 49s 35ms/step - loss: 1.1413 - accuracy: 0.5958 - val_loss: 1.3206 - val_accuracy: 0.5438\n",
            "Epoch 25/100\n",
            "1407/1407 [==============================] - 48s 34ms/step - loss: 1.1232 - accuracy: 0.6024 - val_loss: 1.3389 - val_accuracy: 0.5390\n",
            "Epoch 26/100\n",
            "1407/1407 [==============================] - 48s 34ms/step - loss: 1.1123 - accuracy: 0.6075 - val_loss: 1.3574 - val_accuracy: 0.5354\n",
            "Epoch 27/100\n",
            "1407/1407 [==============================] - 48s 34ms/step - loss: 1.0986 - accuracy: 0.6129 - val_loss: 1.3394 - val_accuracy: 0.5390\n",
            "Epoch 28/100\n",
            "1407/1407 [==============================] - 49s 35ms/step - loss: 1.0942 - accuracy: 0.6110 - val_loss: 1.3402 - val_accuracy: 0.5354\n",
            "Epoch 29/100\n",
            "1407/1407 [==============================] - 49s 35ms/step - loss: 1.0821 - accuracy: 0.6176 - val_loss: 1.3344 - val_accuracy: 0.5408\n",
            "Epoch 30/100\n",
            "1407/1407 [==============================] - 49s 35ms/step - loss: 1.0690 - accuracy: 0.6221 - val_loss: 1.3398 - val_accuracy: 0.5370\n",
            "Epoch 31/100\n",
            "1407/1407 [==============================] - 49s 35ms/step - loss: 1.0614 - accuracy: 0.6245 - val_loss: 1.3588 - val_accuracy: 0.5372\n",
            "Epoch 32/100\n",
            "1407/1407 [==============================] - 49s 35ms/step - loss: 1.0505 - accuracy: 0.6290 - val_loss: 1.3698 - val_accuracy: 0.5328\n",
            "Epoch 33/100\n",
            "1407/1407 [==============================] - 49s 35ms/step - loss: 1.0369 - accuracy: 0.6331 - val_loss: 1.3592 - val_accuracy: 0.5428\n",
            "Epoch 34/100\n",
            "1407/1407 [==============================] - 51s 36ms/step - loss: 1.0339 - accuracy: 0.6353 - val_loss: 1.3500 - val_accuracy: 0.5488\n",
            "Epoch 35/100\n",
            "1407/1407 [==============================] - 51s 36ms/step - loss: 1.0220 - accuracy: 0.6377 - val_loss: 1.3718 - val_accuracy: 0.5364\n",
            "Epoch 36/100\n",
            "1407/1407 [==============================] - 48s 34ms/step - loss: 1.0132 - accuracy: 0.6437 - val_loss: 1.3616 - val_accuracy: 0.5410\n",
            "Epoch 37/100\n",
            "1407/1407 [==============================] - 48s 34ms/step - loss: 0.9981 - accuracy: 0.6472 - val_loss: 1.3538 - val_accuracy: 0.5450\n",
            "Epoch 38/100\n",
            "1407/1407 [==============================] - 48s 34ms/step - loss: 0.9960 - accuracy: 0.6487 - val_loss: 1.3731 - val_accuracy: 0.5462\n",
            "Epoch 39/100\n",
            "1407/1407 [==============================] - 48s 34ms/step - loss: 0.9839 - accuracy: 0.6517 - val_loss: 1.3851 - val_accuracy: 0.5380\n",
            "Epoch 40/100\n",
            "1407/1407 [==============================] - 49s 35ms/step - loss: 0.9760 - accuracy: 0.6562 - val_loss: 1.3791 - val_accuracy: 0.5406\n",
            "Epoch 41/100\n",
            "1407/1407 [==============================] - 49s 35ms/step - loss: 0.9669 - accuracy: 0.6599 - val_loss: 1.3728 - val_accuracy: 0.5432\n",
            "Epoch 42/100\n",
            "1407/1407 [==============================] - 48s 34ms/step - loss: 0.9559 - accuracy: 0.6624 - val_loss: 1.3844 - val_accuracy: 0.5416\n",
            "Epoch 43/100\n",
            "1407/1407 [==============================] - 49s 35ms/step - loss: 0.9537 - accuracy: 0.6653 - val_loss: 1.3699 - val_accuracy: 0.5442\n",
            "Epoch 44/100\n",
            "1407/1407 [==============================] - 48s 34ms/step - loss: 0.9400 - accuracy: 0.6672 - val_loss: 1.4311 - val_accuracy: 0.5286\n",
            "157/157 [==============================] - 1s 5ms/step - loss: 1.3206 - accuracy: 0.5438\n"
          ]
        },
        {
          "output_type": "execute_result",
          "data": {
            "text/plain": [
              "[1.320580244064331, 0.5437999963760376]"
            ]
          },
          "metadata": {},
          "execution_count": 72
        }
      ]
    },
    {
      "cell_type": "markdown",
      "source": [
        "Exercise: Try replacing Batch Normalization with SELU, and make the necessary adjustements to ensure the network self-normalizes (i.e., standardize the input features, use LeCun normal initialization, make sure the DNN contains only a sequence of dense layers, etc.)."
      ],
      "metadata": {
        "id": "b744_JhI24-U"
      }
    },
    {
      "cell_type": "code",
      "source": [
        "keras.backend.clear_session()\n",
        "tf.random.set_seed(42)\n",
        "np.random.seed(42)\n",
        "\n",
        "model = keras.models.Sequential()\n",
        "model.add(keras.layers.Flatten(input_shape=[32, 32, 3]))\n",
        "for _ in range(20):\n",
        "    model.add(keras.layers.Dense(100,\n",
        "                                 kernel_initializer=\"lecun_normal\",\n",
        "                                 activation=\"selu\"))\n",
        "model.add(keras.layers.Dense(10, activation=\"softmax\"))\n",
        "\n",
        "optimizer = keras.optimizers.Nadam(learning_rate=7e-4)\n",
        "model.compile(loss=\"sparse_categorical_crossentropy\",\n",
        "              optimizer=optimizer,\n",
        "              metrics=[\"accuracy\"])\n",
        "\n",
        "early_stopping_cb = keras.callbacks.EarlyStopping(patience=20)\n",
        "model_checkpoint_cb = keras.callbacks.ModelCheckpoint(\"my_cifar10_selu_model.h5\", save_best_only=True)\n",
        "run_index = 1 # increment every time you train the model\n",
        "run_logdir = os.path.join(os.curdir, \"my_cifar10_logs\", \"run_selu_{:03d}\".format(run_index))\n",
        "tensorboard_cb = keras.callbacks.TensorBoard(run_logdir)\n",
        "callbacks = [early_stopping_cb, model_checkpoint_cb, tensorboard_cb]\n",
        "\n",
        "X_means = X_train.mean(axis=0)\n",
        "X_stds = X_train.std(axis=0)\n",
        "X_train_scaled = (X_train - X_means) / X_stds\n",
        "X_valid_scaled = (X_valid - X_means) / X_stds\n",
        "X_test_scaled = (X_test - X_means) / X_stds\n",
        "\n",
        "model.fit(X_train_scaled, y_train, epochs=100,\n",
        "          validation_data=(X_valid_scaled, y_valid),\n",
        "          callbacks=callbacks)\n",
        "\n",
        "model = keras.models.load_model(\"my_cifar10_selu_model.h5\")\n",
        "model.evaluate(X_valid_scaled, y_valid)"
      ],
      "metadata": {
        "colab": {
          "base_uri": "https://localhost:8080/"
        },
        "id": "L3Y4QIyC2SLE",
        "outputId": "68dcdaab-ed96-4745-f833-68697ea99fec"
      },
      "execution_count": 73,
      "outputs": [
        {
          "output_type": "stream",
          "name": "stdout",
          "text": [
            "Epoch 1/100\n",
            "1407/1407 [==============================] - 22s 13ms/step - loss: 1.9415 - accuracy: 0.3041 - val_loss: 1.8389 - val_accuracy: 0.3416\n",
            "Epoch 2/100\n",
            "1407/1407 [==============================] - 18s 13ms/step - loss: 1.7212 - accuracy: 0.3912 - val_loss: 1.7169 - val_accuracy: 0.3808\n",
            "Epoch 3/100\n",
            "1407/1407 [==============================] - 18s 13ms/step - loss: 1.6212 - accuracy: 0.4279 - val_loss: 1.6378 - val_accuracy: 0.4088\n",
            "Epoch 4/100\n",
            "1407/1407 [==============================] - 18s 13ms/step - loss: 1.5573 - accuracy: 0.4521 - val_loss: 1.6094 - val_accuracy: 0.4404\n",
            "Epoch 5/100\n",
            "1407/1407 [==============================] - 18s 13ms/step - loss: 1.4981 - accuracy: 0.4744 - val_loss: 1.5944 - val_accuracy: 0.4352\n",
            "Epoch 6/100\n",
            "1407/1407 [==============================] - 18s 13ms/step - loss: 1.4511 - accuracy: 0.4917 - val_loss: 1.5365 - val_accuracy: 0.4642\n",
            "Epoch 7/100\n",
            "1407/1407 [==============================] - 18s 13ms/step - loss: 1.4097 - accuracy: 0.5076 - val_loss: 1.5581 - val_accuracy: 0.4612\n",
            "Epoch 8/100\n",
            "1407/1407 [==============================] - 18s 13ms/step - loss: 1.3658 - accuracy: 0.5225 - val_loss: 1.4854 - val_accuracy: 0.4900\n",
            "Epoch 9/100\n",
            "1407/1407 [==============================] - 18s 13ms/step - loss: 1.3297 - accuracy: 0.5361 - val_loss: 1.5165 - val_accuracy: 0.4680\n",
            "Epoch 10/100\n",
            "1407/1407 [==============================] - 18s 13ms/step - loss: 1.2973 - accuracy: 0.5500 - val_loss: 1.4883 - val_accuracy: 0.4836\n",
            "Epoch 11/100\n",
            "1407/1407 [==============================] - 17s 12ms/step - loss: 1.2701 - accuracy: 0.5612 - val_loss: 1.4964 - val_accuracy: 0.4968\n",
            "Epoch 12/100\n",
            "1407/1407 [==============================] - 18s 13ms/step - loss: 1.2389 - accuracy: 0.5734 - val_loss: 1.4754 - val_accuracy: 0.4900\n",
            "Epoch 13/100\n",
            "1407/1407 [==============================] - 18s 13ms/step - loss: 1.2148 - accuracy: 0.5802 - val_loss: 1.5040 - val_accuracy: 0.4972\n",
            "Epoch 14/100\n",
            "1407/1407 [==============================] - 17s 12ms/step - loss: 1.1842 - accuracy: 0.5935 - val_loss: 1.4854 - val_accuracy: 0.4992\n",
            "Epoch 15/100\n",
            "1407/1407 [==============================] - 17s 12ms/step - loss: 1.1616 - accuracy: 0.5991 - val_loss: 1.5041 - val_accuracy: 0.4958\n",
            "Epoch 16/100\n",
            "1407/1407 [==============================] - 17s 12ms/step - loss: 1.1322 - accuracy: 0.6135 - val_loss: 1.5045 - val_accuracy: 0.5042\n",
            "Epoch 17/100\n",
            "1407/1407 [==============================] - 18s 13ms/step - loss: 1.1115 - accuracy: 0.6214 - val_loss: 1.5251 - val_accuracy: 0.5042\n",
            "Epoch 18/100\n",
            "1407/1407 [==============================] - 18s 13ms/step - loss: 1.0920 - accuracy: 0.6304 - val_loss: 1.4960 - val_accuracy: 0.5130\n",
            "Epoch 19/100\n",
            "1407/1407 [==============================] - 17s 12ms/step - loss: 1.0700 - accuracy: 0.6369 - val_loss: 1.5112 - val_accuracy: 0.5100\n",
            "Epoch 20/100\n",
            "1407/1407 [==============================] - 18s 13ms/step - loss: 1.0540 - accuracy: 0.6456 - val_loss: 1.5002 - val_accuracy: 0.4994\n",
            "Epoch 21/100\n",
            "1407/1407 [==============================] - 18s 13ms/step - loss: 1.0309 - accuracy: 0.6510 - val_loss: 1.5611 - val_accuracy: 0.5106\n",
            "Epoch 22/100\n",
            "1407/1407 [==============================] - 18s 13ms/step - loss: 1.0074 - accuracy: 0.6588 - val_loss: 1.5160 - val_accuracy: 0.5106\n",
            "Epoch 23/100\n",
            "1407/1407 [==============================] - 18s 13ms/step - loss: 0.9879 - accuracy: 0.6669 - val_loss: 1.5450 - val_accuracy: 0.4930\n",
            "Epoch 24/100\n",
            "1407/1407 [==============================] - 18s 13ms/step - loss: 0.9698 - accuracy: 0.6717 - val_loss: 1.5419 - val_accuracy: 0.5068\n",
            "Epoch 25/100\n",
            "1407/1407 [==============================] - 18s 13ms/step - loss: 0.9498 - accuracy: 0.6818 - val_loss: 1.5558 - val_accuracy: 0.5078\n",
            "Epoch 26/100\n",
            "1407/1407 [==============================] - 18s 13ms/step - loss: 0.9440 - accuracy: 0.6812 - val_loss: 1.6136 - val_accuracy: 0.5010\n",
            "Epoch 27/100\n",
            "1407/1407 [==============================] - 18s 13ms/step - loss: 128.6515 - accuracy: 0.6711 - val_loss: 1.7413 - val_accuracy: 0.3968\n",
            "Epoch 28/100\n",
            "1407/1407 [==============================] - 18s 13ms/step - loss: 1.2416 - accuracy: 0.5664 - val_loss: 1.5420 - val_accuracy: 0.4774\n",
            "Epoch 29/100\n",
            "1407/1407 [==============================] - 18s 13ms/step - loss: 1.0932 - accuracy: 0.6212 - val_loss: 1.5618 - val_accuracy: 0.4958\n",
            "Epoch 30/100\n",
            "1407/1407 [==============================] - 18s 13ms/step - loss: 1.0279 - accuracy: 0.6452 - val_loss: 1.5398 - val_accuracy: 0.5046\n",
            "Epoch 31/100\n",
            "1407/1407 [==============================] - 18s 13ms/step - loss: 0.9856 - accuracy: 0.6613 - val_loss: 1.5666 - val_accuracy: 0.4994\n",
            "Epoch 32/100\n",
            "1407/1407 [==============================] - 18s 13ms/step - loss: 0.9535 - accuracy: 0.6727 - val_loss: 1.6023 - val_accuracy: 0.5062\n",
            "157/157 [==============================] - 1s 4ms/step - loss: 1.4754 - accuracy: 0.4900\n"
          ]
        },
        {
          "output_type": "execute_result",
          "data": {
            "text/plain": [
              "[1.475364327430725, 0.49000000953674316]"
            ]
          },
          "metadata": {},
          "execution_count": 73
        }
      ]
    },
    {
      "cell_type": "code",
      "source": [
        "model = keras.models.load_model(\"my_cifar10_selu_model.h5\")\n",
        "model.evaluate(X_valid_scaled, y_valid)"
      ],
      "metadata": {
        "colab": {
          "base_uri": "https://localhost:8080/"
        },
        "id": "wwIkCB-a268O",
        "outputId": "c99e4217-3029-497b-a0e5-eb55e8dc0eae"
      },
      "execution_count": 74,
      "outputs": [
        {
          "output_type": "stream",
          "name": "stdout",
          "text": [
            "157/157 [==============================] - 1s 4ms/step - loss: 1.4754 - accuracy: 0.4900\n"
          ]
        },
        {
          "output_type": "execute_result",
          "data": {
            "text/plain": [
              "[1.475364327430725, 0.49000000953674316]"
            ]
          },
          "metadata": {},
          "execution_count": 74
        }
      ]
    },
    {
      "cell_type": "markdown",
      "source": [
        "Exercise: Try regularizing the model with alpha dropout. Then, without retraining your model, see if you can achieve better accuracy using MC Dropout.\n",
        "\n"
      ],
      "metadata": {
        "id": "cpDVFBYC2-cx"
      }
    },
    {
      "cell_type": "code",
      "source": [
        "keras.backend.clear_session()\n",
        "tf.random.set_seed(42)\n",
        "np.random.seed(42)\n",
        "\n",
        "model = keras.models.Sequential()\n",
        "model.add(keras.layers.Flatten(input_shape=[32, 32, 3]))\n",
        "for _ in range(20):\n",
        "    model.add(keras.layers.Dense(100,\n",
        "                                 kernel_initializer=\"lecun_normal\",\n",
        "                                 activation=\"selu\"))\n",
        "\n",
        "model.add(keras.layers.AlphaDropout(rate=0.1))\n",
        "model.add(keras.layers.Dense(10, activation=\"softmax\"))\n",
        "\n",
        "optimizer = keras.optimizers.Nadam(learning_rate=5e-4)\n",
        "model.compile(loss=\"sparse_categorical_crossentropy\",\n",
        "              optimizer=optimizer,\n",
        "              metrics=[\"accuracy\"])\n",
        "\n",
        "early_stopping_cb = keras.callbacks.EarlyStopping(patience=20)\n",
        "model_checkpoint_cb = keras.callbacks.ModelCheckpoint(\"my_cifar10_alpha_dropout_model.h5\", save_best_only=True)\n",
        "run_index = 1 # increment every time you train the model\n",
        "run_logdir = os.path.join(os.curdir, \"my_cifar10_logs\", \"run_alpha_dropout_{:03d}\".format(run_index))\n",
        "tensorboard_cb = keras.callbacks.TensorBoard(run_logdir)\n",
        "callbacks = [early_stopping_cb, model_checkpoint_cb, tensorboard_cb]\n",
        "\n",
        "X_means = X_train.mean(axis=0)\n",
        "X_stds = X_train.std(axis=0)\n",
        "X_train_scaled = (X_train - X_means) / X_stds\n",
        "X_valid_scaled = (X_valid - X_means) / X_stds\n",
        "X_test_scaled = (X_test - X_means) / X_stds\n",
        "\n",
        "model.fit(X_train_scaled, y_train, epochs=100,\n",
        "          validation_data=(X_valid_scaled, y_valid),\n",
        "          callbacks=callbacks)\n",
        "\n",
        "model = keras.models.load_model(\"my_cifar10_alpha_dropout_model.h5\")\n",
        "model.evaluate(X_valid_scaled, y_valid)"
      ],
      "metadata": {
        "colab": {
          "base_uri": "https://localhost:8080/"
        },
        "id": "8Jcbn0tt28Sl",
        "outputId": "508aa91f-4acb-419a-f93a-aa64e79bcdba"
      },
      "execution_count": 75,
      "outputs": [
        {
          "output_type": "stream",
          "name": "stdout",
          "text": [
            "Epoch 1/100\n",
            "1407/1407 [==============================] - 22s 13ms/step - loss: 1.8903 - accuracy: 0.3285 - val_loss: 1.7161 - val_accuracy: 0.4006\n",
            "Epoch 2/100\n",
            "1407/1407 [==============================] - 18s 13ms/step - loss: 1.6586 - accuracy: 0.4164 - val_loss: 1.6418 - val_accuracy: 0.4172\n",
            "Epoch 3/100\n",
            "1407/1407 [==============================] - 18s 13ms/step - loss: 1.5629 - accuracy: 0.4505 - val_loss: 1.6259 - val_accuracy: 0.4260\n",
            "Epoch 4/100\n",
            "1407/1407 [==============================] - 18s 13ms/step - loss: 1.5015 - accuracy: 0.4714 - val_loss: 1.5556 - val_accuracy: 0.4672\n",
            "Epoch 5/100\n",
            "1407/1407 [==============================] - 18s 13ms/step - loss: 1.4426 - accuracy: 0.4968 - val_loss: 1.5934 - val_accuracy: 0.4624\n",
            "Epoch 6/100\n",
            "1407/1407 [==============================] - 18s 13ms/step - loss: 1.3932 - accuracy: 0.5132 - val_loss: 1.5402 - val_accuracy: 0.4698\n",
            "Epoch 7/100\n",
            "1407/1407 [==============================] - 18s 13ms/step - loss: 1.3517 - accuracy: 0.5258 - val_loss: 1.5774 - val_accuracy: 0.4826\n",
            "Epoch 8/100\n",
            "1407/1407 [==============================] - 18s 13ms/step - loss: 1.3123 - accuracy: 0.5417 - val_loss: 1.5056 - val_accuracy: 0.4850\n",
            "Epoch 9/100\n",
            "1407/1407 [==============================] - 18s 13ms/step - loss: 1.2757 - accuracy: 0.5558 - val_loss: 1.5059 - val_accuracy: 0.4778\n",
            "Epoch 10/100\n",
            "1407/1407 [==============================] - 18s 13ms/step - loss: 1.2414 - accuracy: 0.5685 - val_loss: 1.5486 - val_accuracy: 0.4920\n",
            "Epoch 11/100\n",
            "1407/1407 [==============================] - 18s 13ms/step - loss: 1.2099 - accuracy: 0.5793 - val_loss: 1.5765 - val_accuracy: 0.4958\n",
            "Epoch 12/100\n",
            "1407/1407 [==============================] - 18s 13ms/step - loss: 1.1773 - accuracy: 0.5905 - val_loss: 1.5888 - val_accuracy: 0.4872\n",
            "Epoch 13/100\n",
            "1407/1407 [==============================] - 18s 13ms/step - loss: 1.1485 - accuracy: 0.6032 - val_loss: 1.5931 - val_accuracy: 0.5034\n",
            "Epoch 14/100\n",
            "1407/1407 [==============================] - 18s 13ms/step - loss: 1.1242 - accuracy: 0.6122 - val_loss: 1.5764 - val_accuracy: 0.5044\n",
            "Epoch 15/100\n",
            "1407/1407 [==============================] - 18s 13ms/step - loss: 1.0966 - accuracy: 0.6211 - val_loss: 1.6071 - val_accuracy: 0.4978\n",
            "Epoch 16/100\n",
            "1407/1407 [==============================] - 18s 13ms/step - loss: 1.0724 - accuracy: 0.6307 - val_loss: 1.6531 - val_accuracy: 0.5040\n",
            "Epoch 17/100\n",
            "1407/1407 [==============================] - 18s 13ms/step - loss: 1.0464 - accuracy: 0.6386 - val_loss: 1.6630 - val_accuracy: 0.4940\n",
            "Epoch 18/100\n",
            "1407/1407 [==============================] - 18s 13ms/step - loss: 1.0251 - accuracy: 0.6489 - val_loss: 1.5936 - val_accuracy: 0.5060\n",
            "Epoch 19/100\n",
            "1407/1407 [==============================] - 18s 13ms/step - loss: 1.0055 - accuracy: 0.6536 - val_loss: 1.7384 - val_accuracy: 0.5030\n",
            "Epoch 20/100\n",
            "1407/1407 [==============================] - 18s 13ms/step - loss: 0.9884 - accuracy: 0.6594 - val_loss: 1.6351 - val_accuracy: 0.5078\n",
            "Epoch 21/100\n",
            "1407/1407 [==============================] - 18s 13ms/step - loss: 0.9663 - accuracy: 0.6705 - val_loss: 1.6731 - val_accuracy: 0.5158\n",
            "Epoch 22/100\n",
            "1407/1407 [==============================] - 18s 13ms/step - loss: 1.7424 - accuracy: 0.5517 - val_loss: 1.6858 - val_accuracy: 0.4510\n",
            "Epoch 23/100\n",
            "1407/1407 [==============================] - 18s 13ms/step - loss: 1.2294 - accuracy: 0.5747 - val_loss: 1.6201 - val_accuracy: 0.4834\n",
            "Epoch 24/100\n",
            "1407/1407 [==============================] - 18s 13ms/step - loss: 1.1243 - accuracy: 0.6105 - val_loss: 1.7108 - val_accuracy: 0.4962\n",
            "Epoch 25/100\n",
            "1407/1407 [==============================] - 18s 13ms/step - loss: 1.0549 - accuracy: 0.6322 - val_loss: 1.6739 - val_accuracy: 0.4970\n",
            "Epoch 26/100\n",
            "1407/1407 [==============================] - 18s 13ms/step - loss: 0.9954 - accuracy: 0.6572 - val_loss: 1.6829 - val_accuracy: 0.4982\n",
            "Epoch 27/100\n",
            "1407/1407 [==============================] - 18s 13ms/step - loss: 0.9415 - accuracy: 0.6767 - val_loss: 1.6623 - val_accuracy: 0.5038\n",
            "Epoch 28/100\n",
            "1407/1407 [==============================] - 18s 13ms/step - loss: 0.9041 - accuracy: 0.6900 - val_loss: 1.6665 - val_accuracy: 0.5080\n",
            "157/157 [==============================] - 1s 4ms/step - loss: 1.5056 - accuracy: 0.4850\n"
          ]
        },
        {
          "output_type": "execute_result",
          "data": {
            "text/plain": [
              "[1.505560040473938, 0.48500001430511475]"
            ]
          },
          "metadata": {},
          "execution_count": 75
        }
      ]
    },
    {
      "cell_type": "markdown",
      "source": [
        "Let's use MC Dropout now. We will need the MCAlphaDropout class we used earlier, so let's just copy it here for convenience:\n",
        "\n"
      ],
      "metadata": {
        "id": "R25_bKC13Jgj"
      }
    },
    {
      "cell_type": "code",
      "source": [
        "class MCAlphaDropout(keras.layers.AlphaDropout):\n",
        "    def call(self, inputs):\n",
        "        return super().call(inputs, training=True)"
      ],
      "metadata": {
        "id": "xyXIbXnC3C6W"
      },
      "execution_count": 76,
      "outputs": []
    },
    {
      "cell_type": "code",
      "source": [
        "mc_model = keras.models.Sequential([\n",
        "    MCAlphaDropout(layer.rate) if isinstance(layer, keras.layers.AlphaDropout) else layer\n",
        "    for layer in model.layers\n",
        "])"
      ],
      "metadata": {
        "id": "mYvzpXf63K8w"
      },
      "execution_count": 77,
      "outputs": []
    },
    {
      "cell_type": "code",
      "source": [
        "def mc_dropout_predict_probas(mc_model, X, n_samples=10):\n",
        "    Y_probas = [mc_model.predict(X) for sample in range(n_samples)]\n",
        "    return np.mean(Y_probas, axis=0)\n",
        "\n",
        "def mc_dropout_predict_classes(mc_model, X, n_samples=10):\n",
        "    Y_probas = mc_dropout_predict_probas(mc_model, X, n_samples)\n",
        "    return np.argmax(Y_probas, axis=1)"
      ],
      "metadata": {
        "id": "Smi--RQp3L2-"
      },
      "execution_count": 78,
      "outputs": []
    },
    {
      "cell_type": "code",
      "source": [
        "keras.backend.clear_session()\n",
        "tf.random.set_seed(42)\n",
        "np.random.seed(42)\n",
        "\n",
        "y_pred = mc_dropout_predict_classes(mc_model, X_valid_scaled)\n",
        "accuracy = np.mean(y_pred == y_valid[:, 0])\n",
        "accuracy"
      ],
      "metadata": {
        "colab": {
          "base_uri": "https://localhost:8080/"
        },
        "id": "-bzcbJnm3M6I",
        "outputId": "5bf530c7-5dda-4a38-d2f6-a86d78d10291"
      },
      "execution_count": 79,
      "outputs": [
        {
          "output_type": "execute_result",
          "data": {
            "text/plain": [
              "0.4872"
            ]
          },
          "metadata": {},
          "execution_count": 79
        }
      ]
    },
    {
      "cell_type": "markdown",
      "source": [
        "Exercise: Retrain your model using 1cycle scheduling and see if it improves training speed and model accuracy.\n",
        "\n"
      ],
      "metadata": {
        "id": "wGtw4XSc3PGo"
      }
    },
    {
      "cell_type": "code",
      "source": [
        "keras.backend.clear_session()\n",
        "tf.random.set_seed(42)\n",
        "np.random.seed(42)\n",
        "\n",
        "model = keras.models.Sequential()\n",
        "model.add(keras.layers.Flatten(input_shape=[32, 32, 3]))\n",
        "for _ in range(20):\n",
        "    model.add(keras.layers.Dense(100,\n",
        "                                 kernel_initializer=\"lecun_normal\",\n",
        "                                 activation=\"selu\"))\n",
        "\n",
        "model.add(keras.layers.AlphaDropout(rate=0.1))\n",
        "model.add(keras.layers.Dense(10, activation=\"softmax\"))\n",
        "\n",
        "optimizer = keras.optimizers.SGD(learning_rate=1e-3)\n",
        "model.compile(loss=\"sparse_categorical_crossentropy\",\n",
        "              optimizer=optimizer,\n",
        "              metrics=[\"accuracy\"])\n",
        "batch_size = 128\n",
        "rates, losses = find_learning_rate(model, X_train_scaled, y_train, epochs=1, batch_size=batch_size)\n",
        "plot_lr_vs_loss(rates, losses)\n",
        "plt.axis([min(rates), max(rates), min(losses), (losses[0] + min(losses)) / 1.4])"
      ],
      "metadata": {
        "colab": {
          "base_uri": "https://localhost:8080/",
          "height": 381
        },
        "id": "r2pUzG7l3Nx6",
        "outputId": "a0b77502-6ed2-473b-a397-ef7c85c521a7"
      },
      "execution_count": 80,
      "outputs": [
        {
          "output_type": "stream",
          "name": "stdout",
          "text": [
            "352/352 [==============================] - 3s 7ms/step - loss: nan - accuracy: 0.1394\n"
          ]
        },
        {
          "output_type": "execute_result",
          "data": {
            "text/plain": [
              "(9.999999747378752e-06,\n",
              " 9.615227699279785,\n",
              " 2.0597217082977295,\n",
              " 3.608081681387765)"
            ]
          },
          "metadata": {},
          "execution_count": 80
        },
        {
          "output_type": "display_data",
          "data": {
            "image/png": "[encoded data removed]",
            "text/plain": [
              "<Figure size 432x288 with 1 Axes>"
            ]
          },
          "metadata": {
            "needs_background": "light"
          }
        }
      ]
    },
    {
      "cell_type": "code",
      "source": [
        "keras.backend.clear_session()\n",
        "tf.random.set_seed(42)\n",
        "np.random.seed(42)\n",
        "\n",
        "model = keras.models.Sequential()\n",
        "model.add(keras.layers.Flatten(input_shape=[32, 32, 3]))\n",
        "for _ in range(20):\n",
        "    model.add(keras.layers.Dense(100,\n",
        "                                 kernel_initializer=\"lecun_normal\",\n",
        "                                 activation=\"selu\"))\n",
        "\n",
        "model.add(keras.layers.AlphaDropout(rate=0.1))\n",
        "model.add(keras.layers.Dense(10, activation=\"softmax\"))\n",
        "\n",
        "optimizer = keras.optimizers.SGD(learning_rate=1e-2)\n",
        "model.compile(loss=\"sparse_categorical_crossentropy\",\n",
        "              optimizer=optimizer,\n",
        "              metrics=[\"accuracy\"])"
      ],
      "metadata": {
        "id": "7gMCkogD3RWF"
      },
      "execution_count": 81,
      "outputs": []
    },
    {
      "cell_type": "markdown",
      "source": [
        "## *** Find learning rate"
      ],
      "metadata": {
        "id": "3jFl3xq43gP1"
      }
    },
    {
      "cell_type": "code",
      "source": [
        "batch_size = 128\n",
        "rates, losses = find_learning_rate(model, X_train_scaled, y_train, epochs=1, batch_size=batch_size)\n",
        "plot_lr_vs_loss(rates, losses)"
      ],
      "metadata": {
        "colab": {
          "base_uri": "https://localhost:8080/",
          "height": 307
        },
        "id": "HEN7TTQl3S2A",
        "outputId": "ca06921f-7f9c-4a86-ead3-a74873d09eca"
      },
      "execution_count": 82,
      "outputs": [
        {
          "output_type": "stream",
          "name": "stdout",
          "text": [
            "352/352 [==============================] - 3s 7ms/step - loss: nan - accuracy: 0.1378\n"
          ]
        },
        {
          "output_type": "display_data",
          "data": {
            "image/png": "[encoded data removed]",
            "text/plain": [
              "<Figure size 432x288 with 1 Axes>"
            ]
          },
          "metadata": {
            "needs_background": "light"
          }
        }
      ]
    },
    {
      "cell_type": "code",
      "source": [
        "keras.backend.clear_session()\n",
        "tf.random.set_seed(42)\n",
        "np.random.seed(42)\n",
        "\n",
        "model = keras.models.Sequential()\n",
        "model.add(keras.layers.Flatten(input_shape=[32, 32, 3]))\n",
        "for _ in range(20):\n",
        "    model.add(keras.layers.Dense(100,\n",
        "                                 kernel_initializer=\"lecun_normal\",\n",
        "                                 activation=\"selu\"))\n",
        "\n",
        "model.add(keras.layers.AlphaDropout(rate=0.1))\n",
        "model.add(keras.layers.Dense(10, activation=\"softmax\"))\n",
        "\n",
        "optimizer = keras.optimizers.SGD(learning_rate=1e-2)\n",
        "model.compile(loss=\"sparse_categorical_crossentropy\",\n",
        "              optimizer=optimizer,\n",
        "              metrics=[\"accuracy\"])\n",
        "n_epochs = 15\n",
        "onecycle = OneCycleScheduler(math.ceil(len(X_train_scaled) / batch_size) * n_epochs, max_rate=0.05)\n",
        "history = model.fit(X_train_scaled, y_train, epochs=n_epochs, batch_size=batch_size,\n",
        "                    validation_data=(X_valid_scaled, y_valid),\n",
        "                    callbacks=[onecycle])"
      ],
      "metadata": {
        "colab": {
          "base_uri": "https://localhost:8080/"
        },
        "id": "CBkTII2i3kLr",
        "outputId": "9123c43e-3658-4f1c-d57b-77b15ee5d6fc"
      },
      "execution_count": 83,
      "outputs": [
        {
          "output_type": "stream",
          "name": "stdout",
          "text": [
            "Epoch 1/15\n",
            "352/352 [==============================] - 4s 8ms/step - loss: 2.0549 - accuracy: 0.2866 - val_loss: 1.7835 - val_accuracy: 0.3834\n",
            "Epoch 2/15\n",
            "352/352 [==============================] - 3s 7ms/step - loss: 1.7623 - accuracy: 0.3775 - val_loss: 1.6481 - val_accuracy: 0.4236\n",
            "Epoch 3/15\n",
            "352/352 [==============================] - 2s 7ms/step - loss: 1.6181 - accuracy: 0.4251 - val_loss: 1.6200 - val_accuracy: 0.4348\n",
            "Epoch 4/15\n",
            "352/352 [==============================] - 2s 7ms/step - loss: 1.5432 - accuracy: 0.4540 - val_loss: 1.6379 - val_accuracy: 0.4298\n",
            "Epoch 5/15\n",
            "352/352 [==============================] - 2s 7ms/step - loss: 1.4894 - accuracy: 0.4729 - val_loss: 1.5818 - val_accuracy: 0.4526\n",
            "Epoch 6/15\n",
            "352/352 [==============================] - 2s 7ms/step - loss: 1.4500 - accuracy: 0.4865 - val_loss: 1.5844 - val_accuracy: 0.4432\n",
            "Epoch 7/15\n",
            "352/352 [==============================] - 2s 7ms/step - loss: 1.4097 - accuracy: 0.5005 - val_loss: 1.5658 - val_accuracy: 0.4566\n",
            "Epoch 8/15\n",
            "352/352 [==============================] - 2s 7ms/step - loss: 1.3419 - accuracy: 0.5246 - val_loss: 1.4843 - val_accuracy: 0.4956\n",
            "Epoch 9/15\n",
            "352/352 [==============================] - 2s 7ms/step - loss: 1.2666 - accuracy: 0.5506 - val_loss: 1.5417 - val_accuracy: 0.4800\n",
            "Epoch 10/15\n",
            "352/352 [==============================] - 2s 7ms/step - loss: 1.1948 - accuracy: 0.5743 - val_loss: 1.5216 - val_accuracy: 0.5080\n",
            "Epoch 11/15\n",
            "352/352 [==============================] - 2s 7ms/step - loss: 1.1265 - accuracy: 0.5971 - val_loss: 1.5177 - val_accuracy: 0.4978\n",
            "Epoch 12/15\n",
            "352/352 [==============================] - 2s 7ms/step - loss: 1.0575 - accuracy: 0.6228 - val_loss: 1.5105 - val_accuracy: 0.5106\n",
            "Epoch 13/15\n",
            "352/352 [==============================] - 3s 7ms/step - loss: 0.9868 - accuracy: 0.6469 - val_loss: 1.5118 - val_accuracy: 0.5270\n",
            "Epoch 14/15\n",
            "352/352 [==============================] - 2s 7ms/step - loss: 0.9237 - accuracy: 0.6711 - val_loss: 1.5271 - val_accuracy: 0.5298\n",
            "Epoch 15/15\n",
            "352/352 [==============================] - 2s 7ms/step - loss: 0.8831 - accuracy: 0.6837 - val_loss: 1.5512 - val_accuracy: 0.5328\n"
          ]
        }
      ]
    },
    {
      "cell_type": "code",
      "source": [
        ""
      ],
      "metadata": {
        "id": "UWrstY4P3oSk"
      },
      "execution_count": null,
      "outputs": []
    }
  ]
}